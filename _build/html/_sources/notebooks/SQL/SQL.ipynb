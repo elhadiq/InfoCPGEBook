{
 "cells": [
  {
   "cell_type": "markdown",
   "id": "62a685cb",
   "metadata": {
    "slideshow": {
     "slide_type": "slide"
    }
   },
   "source": [
    "# Algèbre Relationnelle Et Langage SQL"
   ]
  },
  {
   "cell_type": "markdown",
   "id": "51397211",
   "metadata": {
    "slideshow": {
     "slide_type": "skip"
    }
   },
   "source": [
    "[Je reccomande ce site pour plus de d'infomrations en détaille sur le langage SQL](https://sql.sh)"
   ]
  },
  {
   "cell_type": "code",
   "execution_count": 2,
   "id": "bce96e32",
   "metadata": {
    "slideshow": {
     "slide_type": "skip"
    }
   },
   "outputs": [],
   "source": [
    "import sqlite3\n",
    "import pandas as pd\n",
    "con=sqlite3.connect(\"fifa/worldcup.db\")\n",
    "sql=lambda requete:pd.read_sql_query(requete,con)"
   ]
  },
  {
   "cell_type": "markdown",
   "id": "16298df0",
   "metadata": {
    "slideshow": {
     "slide_type": "slide"
    }
   },
   "source": [
    "## Plan\n",
    "1. Introduction\n",
    "1. Opérateurs unaires\n",
    "1. Opérateurs ensemblistes\n",
    "1. Opérateurs de jointure\n",
    "1. Opérateurs de division\n",
    "1. Opérateurs déduits\n",
    "1. Conclusion"
   ]
  },
  {
   "cell_type": "markdown",
   "id": "525cdccd",
   "metadata": {
    "slideshow": {
     "slide_type": "slide"
    }
   },
   "source": [
    "# Introduction\n",
    "L’algèbre relationnelle est un ensemble d’opérateurs que l’on peut appliquer à des relations, et dont le résultat est une relation.\n",
    "\n",
    "Comme le résultat est toujours une relation on pourra combiner les opérateurs : on forme ainsi, à partir d’opérateurs élémentaires, des requêtes élaborées.\n"
   ]
  },
  {
   "cell_type": "markdown",
   "id": "8ad1475c",
   "metadata": {
    "slideshow": {
     "slide_type": "subslide"
    }
   },
   "source": [
    "L’algèbre relationnelle possède plusieurs opérateurs :\n",
    "* Certains sont ensemblistes (selon la théorie des ensembles)\n",
    "* D’autres sont relationnels (spécifiques à la notion de relation)\n",
    "\n",
    "On peut aussi classer les opérateurs selon qu’ils s’appliquent à une(uniare) ou à plusieurs(n-aire) relations (tables)."
   ]
  },
  {
   "cell_type": "markdown",
   "id": "42a575e6",
   "metadata": {
    "slideshow": {
     "slide_type": "subslide"
    }
   },
   "source": [
    "Le langage SQL permet d’interroger une base de données à l’aide de la commande SELECT.\\\n",
    " Cette commande permet de :\n",
    "* Récupérer certaines colonnes (SELECT)\n",
    "* De certaines tables (FROM)\n",
    "* Récupérer certaines lignes (WHERE)\n",
    "* Regrouper certaines lignes (GROUP BY)\n",
    "* Filtrer après le regroupement (HAVING)\n",
    "* Trier les résultats (ORDER BY)\n",
    "* Limiter le nombre d’enregistrements retournés (LIMIT)"
   ]
  },
  {
   "cell_type": "markdown",
   "id": "1a3506b1",
   "metadata": {
    "slideshow": {
     "slide_type": "slide"
    }
   },
   "source": [
    "## Une Relation (Table)\n",
    "Une relation R est un sous-ensemble du produit cartésien de n domaines(ensembles) $D_1 , ..., D_n$ , $n \\in\\mathbb{N}$\n",
    "$$R\\subset D_1 \\times ...  \\times D_n$$\n",
    "Définie par son nom, et par son schéma"
   ]
  },
  {
   "cell_type": "markdown",
   "id": "14236f49",
   "metadata": {
    "slideshow": {
     "slide_type": "subslide"
    }
   },
   "source": [
    "**$\\large{\\text{Définition (schéma d’une relation)}}$**\n",
    "\n",
    "Le schéma d’une relation définit les domaines sur lesquels elle est construite et donne un nom à ces domaines. \\\n",
    "On note  $R(A_1 : D_1 , ..., A_n : D_n)$\n",
    "* Les noms d’attributs d’un même schéma doivent être tous différents.\n",
    "* **Exemple :** Personne(nom : texte, âge : entier, marié : booléen) \n",
    "* Lorsque l’indication des domaines n’est pas requise, un schéma de relation pourra être noté : $(A_1 , ..., A_n )$"
   ]
  },
  {
   "cell_type": "markdown",
   "id": "5571263b",
   "metadata": {
    "slideshow": {
     "slide_type": "slide"
    }
   },
   "source": [
    "## La Projection\n",
    "La projection sur une relation (table) R définit une relation P restreinte à un sous-ensemble des attributs (colonnes) de R, en extrayant les valeurs des attributs spécifiés et en supprimant les doublons.\n",
    "\n",
    "Notation :\\\n",
    "Soit R une relation n-aire, et $\\sigma \\in S_n$  une permutation, et $r\\leq n$\n",
    "\n",
    "Alors la projection de R suivant les attributs $A_{\\sigma(1)},...,A_{\\sigma(r)}$  noté  $\\Pi_{A_{\\sigma(1)},...,A_{\\sigma(r)}}(R)$ est définie par: \n",
    "\n",
    "$$P:=\\Pi_{A_{\\sigma(1)},...,A_{\\sigma(r)}}(R)=\\{ (v_{\\sigma(1)},v_{\\sigma(2)},...,v_{\\sigma(r)}) | (v_1,v_2,...,v_n) \\in R \\}$$\n",
    "\n",
    "avec $A_1, ... , A_n$ sont des attributs (colonnes) de R.\n",
    "\n"
   ]
  },
  {
   "cell_type": "markdown",
   "id": "ace92a34",
   "metadata": {
    "slideshow": {
     "slide_type": "slide"
    }
   },
   "source": [
    "**Requête SQL :**\n",
    "```sql\n",
    "SELECT A1 , ..., Ap FROM R;\n",
    "ou bien \n",
    "SELECT DISTINCT A1 , ..., Ap FROM R;\n",
    "```\n",
    "Le mot clé **DISTINCT** permet de supprimer les doublons."
   ]
  },
  {
   "cell_type": "markdown",
   "id": "8ebcefde",
   "metadata": {
    "slideshow": {
     "slide_type": "slide"
    }
   },
   "source": [
    "**Obtenir toutes les colonnes d’un tableau**\n",
    "\n",
    "Il est possible de retourner automatiquement toutes les colonnes d’un tableau sans avoir à connaître le nom de toutes les colonnes. Au lieu de lister toutes les colonnes, il faut simplement utiliser le caractère \"*\" (étoile). C’est un joker qui permet de sélectionner toutes les colonnes. Il s’utilise de la manière suivante:\n",
    "```sql\n",
    "SELECT * FROM table\n",
    "```"
   ]
  },
  {
   "cell_type": "markdown",
   "id": "89666211",
   "metadata": {
    "slideshow": {
     "slide_type": "slide"
    }
   },
   "source": [
    "**Exemple :**\n",
    "\n",
    "Soit le modèle relationnel : **confederations(confederation_id, confederation_name, confederation_code, confederation_wikipedia_link)**\n",
    "\n",
    "Afficher toutes les informations des confederations\n",
    "```SQL\n",
    "select * from confederations\n",
    "```\n"
   ]
  },
  {
   "cell_type": "code",
   "execution_count": 17,
   "id": "c814a134",
   "metadata": {
    "slideshow": {
     "slide_type": "fragment"
    }
   },
   "outputs": [
    {
     "data": {
      "text/html": [
       "<div>\n",
       "<style scoped>\n",
       "    .dataframe tbody tr th:only-of-type {\n",
       "        vertical-align: middle;\n",
       "    }\n",
       "\n",
       "    .dataframe tbody tr th {\n",
       "        vertical-align: top;\n",
       "    }\n",
       "\n",
       "    .dataframe thead th {\n",
       "        text-align: right;\n",
       "    }\n",
       "</style>\n",
       "<table border=\"1\" class=\"dataframe\">\n",
       "  <thead>\n",
       "    <tr style=\"text-align: right;\">\n",
       "      <th></th>\n",
       "      <th>confederation_id</th>\n",
       "      <th>confederation_name</th>\n",
       "      <th>confederation_code</th>\n",
       "      <th>confederation_wikipedia_link</th>\n",
       "    </tr>\n",
       "  </thead>\n",
       "  <tbody>\n",
       "    <tr>\n",
       "      <th>0</th>\n",
       "      <td>CF-1</td>\n",
       "      <td>Asian Football Confederation</td>\n",
       "      <td>AFC</td>\n",
       "      <td>https://en.wikipedia.org/wiki/Asian_Football_C...</td>\n",
       "    </tr>\n",
       "    <tr>\n",
       "      <th>1</th>\n",
       "      <td>CF-2</td>\n",
       "      <td>Confederation of African Football</td>\n",
       "      <td>CAF</td>\n",
       "      <td>https://en.wikipedia.org/wiki/Confederation_of...</td>\n",
       "    </tr>\n",
       "    <tr>\n",
       "      <th>2</th>\n",
       "      <td>CF-3</td>\n",
       "      <td>Confederation of North, Central American and C...</td>\n",
       "      <td>CONCACAF</td>\n",
       "      <td>https://en.wikipedia.org/wiki/CONCACAF</td>\n",
       "    </tr>\n",
       "    <tr>\n",
       "      <th>3</th>\n",
       "      <td>CF-4</td>\n",
       "      <td>South American Football Confederation</td>\n",
       "      <td>CONMEBOL</td>\n",
       "      <td>https://en.wikipedia.org/wiki/CONMEBOL</td>\n",
       "    </tr>\n",
       "    <tr>\n",
       "      <th>4</th>\n",
       "      <td>CF-5</td>\n",
       "      <td>Oceania Football Confederation</td>\n",
       "      <td>OFC</td>\n",
       "      <td>https://en.wikipedia.org/wiki/Oceania_Football...</td>\n",
       "    </tr>\n",
       "    <tr>\n",
       "      <th>5</th>\n",
       "      <td>CF-6</td>\n",
       "      <td>Union of European Football Associations</td>\n",
       "      <td>UEFA</td>\n",
       "      <td>https://en.wikipedia.org/wiki/UEFA</td>\n",
       "    </tr>\n",
       "  </tbody>\n",
       "</table>\n",
       "</div>"
      ],
      "text/plain": [
       "  confederation_id                                 confederation_name  \\\n",
       "0             CF-1                       Asian Football Confederation   \n",
       "1             CF-2                  Confederation of African Football   \n",
       "2             CF-3  Confederation of North, Central American and C...   \n",
       "3             CF-4              South American Football Confederation   \n",
       "4             CF-5                     Oceania Football Confederation   \n",
       "5             CF-6            Union of European Football Associations   \n",
       "\n",
       "  confederation_code                       confederation_wikipedia_link  \n",
       "0                AFC  https://en.wikipedia.org/wiki/Asian_Football_C...  \n",
       "1                CAF  https://en.wikipedia.org/wiki/Confederation_of...  \n",
       "2           CONCACAF             https://en.wikipedia.org/wiki/CONCACAF  \n",
       "3           CONMEBOL             https://en.wikipedia.org/wiki/CONMEBOL  \n",
       "4                OFC  https://en.wikipedia.org/wiki/Oceania_Football...  \n",
       "5               UEFA                 https://en.wikipedia.org/wiki/UEFA  "
      ]
     },
     "execution_count": 17,
     "metadata": {},
     "output_type": "execute_result"
    }
   ],
   "source": [
    "sql(\"select * from confederations\")"
   ]
  },
  {
   "cell_type": "markdown",
   "id": "d313dbc4",
   "metadata": {
    "slideshow": {
     "slide_type": "slide"
    }
   },
   "source": [
    "Afficher les confederation_names et confederation_code des confederations :\n",
    "\n",
    "$$PI_{\\text{confederation\\_name,confederation\\_code}}(confederations)$$\n",
    "\n",
    "```SQL\n",
    "SELECT confederation_name,confederation_code\n",
    "FROM confederations\n",
    "```\n"
   ]
  },
  {
   "cell_type": "code",
   "execution_count": 3,
   "id": "08edffd2",
   "metadata": {
    "scrolled": false,
    "slideshow": {
     "slide_type": "fragment"
    }
   },
   "outputs": [
    {
     "data": {
      "text/html": [
       "<div>\n",
       "<style scoped>\n",
       "    .dataframe tbody tr th:only-of-type {\n",
       "        vertical-align: middle;\n",
       "    }\n",
       "\n",
       "    .dataframe tbody tr th {\n",
       "        vertical-align: top;\n",
       "    }\n",
       "\n",
       "    .dataframe thead th {\n",
       "        text-align: right;\n",
       "    }\n",
       "</style>\n",
       "<table border=\"1\" class=\"dataframe\">\n",
       "  <thead>\n",
       "    <tr style=\"text-align: right;\">\n",
       "      <th></th>\n",
       "      <th>confederation_name</th>\n",
       "      <th>confederation_code</th>\n",
       "    </tr>\n",
       "  </thead>\n",
       "  <tbody>\n",
       "    <tr>\n",
       "      <th>0</th>\n",
       "      <td>Asian Football Confederation</td>\n",
       "      <td>AFC</td>\n",
       "    </tr>\n",
       "    <tr>\n",
       "      <th>1</th>\n",
       "      <td>Confederation of African Football</td>\n",
       "      <td>CAF</td>\n",
       "    </tr>\n",
       "    <tr>\n",
       "      <th>2</th>\n",
       "      <td>Confederation of North, Central American and C...</td>\n",
       "      <td>CONCACAF</td>\n",
       "    </tr>\n",
       "    <tr>\n",
       "      <th>3</th>\n",
       "      <td>South American Football Confederation</td>\n",
       "      <td>CONMEBOL</td>\n",
       "    </tr>\n",
       "    <tr>\n",
       "      <th>4</th>\n",
       "      <td>Oceania Football Confederation</td>\n",
       "      <td>OFC</td>\n",
       "    </tr>\n",
       "    <tr>\n",
       "      <th>5</th>\n",
       "      <td>Union of European Football Associations</td>\n",
       "      <td>UEFA</td>\n",
       "    </tr>\n",
       "  </tbody>\n",
       "</table>\n",
       "</div>"
      ],
      "text/plain": [
       "                                  confederation_name confederation_code\n",
       "0                       Asian Football Confederation                AFC\n",
       "1                  Confederation of African Football                CAF\n",
       "2  Confederation of North, Central American and C...           CONCACAF\n",
       "3              South American Football Confederation           CONMEBOL\n",
       "4                     Oceania Football Confederation                OFC\n",
       "5            Union of European Football Associations               UEFA"
      ]
     },
     "execution_count": 3,
     "metadata": {},
     "output_type": "execute_result"
    }
   ],
   "source": [
    "sql(\"\"\"\n",
    "SELECT confederation_name,confederation_code\n",
    "FROM confederations\n",
    "\"\"\")"
   ]
  },
  {
   "cell_type": "markdown",
   "id": "99060174",
   "metadata": {
    "slideshow": {
     "slide_type": "slide"
    }
   },
   "source": [
    "## Suppression des doublons\n",
    "\n",
    "L’utilisation de la commande **SELECT** en SQL permet de lire toutes les données d’une ou plusieurs colonnes. Cette commande peut potentiellement afficher des lignes en doubles. Pour éviter des redondances dans les résultats il faut simplement ajouter **DISTINCT** après le mot **SELECT**.\n",
    "\n",
    "Commande basique\n",
    "\n",
    "L’utilisation basique de cette commande consiste alors à effectuer la requête suivante:\n",
    "```SQL\n",
    "SELECT DISTINCT ma_colonne\n",
    "FROM nom_du_tableau\n",
    "```"
   ]
  },
  {
   "cell_type": "code",
   "execution_count": 27,
   "id": "cf35a32a",
   "metadata": {
    "scrolled": true,
    "slideshow": {
     "slide_type": "slide"
    }
   },
   "outputs": [
    {
     "data": {
      "text/html": [
       "<div>\n",
       "<style scoped>\n",
       "    .dataframe tbody tr th:only-of-type {\n",
       "        vertical-align: middle;\n",
       "    }\n",
       "\n",
       "    .dataframe tbody tr th {\n",
       "        vertical-align: top;\n",
       "    }\n",
       "\n",
       "    .dataframe thead th {\n",
       "        text-align: right;\n",
       "    }\n",
       "</style>\n",
       "<table border=\"1\" class=\"dataframe\">\n",
       "  <thead>\n",
       "    <tr style=\"text-align: right;\">\n",
       "      <th></th>\n",
       "      <th>host_country</th>\n",
       "    </tr>\n",
       "  </thead>\n",
       "  <tbody>\n",
       "    <tr>\n",
       "      <th>0</th>\n",
       "      <td>Uruguay</td>\n",
       "    </tr>\n",
       "    <tr>\n",
       "      <th>1</th>\n",
       "      <td>Italy</td>\n",
       "    </tr>\n",
       "    <tr>\n",
       "      <th>2</th>\n",
       "      <td>France</td>\n",
       "    </tr>\n",
       "    <tr>\n",
       "      <th>3</th>\n",
       "      <td>Brazil</td>\n",
       "    </tr>\n",
       "    <tr>\n",
       "      <th>4</th>\n",
       "      <td>Switzerland</td>\n",
       "    </tr>\n",
       "    <tr>\n",
       "      <th>5</th>\n",
       "      <td>Sweden</td>\n",
       "    </tr>\n",
       "    <tr>\n",
       "      <th>6</th>\n",
       "      <td>Chile</td>\n",
       "    </tr>\n",
       "    <tr>\n",
       "      <th>7</th>\n",
       "      <td>England</td>\n",
       "    </tr>\n",
       "    <tr>\n",
       "      <th>8</th>\n",
       "      <td>Mexico</td>\n",
       "    </tr>\n",
       "    <tr>\n",
       "      <th>9</th>\n",
       "      <td>West Germany</td>\n",
       "    </tr>\n",
       "    <tr>\n",
       "      <th>10</th>\n",
       "      <td>Argentina</td>\n",
       "    </tr>\n",
       "    <tr>\n",
       "      <th>11</th>\n",
       "      <td>Spain</td>\n",
       "    </tr>\n",
       "    <tr>\n",
       "      <th>12</th>\n",
       "      <td>United States</td>\n",
       "    </tr>\n",
       "    <tr>\n",
       "      <th>13</th>\n",
       "      <td>Korea, Japan</td>\n",
       "    </tr>\n",
       "    <tr>\n",
       "      <th>14</th>\n",
       "      <td>Germany</td>\n",
       "    </tr>\n",
       "    <tr>\n",
       "      <th>15</th>\n",
       "      <td>South Africa</td>\n",
       "    </tr>\n",
       "    <tr>\n",
       "      <th>16</th>\n",
       "      <td>Russia</td>\n",
       "    </tr>\n",
       "    <tr>\n",
       "      <th>17</th>\n",
       "      <td>Qatar</td>\n",
       "    </tr>\n",
       "  </tbody>\n",
       "</table>\n",
       "</div>"
      ],
      "text/plain": [
       "     host_country\n",
       "0         Uruguay\n",
       "1           Italy\n",
       "2          France\n",
       "3          Brazil\n",
       "4     Switzerland\n",
       "5          Sweden\n",
       "6           Chile\n",
       "7         England\n",
       "8          Mexico\n",
       "9    West Germany\n",
       "10      Argentina\n",
       "11          Spain\n",
       "12  United States\n",
       "13   Korea, Japan\n",
       "14        Germany\n",
       "15   South Africa\n",
       "16         Russia\n",
       "17          Qatar"
      ]
     },
     "execution_count": 27,
     "metadata": {},
     "output_type": "execute_result"
    }
   ],
   "source": [
    "sql(\"\"\"\n",
    "select distinct host_country from tournaments\n",
    "\"\"\"\n",
    ")"
   ]
  },
  {
   "cell_type": "code",
   "execution_count": 20,
   "id": "3063ef81",
   "metadata": {
    "slideshow": {
     "slide_type": "subslide"
    }
   },
   "outputs": [
    {
     "data": {
      "text/html": [
       "<div>\n",
       "<style scoped>\n",
       "    .dataframe tbody tr th:only-of-type {\n",
       "        vertical-align: middle;\n",
       "    }\n",
       "\n",
       "    .dataframe tbody tr th {\n",
       "        vertical-align: top;\n",
       "    }\n",
       "\n",
       "    .dataframe thead th {\n",
       "        text-align: right;\n",
       "    }\n",
       "</style>\n",
       "<table border=\"1\" class=\"dataframe\">\n",
       "  <thead>\n",
       "    <tr style=\"text-align: right;\">\n",
       "      <th></th>\n",
       "      <th>host_country</th>\n",
       "    </tr>\n",
       "  </thead>\n",
       "  <tbody>\n",
       "    <tr>\n",
       "      <th>0</th>\n",
       "      <td>Uruguay</td>\n",
       "    </tr>\n",
       "    <tr>\n",
       "      <th>1</th>\n",
       "      <td>Italy</td>\n",
       "    </tr>\n",
       "    <tr>\n",
       "      <th>2</th>\n",
       "      <td>France</td>\n",
       "    </tr>\n",
       "    <tr>\n",
       "      <th>3</th>\n",
       "      <td>Brazil</td>\n",
       "    </tr>\n",
       "    <tr>\n",
       "      <th>4</th>\n",
       "      <td>Switzerland</td>\n",
       "    </tr>\n",
       "    <tr>\n",
       "      <th>5</th>\n",
       "      <td>Sweden</td>\n",
       "    </tr>\n",
       "    <tr>\n",
       "      <th>6</th>\n",
       "      <td>Chile</td>\n",
       "    </tr>\n",
       "    <tr>\n",
       "      <th>7</th>\n",
       "      <td>England</td>\n",
       "    </tr>\n",
       "    <tr>\n",
       "      <th>8</th>\n",
       "      <td>Mexico</td>\n",
       "    </tr>\n",
       "    <tr>\n",
       "      <th>9</th>\n",
       "      <td>West Germany</td>\n",
       "    </tr>\n",
       "    <tr>\n",
       "      <th>10</th>\n",
       "      <td>Argentina</td>\n",
       "    </tr>\n",
       "    <tr>\n",
       "      <th>11</th>\n",
       "      <td>Spain</td>\n",
       "    </tr>\n",
       "    <tr>\n",
       "      <th>12</th>\n",
       "      <td>United States</td>\n",
       "    </tr>\n",
       "    <tr>\n",
       "      <th>13</th>\n",
       "      <td>Korea, Japan</td>\n",
       "    </tr>\n",
       "    <tr>\n",
       "      <th>14</th>\n",
       "      <td>Germany</td>\n",
       "    </tr>\n",
       "    <tr>\n",
       "      <th>15</th>\n",
       "      <td>South Africa</td>\n",
       "    </tr>\n",
       "    <tr>\n",
       "      <th>16</th>\n",
       "      <td>Russia</td>\n",
       "    </tr>\n",
       "    <tr>\n",
       "      <th>17</th>\n",
       "      <td>Qatar</td>\n",
       "    </tr>\n",
       "  </tbody>\n",
       "</table>\n",
       "</div>"
      ],
      "text/plain": [
       "     host_country\n",
       "0         Uruguay\n",
       "1           Italy\n",
       "2          France\n",
       "3          Brazil\n",
       "4     Switzerland\n",
       "5          Sweden\n",
       "6           Chile\n",
       "7         England\n",
       "8          Mexico\n",
       "9    West Germany\n",
       "10      Argentina\n",
       "11          Spain\n",
       "12  United States\n",
       "13   Korea, Japan\n",
       "14        Germany\n",
       "15   South Africa\n",
       "16         Russia\n",
       "17          Qatar"
      ]
     },
     "execution_count": 20,
     "metadata": {},
     "output_type": "execute_result"
    }
   ],
   "source": [
    "sql(\"\"\"\n",
    "select distinct host_country from tournaments\n",
    "\"\"\")"
   ]
  },
  {
   "cell_type": "markdown",
   "id": "ad4e609b",
   "metadata": {
    "slideshow": {
     "slide_type": "slide"
    }
   },
   "source": [
    "## La sélection\n",
    "La sélection sur une relation R définit une relation T de même schéma qui ne contient que les tuples (lignes) de R qui satisfont à la condition (ou prédicat) spécifiée.\n",
    "\n",
    "Notation :\n",
    "\n",
    "$S=\\sigma_{\\text{condition}}(R)= \\{ ligne \\in R  \\text{ ligne satisfait condition} \\} $"
   ]
  },
  {
   "cell_type": "markdown",
   "id": "97b96fe2",
   "metadata": {
    "slideshow": {
     "slide_type": "subslide"
    }
   },
   "source": [
    "La condition (prédicat) est une expression logique faisant intervenir :\n",
    "- les colonnes de la table\n",
    "- des constantes\n",
    "- les opérateurs de comparaison $=, \\neq,<,>, \\leq, \\geq$\n",
    "- les opérateurs logique ET $(\\wedge), \\mathrm{OU}(\\vee), \\mathrm{NON}(\\neg)$ pour faire la combinaison de plusieurs conditions."
   ]
  },
  {
   "cell_type": "markdown",
   "id": "95ee6daa",
   "metadata": {
    "slideshow": {
     "slide_type": "slide"
    }
   },
   "source": [
    "La condition, en SQL, peut contenir les comparateurs :\n",
    "\n",
    "- $=$ ou $!=$ (ou bien $< >$)\n",
    "- $>$, $<$, $\\geq$, $\\leq$ \n",
    "- *LIKE* ’modèle’\n",
    "- *IN* ($valeur_1$,. . . , $valeur_N$)\n",
    "- *BETWEEN* . . . *AND* . . .\n",
    "- *IS NULL, IS NOT NULL*\n",
    "- *AND, OR, NOT*\n",
    "- La fonction *strftime (format, time)* sur les dates : ( $\\%$d : le jour,\n",
    "$\\%$m : le mois , $\\%$Y : l’année,$\\%$H : l’heure, $\\%$M : les minutes, $\\%$S : les\n",
    "secondes . . . )\n"
   ]
  },
  {
   "cell_type": "markdown",
   "id": "509725ff",
   "metadata": {
    "slideshow": {
     "slide_type": "slide"
    }
   },
   "source": [
    "**Exemple:** \\\n",
    "Soit le modèle relationnel :\n",
    "\n",
    "**tournaments(tournament_id,tournament_name,year,start_date DATE,end_date,  host_country ,\n",
    "  winner ,  host_won ,  count_teams ,  group_stage ,  second_group_stage ,  final_round ,  round_of_16 ,  quarter_finals ,  semi_finals ,  third_place_match ,  final ,\n",
    ");**\n",
    "\n",
    "Afficher les tournament_id et tournament_name des tournaments dont le champion est le Brazil :\n"
   ]
  },
  {
   "cell_type": "markdown",
   "id": "85cfbcdd",
   "metadata": {
    "slideshow": {
     "slide_type": "subslide"
    }
   },
   "source": [
    "```SQL\n",
    "SELECT tournament_id,tournament_name\n",
    "FROM tournaments \n",
    "WHERE winner= 'Brazil' ;\n",
    "```\n",
    "Ou bien\n",
    "```SQL\n",
    "SELECT tournament_id,tournament_name\n",
    "FROM tournaments \n",
    "WHERE winner like 'Brazil' ;\n",
    "```"
   ]
  },
  {
   "cell_type": "code",
   "execution_count": 4,
   "id": "832dbdc7",
   "metadata": {
    "scrolled": true,
    "slideshow": {
     "slide_type": "subslide"
    }
   },
   "outputs": [
    {
     "data": {
      "text/html": [
       "<div>\n",
       "<style scoped>\n",
       "    .dataframe tbody tr th:only-of-type {\n",
       "        vertical-align: middle;\n",
       "    }\n",
       "\n",
       "    .dataframe tbody tr th {\n",
       "        vertical-align: top;\n",
       "    }\n",
       "\n",
       "    .dataframe thead th {\n",
       "        text-align: right;\n",
       "    }\n",
       "</style>\n",
       "<table border=\"1\" class=\"dataframe\">\n",
       "  <thead>\n",
       "    <tr style=\"text-align: right;\">\n",
       "      <th></th>\n",
       "      <th>tournament_id</th>\n",
       "      <th>tournament_name</th>\n",
       "    </tr>\n",
       "  </thead>\n",
       "  <tbody>\n",
       "    <tr>\n",
       "      <th>0</th>\n",
       "      <td>WC-1958</td>\n",
       "      <td>1958 FIFA World Cup</td>\n",
       "    </tr>\n",
       "    <tr>\n",
       "      <th>1</th>\n",
       "      <td>WC-1962</td>\n",
       "      <td>1962 FIFA World Cup</td>\n",
       "    </tr>\n",
       "    <tr>\n",
       "      <th>2</th>\n",
       "      <td>WC-1970</td>\n",
       "      <td>1970 FIFA World Cup</td>\n",
       "    </tr>\n",
       "    <tr>\n",
       "      <th>3</th>\n",
       "      <td>WC-1994</td>\n",
       "      <td>1994 FIFA World Cup</td>\n",
       "    </tr>\n",
       "    <tr>\n",
       "      <th>4</th>\n",
       "      <td>WC-2002</td>\n",
       "      <td>2002 FIFA World Cup</td>\n",
       "    </tr>\n",
       "  </tbody>\n",
       "</table>\n",
       "</div>"
      ],
      "text/plain": [
       "  tournament_id      tournament_name\n",
       "0       WC-1958  1958 FIFA World Cup\n",
       "1       WC-1962  1962 FIFA World Cup\n",
       "2       WC-1970  1970 FIFA World Cup\n",
       "3       WC-1994  1994 FIFA World Cup\n",
       "4       WC-2002  2002 FIFA World Cup"
      ]
     },
     "execution_count": 4,
     "metadata": {},
     "output_type": "execute_result"
    }
   ],
   "source": [
    "sql(\"\"\"\n",
    "SELECT tournament_id,tournament_name\n",
    "FROM tournaments \n",
    "WHERE winner= 'Brazil' ;\n",
    "\"\"\")"
   ]
  },
  {
   "cell_type": "code",
   "execution_count": 5,
   "id": "e3e77998",
   "metadata": {
    "scrolled": true,
    "slideshow": {
     "slide_type": "subslide"
    }
   },
   "outputs": [
    {
     "data": {
      "text/html": [
       "<div>\n",
       "<style scoped>\n",
       "    .dataframe tbody tr th:only-of-type {\n",
       "        vertical-align: middle;\n",
       "    }\n",
       "\n",
       "    .dataframe tbody tr th {\n",
       "        vertical-align: top;\n",
       "    }\n",
       "\n",
       "    .dataframe thead th {\n",
       "        text-align: right;\n",
       "    }\n",
       "</style>\n",
       "<table border=\"1\" class=\"dataframe\">\n",
       "  <thead>\n",
       "    <tr style=\"text-align: right;\">\n",
       "      <th></th>\n",
       "      <th>tournament_id</th>\n",
       "      <th>tournament_name</th>\n",
       "    </tr>\n",
       "  </thead>\n",
       "  <tbody>\n",
       "    <tr>\n",
       "      <th>0</th>\n",
       "      <td>WC-1958</td>\n",
       "      <td>1958 FIFA World Cup</td>\n",
       "    </tr>\n",
       "    <tr>\n",
       "      <th>1</th>\n",
       "      <td>WC-1962</td>\n",
       "      <td>1962 FIFA World Cup</td>\n",
       "    </tr>\n",
       "    <tr>\n",
       "      <th>2</th>\n",
       "      <td>WC-1970</td>\n",
       "      <td>1970 FIFA World Cup</td>\n",
       "    </tr>\n",
       "    <tr>\n",
       "      <th>3</th>\n",
       "      <td>WC-1994</td>\n",
       "      <td>1994 FIFA World Cup</td>\n",
       "    </tr>\n",
       "    <tr>\n",
       "      <th>4</th>\n",
       "      <td>WC-2002</td>\n",
       "      <td>2002 FIFA World Cup</td>\n",
       "    </tr>\n",
       "  </tbody>\n",
       "</table>\n",
       "</div>"
      ],
      "text/plain": [
       "  tournament_id      tournament_name\n",
       "0       WC-1958  1958 FIFA World Cup\n",
       "1       WC-1962  1962 FIFA World Cup\n",
       "2       WC-1970  1970 FIFA World Cup\n",
       "3       WC-1994  1994 FIFA World Cup\n",
       "4       WC-2002  2002 FIFA World Cup"
      ]
     },
     "execution_count": 5,
     "metadata": {},
     "output_type": "execute_result"
    }
   ],
   "source": [
    "sql(\"\"\"\n",
    "SELECT tournament_id,tournament_name\n",
    "FROM tournaments \n",
    "WHERE winner like 'Brazil' ;\n",
    "\"\"\")"
   ]
  },
  {
   "cell_type": "markdown",
   "id": "3a8cc244",
   "metadata": {
    "slideshow": {
     "slide_type": "slide"
    }
   },
   "source": [
    "**Exemple**\n",
    "Afficher les tournament_id et tournament_name et winner des tournaments dont le champion est le Brazil ou Italy:"
   ]
  },
  {
   "cell_type": "markdown",
   "id": "4ed17c61",
   "metadata": {
    "slideshow": {
     "slide_type": "fragment"
    }
   },
   "source": [
    "```SQL\n",
    "SELECT tournament_id,tournament_name, winner\n",
    "FROM tournaments \n",
    "WHERE winner= 'Brazil' or winner like \"Italy\" ;\n",
    "```\n",
    "Ou bien\n",
    "```SQL\n",
    "SELECT tournament_id,tournament_name, winner\n",
    "FROM tournaments \n",
    "WHERE winner in ('Brazil',\"Italy\") ;\n",
    "```"
   ]
  },
  {
   "cell_type": "code",
   "execution_count": 12,
   "id": "9a89629c",
   "metadata": {
    "scrolled": false
   },
   "outputs": [
    {
     "data": {
      "text/html": [
       "<div>\n",
       "<style scoped>\n",
       "    .dataframe tbody tr th:only-of-type {\n",
       "        vertical-align: middle;\n",
       "    }\n",
       "\n",
       "    .dataframe tbody tr th {\n",
       "        vertical-align: top;\n",
       "    }\n",
       "\n",
       "    .dataframe thead th {\n",
       "        text-align: right;\n",
       "    }\n",
       "</style>\n",
       "<table border=\"1\" class=\"dataframe\">\n",
       "  <thead>\n",
       "    <tr style=\"text-align: right;\">\n",
       "      <th></th>\n",
       "      <th>tournament_id</th>\n",
       "      <th>tournament_name</th>\n",
       "      <th>winner</th>\n",
       "    </tr>\n",
       "  </thead>\n",
       "  <tbody>\n",
       "    <tr>\n",
       "      <th>0</th>\n",
       "      <td>WC-1934</td>\n",
       "      <td>1934 FIFA World Cup</td>\n",
       "      <td>Italy</td>\n",
       "    </tr>\n",
       "    <tr>\n",
       "      <th>1</th>\n",
       "      <td>WC-1938</td>\n",
       "      <td>1938 FIFA World Cup</td>\n",
       "      <td>Italy</td>\n",
       "    </tr>\n",
       "    <tr>\n",
       "      <th>2</th>\n",
       "      <td>WC-1958</td>\n",
       "      <td>1958 FIFA World Cup</td>\n",
       "      <td>Brazil</td>\n",
       "    </tr>\n",
       "    <tr>\n",
       "      <th>3</th>\n",
       "      <td>WC-1962</td>\n",
       "      <td>1962 FIFA World Cup</td>\n",
       "      <td>Brazil</td>\n",
       "    </tr>\n",
       "    <tr>\n",
       "      <th>4</th>\n",
       "      <td>WC-1970</td>\n",
       "      <td>1970 FIFA World Cup</td>\n",
       "      <td>Brazil</td>\n",
       "    </tr>\n",
       "    <tr>\n",
       "      <th>5</th>\n",
       "      <td>WC-1982</td>\n",
       "      <td>1982 FIFA World Cup</td>\n",
       "      <td>Italy</td>\n",
       "    </tr>\n",
       "    <tr>\n",
       "      <th>6</th>\n",
       "      <td>WC-1994</td>\n",
       "      <td>1994 FIFA World Cup</td>\n",
       "      <td>Brazil</td>\n",
       "    </tr>\n",
       "    <tr>\n",
       "      <th>7</th>\n",
       "      <td>WC-2002</td>\n",
       "      <td>2002 FIFA World Cup</td>\n",
       "      <td>Brazil</td>\n",
       "    </tr>\n",
       "    <tr>\n",
       "      <th>8</th>\n",
       "      <td>WC-2006</td>\n",
       "      <td>2006 FIFA World Cup</td>\n",
       "      <td>Italy</td>\n",
       "    </tr>\n",
       "  </tbody>\n",
       "</table>\n",
       "</div>"
      ],
      "text/plain": [
       "  tournament_id      tournament_name  winner\n",
       "0       WC-1934  1934 FIFA World Cup   Italy\n",
       "1       WC-1938  1938 FIFA World Cup   Italy\n",
       "2       WC-1958  1958 FIFA World Cup  Brazil\n",
       "3       WC-1962  1962 FIFA World Cup  Brazil\n",
       "4       WC-1970  1970 FIFA World Cup  Brazil\n",
       "5       WC-1982  1982 FIFA World Cup   Italy\n",
       "6       WC-1994  1994 FIFA World Cup  Brazil\n",
       "7       WC-2002  2002 FIFA World Cup  Brazil\n",
       "8       WC-2006  2006 FIFA World Cup   Italy"
      ]
     },
     "execution_count": 12,
     "metadata": {},
     "output_type": "execute_result"
    }
   ],
   "source": [
    "sql(\"\"\"\n",
    "SELECT tournament_id,tournament_name, winner\n",
    "FROM tournaments \n",
    "WHERE winner= 'Brazil' or winner like \"Italy\" ;\n",
    "\"\"\")"
   ]
  },
  {
   "cell_type": "code",
   "execution_count": 30,
   "id": "133d6669",
   "metadata": {
    "scrolled": false
   },
   "outputs": [
    {
     "data": {
      "text/html": [
       "<div>\n",
       "<style scoped>\n",
       "    .dataframe tbody tr th:only-of-type {\n",
       "        vertical-align: middle;\n",
       "    }\n",
       "\n",
       "    .dataframe tbody tr th {\n",
       "        vertical-align: top;\n",
       "    }\n",
       "\n",
       "    .dataframe thead th {\n",
       "        text-align: right;\n",
       "    }\n",
       "</style>\n",
       "<table border=\"1\" class=\"dataframe\">\n",
       "  <thead>\n",
       "    <tr style=\"text-align: right;\">\n",
       "      <th></th>\n",
       "      <th>tournament_id</th>\n",
       "      <th>tournament_name</th>\n",
       "      <th>winner</th>\n",
       "    </tr>\n",
       "  </thead>\n",
       "  <tbody>\n",
       "    <tr>\n",
       "      <th>0</th>\n",
       "      <td>WC-1934</td>\n",
       "      <td>1934 FIFA World Cup</td>\n",
       "      <td>Italy</td>\n",
       "    </tr>\n",
       "    <tr>\n",
       "      <th>1</th>\n",
       "      <td>WC-1938</td>\n",
       "      <td>1938 FIFA World Cup</td>\n",
       "      <td>Italy</td>\n",
       "    </tr>\n",
       "    <tr>\n",
       "      <th>2</th>\n",
       "      <td>WC-1958</td>\n",
       "      <td>1958 FIFA World Cup</td>\n",
       "      <td>Brazil</td>\n",
       "    </tr>\n",
       "    <tr>\n",
       "      <th>3</th>\n",
       "      <td>WC-1962</td>\n",
       "      <td>1962 FIFA World Cup</td>\n",
       "      <td>Brazil</td>\n",
       "    </tr>\n",
       "    <tr>\n",
       "      <th>4</th>\n",
       "      <td>WC-1970</td>\n",
       "      <td>1970 FIFA World Cup</td>\n",
       "      <td>Brazil</td>\n",
       "    </tr>\n",
       "    <tr>\n",
       "      <th>5</th>\n",
       "      <td>WC-1982</td>\n",
       "      <td>1982 FIFA World Cup</td>\n",
       "      <td>Italy</td>\n",
       "    </tr>\n",
       "    <tr>\n",
       "      <th>6</th>\n",
       "      <td>WC-1994</td>\n",
       "      <td>1994 FIFA World Cup</td>\n",
       "      <td>Brazil</td>\n",
       "    </tr>\n",
       "    <tr>\n",
       "      <th>7</th>\n",
       "      <td>WC-2002</td>\n",
       "      <td>2002 FIFA World Cup</td>\n",
       "      <td>Brazil</td>\n",
       "    </tr>\n",
       "    <tr>\n",
       "      <th>8</th>\n",
       "      <td>WC-2006</td>\n",
       "      <td>2006 FIFA World Cup</td>\n",
       "      <td>Italy</td>\n",
       "    </tr>\n",
       "  </tbody>\n",
       "</table>\n",
       "</div>"
      ],
      "text/plain": [
       "  tournament_id      tournament_name  winner\n",
       "0       WC-1934  1934 FIFA World Cup   Italy\n",
       "1       WC-1938  1938 FIFA World Cup   Italy\n",
       "2       WC-1958  1958 FIFA World Cup  Brazil\n",
       "3       WC-1962  1962 FIFA World Cup  Brazil\n",
       "4       WC-1970  1970 FIFA World Cup  Brazil\n",
       "5       WC-1982  1982 FIFA World Cup   Italy\n",
       "6       WC-1994  1994 FIFA World Cup  Brazil\n",
       "7       WC-2002  2002 FIFA World Cup  Brazil\n",
       "8       WC-2006  2006 FIFA World Cup   Italy"
      ]
     },
     "execution_count": 30,
     "metadata": {},
     "output_type": "execute_result"
    }
   ],
   "source": [
    "sql(\"\"\"\n",
    "SELECT tournament_id,tournament_name,winner\n",
    "FROM tournaments \n",
    "WHERE winner in ('Brazil',\"Italy\") ;\n",
    "\"\"\")"
   ]
  },
  {
   "cell_type": "markdown",
   "id": "4cab2a49",
   "metadata": {
    "slideshow": {
     "slide_type": "slide"
    }
   },
   "source": [
    "## SQL LIKE\n",
    "L’opérateur LIKE est utilisé dans la clause WHERE des requêtes SQL. Ce mot-clé permet d’effectuer une recherche sur un modèle particulier. Il est par exemple possible de rechercher les enregistrements dont la valeur d’une colonne commence par telle ou telle lettre. Les modèles de recherches sont multiple.\n",
    "\n",
    "Syntaxe\n",
    "La syntaxe à utiliser pour utiliser l’opérateur LIKE est la suivante :\n",
    "\n",
    "```sql\n",
    "SELECT *\n",
    "FROM table\n",
    "WHERE colonne LIKE modele\n",
    "```"
   ]
  },
  {
   "cell_type": "markdown",
   "id": "257938a3",
   "metadata": {
    "slideshow": {
     "slide_type": "subslide"
    }
   },
   "source": [
    "Dans cet exemple le “modèle” n’a pas été défini, mais il ressemble très généralement à l’un des exemples suivants:\n",
    "\n",
    "- LIKE ‘%a’ : le caractère “%” est un caractère joker qui remplace tous les autres caractères. Ainsi, ce modèle permet de rechercher toutes les chaines de caractère qui se termine par un “a”.\n",
    "\n",
    "- LIKE ‘a%’ : ce modèle permet de rechercher toutes les lignes de “colonne” qui commence par un “a”.\n",
    "\n",
    "- LIKE ‘%a%’ : ce modèle est utilisé pour rechercher tous les enregistrement qui utilisent le caractère “a”.\n",
    "\n",
    "- LIKE ‘pa%on’ : ce modèle permet de rechercher les chaines qui commence par “pa” et qui se terminent par “on”, comme “pantalon” ou “pardon”.\n",
    "\n",
    "- LIKE ‘a_c’ : peu utilisé, le caractère “_” (underscore) peut être remplacé par n’importe quel caractère, mais un seul caractère uniquement (alors que le symbole pourcentage “%” peut être remplacé par un nombre incalculable de caractères . Ainsi, ce modèle permet de retourner les lignes “aac”, “abc” ou même “azc”.\n"
   ]
  },
  {
   "cell_type": "markdown",
   "id": "b0a0a7b6",
   "metadata": {
    "slideshow": {
     "slide_type": "slide"
    }
   },
   "source": [
    "**Eemple**\n",
    "\n",
    "Afficher les tournament_id et tournament_name et winner des tournaments dont le tournament_name  commence par '20'"
   ]
  },
  {
   "cell_type": "code",
   "execution_count": 16,
   "id": "9d9ea5db",
   "metadata": {
    "scrolled": true,
    "slideshow": {
     "slide_type": "subslide"
    }
   },
   "outputs": [
    {
     "data": {
      "text/html": [
       "<div>\n",
       "<style scoped>\n",
       "    .dataframe tbody tr th:only-of-type {\n",
       "        vertical-align: middle;\n",
       "    }\n",
       "\n",
       "    .dataframe tbody tr th {\n",
       "        vertical-align: top;\n",
       "    }\n",
       "\n",
       "    .dataframe thead th {\n",
       "        text-align: right;\n",
       "    }\n",
       "</style>\n",
       "<table border=\"1\" class=\"dataframe\">\n",
       "  <thead>\n",
       "    <tr style=\"text-align: right;\">\n",
       "      <th></th>\n",
       "      <th>tournament_id</th>\n",
       "      <th>tournament_name</th>\n",
       "      <th>winner</th>\n",
       "    </tr>\n",
       "  </thead>\n",
       "  <tbody>\n",
       "    <tr>\n",
       "      <th>0</th>\n",
       "      <td>WC-2002</td>\n",
       "      <td>2002 FIFA World Cup</td>\n",
       "      <td>Brazil</td>\n",
       "    </tr>\n",
       "    <tr>\n",
       "      <th>1</th>\n",
       "      <td>WC-2006</td>\n",
       "      <td>2006 FIFA World Cup</td>\n",
       "      <td>Italy</td>\n",
       "    </tr>\n",
       "    <tr>\n",
       "      <th>2</th>\n",
       "      <td>WC-2010</td>\n",
       "      <td>2010 FIFA World Cup</td>\n",
       "      <td>Spain</td>\n",
       "    </tr>\n",
       "    <tr>\n",
       "      <th>3</th>\n",
       "      <td>WC-2014</td>\n",
       "      <td>2014 FIFA World Cup</td>\n",
       "      <td>Germany</td>\n",
       "    </tr>\n",
       "    <tr>\n",
       "      <th>4</th>\n",
       "      <td>WC-2018</td>\n",
       "      <td>2018 FIFA World Cup</td>\n",
       "      <td>France</td>\n",
       "    </tr>\n",
       "    <tr>\n",
       "      <th>5</th>\n",
       "      <td>WC-2022</td>\n",
       "      <td>2022 FIFA World Cup</td>\n",
       "      <td>Argentina</td>\n",
       "    </tr>\n",
       "  </tbody>\n",
       "</table>\n",
       "</div>"
      ],
      "text/plain": [
       "  tournament_id      tournament_name     winner\n",
       "0       WC-2002  2002 FIFA World Cup     Brazil\n",
       "1       WC-2006  2006 FIFA World Cup      Italy\n",
       "2       WC-2010  2010 FIFA World Cup      Spain\n",
       "3       WC-2014  2014 FIFA World Cup    Germany\n",
       "4       WC-2018  2018 FIFA World Cup     France\n",
       "5       WC-2022  2022 FIFA World Cup  Argentina"
      ]
     },
     "execution_count": 16,
     "metadata": {},
     "output_type": "execute_result"
    }
   ],
   "source": [
    "sql(\"\"\"\n",
    "SELECT tournament_id, tournament_name, winner\n",
    "FROM tournaments\n",
    "WHERE tournament_name like '20%'\n",
    "\"\"\")"
   ]
  },
  {
   "cell_type": "markdown",
   "id": "6b45bdab",
   "metadata": {
    "slideshow": {
     "slide_type": "slide"
    }
   },
   "source": [
    "**Eemple**\n",
    "\n",
    "\n",
    "Soit le modèle relationnel :\\\n",
    "**players(player_id TEXT NOT NULL,\\\n",
    "  family_name TEXT,\\\n",
    "  given_name TEXT,\\\n",
    "  birth_date DATE,\\\n",
    "  goal_keeper BOOLEAN,\\\n",
    "  defender BOOLEAN,\\\n",
    "  midfielder BOOLEAN,\\\n",
    "  forward BOOLEAN,\\\n",
    "  count_tournaments INTEGER,\\\n",
    "  list_tournaments TEXT,\\\n",
    "  player_wikipedia_link TEXT,\\\n",
    "  PRIMARY KEY (player_id)\n",
    ");**\n",
    "\n",
    "Afficher les noms et prénoms,le jour, le mois et l'année de naissance des players dont l’année de naissance est 2004"
   ]
  },
  {
   "cell_type": "code",
   "execution_count": 49,
   "id": "fa0d296d",
   "metadata": {
    "slideshow": {
     "slide_type": "slide"
    }
   },
   "outputs": [
    {
     "data": {
      "text/html": [
       "<div>\n",
       "<style scoped>\n",
       "    .dataframe tbody tr th:only-of-type {\n",
       "        vertical-align: middle;\n",
       "    }\n",
       "\n",
       "    .dataframe tbody tr th {\n",
       "        vertical-align: top;\n",
       "    }\n",
       "\n",
       "    .dataframe thead th {\n",
       "        text-align: right;\n",
       "    }\n",
       "</style>\n",
       "<table border=\"1\" class=\"dataframe\">\n",
       "  <thead>\n",
       "    <tr style=\"text-align: right;\">\n",
       "      <th></th>\n",
       "      <th>family_name</th>\n",
       "      <th>given_name</th>\n",
       "      <th>Mois</th>\n",
       "    </tr>\n",
       "  </thead>\n",
       "  <tbody>\n",
       "    <tr>\n",
       "      <th>0</th>\n",
       "      <td>Abdulghani</td>\n",
       "      <td>Hussein</td>\n",
       "      <td>01</td>\n",
       "    </tr>\n",
       "    <tr>\n",
       "      <th>1</th>\n",
       "      <td>Abdulghani</td>\n",
       "      <td>Hussein</td>\n",
       "      <td>01</td>\n",
       "    </tr>\n",
       "    <tr>\n",
       "      <th>2</th>\n",
       "      <td>Aboubakar</td>\n",
       "      <td>Vincent</td>\n",
       "      <td>01</td>\n",
       "    </tr>\n",
       "    <tr>\n",
       "      <th>3</th>\n",
       "      <td>Acácio</td>\n",
       "      <td>not applicable</td>\n",
       "      <td>01</td>\n",
       "    </tr>\n",
       "    <tr>\n",
       "      <th>4</th>\n",
       "      <td>Acquah</td>\n",
       "      <td>Afriyie</td>\n",
       "      <td>01</td>\n",
       "    </tr>\n",
       "    <tr>\n",
       "      <th>...</th>\n",
       "      <td>...</td>\n",
       "      <td>...</td>\n",
       "      <td>...</td>\n",
       "    </tr>\n",
       "    <tr>\n",
       "      <th>834</th>\n",
       "      <td>Zitouni</td>\n",
       "      <td>Ali</td>\n",
       "      <td>01</td>\n",
       "    </tr>\n",
       "    <tr>\n",
       "      <th>835</th>\n",
       "      <td>Zlatković</td>\n",
       "      <td>Siniša</td>\n",
       "      <td>01</td>\n",
       "    </tr>\n",
       "    <tr>\n",
       "      <th>836</th>\n",
       "      <td>Zombori</td>\n",
       "      <td>Vilmos</td>\n",
       "      <td>01</td>\n",
       "    </tr>\n",
       "    <tr>\n",
       "      <th>837</th>\n",
       "      <td>Zuberbühler</td>\n",
       "      <td>Pascal</td>\n",
       "      <td>01</td>\n",
       "    </tr>\n",
       "    <tr>\n",
       "      <th>838</th>\n",
       "      <td>Zumelzú</td>\n",
       "      <td>Adolfo</td>\n",
       "      <td>01</td>\n",
       "    </tr>\n",
       "  </tbody>\n",
       "</table>\n",
       "<p>839 rows × 3 columns</p>\n",
       "</div>"
      ],
      "text/plain": [
       "     family_name      given_name Mois\n",
       "0     Abdulghani         Hussein   01\n",
       "1     Abdulghani         Hussein   01\n",
       "2      Aboubakar         Vincent   01\n",
       "3         Acácio  not applicable   01\n",
       "4         Acquah         Afriyie   01\n",
       "..           ...             ...  ...\n",
       "834      Zitouni             Ali   01\n",
       "835    Zlatković          Siniša   01\n",
       "836      Zombori          Vilmos   01\n",
       "837  Zuberbühler          Pascal   01\n",
       "838      Zumelzú          Adolfo   01\n",
       "\n",
       "[839 rows x 3 columns]"
      ]
     },
     "execution_count": 49,
     "metadata": {},
     "output_type": "execute_result"
    }
   ],
   "source": [
    "sql(\"\"\"\n",
    "select family_name,given_name,\n",
    "strftime('%m',birth_date) Mois\n",
    " from players\n",
    "  where Mois like \"01\"\n",
    "\n",
    "\"\"\")"
   ]
  },
  {
   "cell_type": "markdown",
   "id": "0f0f9b76",
   "metadata": {
    "slideshow": {
     "slide_type": "subslide"
    }
   },
   "source": [
    "```SQL\n",
    "SELECT family_name,given_name,\n",
    "strftime('%Y',birth_date) as Année,strftime('%m',birth_date) as Mois,\n",
    "strftime('%d',birth_date) as Jour\n",
    "FROM players\n",
    "WHERE strftime('%Y',birth_date)='2004'\n",
    "```"
   ]
  },
  {
   "cell_type": "code",
   "execution_count": 19,
   "id": "84a8f338",
   "metadata": {
    "slideshow": {
     "slide_type": "subslide"
    }
   },
   "outputs": [
    {
     "data": {
      "text/html": [
       "<div>\n",
       "<style scoped>\n",
       "    .dataframe tbody tr th:only-of-type {\n",
       "        vertical-align: middle;\n",
       "    }\n",
       "\n",
       "    .dataframe tbody tr th {\n",
       "        vertical-align: top;\n",
       "    }\n",
       "\n",
       "    .dataframe thead th {\n",
       "        text-align: right;\n",
       "    }\n",
       "</style>\n",
       "<table border=\"1\" class=\"dataframe\">\n",
       "  <thead>\n",
       "    <tr style=\"text-align: right;\">\n",
       "      <th></th>\n",
       "      <th>family_name</th>\n",
       "      <th>given_name</th>\n",
       "      <th>Année_de_naissance</th>\n",
       "    </tr>\n",
       "  </thead>\n",
       "  <tbody>\n",
       "    <tr>\n",
       "      <th>0</th>\n",
       "      <td>Afriyie</td>\n",
       "      <td>Daniel</td>\n",
       "      <td>2001</td>\n",
       "    </tr>\n",
       "    <tr>\n",
       "      <th>1</th>\n",
       "      <td>Al-Hadhrami</td>\n",
       "      <td>Naif</td>\n",
       "      <td>2001</td>\n",
       "    </tr>\n",
       "    <tr>\n",
       "      <th>2</th>\n",
       "      <td>Almada</td>\n",
       "      <td>Thiago</td>\n",
       "      <td>2001</td>\n",
       "    </tr>\n",
       "    <tr>\n",
       "      <th>3</th>\n",
       "      <td>Asiri</td>\n",
       "      <td>Haitham</td>\n",
       "      <td>2001</td>\n",
       "    </tr>\n",
       "    <tr>\n",
       "      <th>4</th>\n",
       "      <td>Bella-Kotchap</td>\n",
       "      <td>Armel</td>\n",
       "      <td>2001</td>\n",
       "    </tr>\n",
       "    <tr>\n",
       "      <th>5</th>\n",
       "      <td>Ben Slimane</td>\n",
       "      <td>Anis</td>\n",
       "      <td>2001</td>\n",
       "    </tr>\n",
       "    <tr>\n",
       "      <th>6</th>\n",
       "      <td>Caicedo</td>\n",
       "      <td>Moisés</td>\n",
       "      <td>2001</td>\n",
       "    </tr>\n",
       "    <tr>\n",
       "      <th>7</th>\n",
       "      <td>Chacón</td>\n",
       "      <td>Daniel</td>\n",
       "      <td>2001</td>\n",
       "    </tr>\n",
       "    <tr>\n",
       "      <th>8</th>\n",
       "      <td>De Ketelaere</td>\n",
       "      <td>Charles</td>\n",
       "      <td>2001</td>\n",
       "    </tr>\n",
       "    <tr>\n",
       "      <th>9</th>\n",
       "      <td>Eraković</td>\n",
       "      <td>Strahinja</td>\n",
       "      <td>2001</td>\n",
       "    </tr>\n",
       "    <tr>\n",
       "      <th>10</th>\n",
       "      <td>Ezzalzouli</td>\n",
       "      <td>Abde</td>\n",
       "      <td>2001</td>\n",
       "    </tr>\n",
       "    <tr>\n",
       "      <th>11</th>\n",
       "      <td>Fernández</td>\n",
       "      <td>Enzo</td>\n",
       "      <td>2001</td>\n",
       "    </tr>\n",
       "    <tr>\n",
       "      <th>12</th>\n",
       "      <td>García</td>\n",
       "      <td>Eric</td>\n",
       "      <td>2001</td>\n",
       "    </tr>\n",
       "    <tr>\n",
       "      <th>13</th>\n",
       "      <td>Hernández</td>\n",
       "      <td>Anthony</td>\n",
       "      <td>2001</td>\n",
       "    </tr>\n",
       "    <tr>\n",
       "      <th>14</th>\n",
       "      <td>Ilić</td>\n",
       "      <td>Ivan</td>\n",
       "      <td>2001</td>\n",
       "    </tr>\n",
       "    <tr>\n",
       "      <th>15</th>\n",
       "      <td>Jackson</td>\n",
       "      <td>Nicolas</td>\n",
       "      <td>2001</td>\n",
       "    </tr>\n",
       "    <tr>\n",
       "      <th>16</th>\n",
       "      <td>Johnson</td>\n",
       "      <td>Brennan</td>\n",
       "      <td>2001</td>\n",
       "    </tr>\n",
       "    <tr>\n",
       "      <th>17</th>\n",
       "      <td>Kang-in</td>\n",
       "      <td>Lee</td>\n",
       "      <td>2001</td>\n",
       "    </tr>\n",
       "    <tr>\n",
       "      <th>18</th>\n",
       "      <td>Kubo</td>\n",
       "      <td>Takefusa</td>\n",
       "      <td>2001</td>\n",
       "    </tr>\n",
       "    <tr>\n",
       "      <th>19</th>\n",
       "      <td>Martinelli</td>\n",
       "      <td>Gabriel</td>\n",
       "      <td>2001</td>\n",
       "    </tr>\n",
       "    <tr>\n",
       "      <th>20</th>\n",
       "      <td>Mendy</td>\n",
       "      <td>Formose</td>\n",
       "      <td>2001</td>\n",
       "    </tr>\n",
       "    <tr>\n",
       "      <th>21</th>\n",
       "      <td>Meshaal</td>\n",
       "      <td>Mostafa</td>\n",
       "      <td>2001</td>\n",
       "    </tr>\n",
       "    <tr>\n",
       "      <th>22</th>\n",
       "      <td>Onana</td>\n",
       "      <td>Amadou</td>\n",
       "      <td>2001</td>\n",
       "    </tr>\n",
       "    <tr>\n",
       "      <th>23</th>\n",
       "      <td>Pacho</td>\n",
       "      <td>William</td>\n",
       "      <td>2001</td>\n",
       "    </tr>\n",
       "    <tr>\n",
       "      <th>24</th>\n",
       "      <td>Pavlović</td>\n",
       "      <td>Strahinja</td>\n",
       "      <td>2001</td>\n",
       "    </tr>\n",
       "    <tr>\n",
       "      <th>25</th>\n",
       "      <td>Pellistri</td>\n",
       "      <td>Facundo</td>\n",
       "      <td>2001</td>\n",
       "    </tr>\n",
       "    <tr>\n",
       "      <th>26</th>\n",
       "      <td>Ramos</td>\n",
       "      <td>Gonçalo</td>\n",
       "      <td>2001</td>\n",
       "    </tr>\n",
       "    <tr>\n",
       "      <th>27</th>\n",
       "      <td>Rodrygo</td>\n",
       "      <td>not applicable</td>\n",
       "      <td>2001</td>\n",
       "    </tr>\n",
       "    <tr>\n",
       "      <th>28</th>\n",
       "      <td>Saka</td>\n",
       "      <td>Bukayo</td>\n",
       "      <td>2001</td>\n",
       "    </tr>\n",
       "    <tr>\n",
       "      <th>29</th>\n",
       "      <td>Saliba</td>\n",
       "      <td>William</td>\n",
       "      <td>2001</td>\n",
       "    </tr>\n",
       "    <tr>\n",
       "      <th>30</th>\n",
       "      <td>Tilio</td>\n",
       "      <td>Marco</td>\n",
       "      <td>2001</td>\n",
       "    </tr>\n",
       "    <tr>\n",
       "      <th>31</th>\n",
       "      <td>Timber</td>\n",
       "      <td>Jurriën</td>\n",
       "      <td>2001</td>\n",
       "    </tr>\n",
       "    <tr>\n",
       "      <th>32</th>\n",
       "      <td>Ugarte</td>\n",
       "      <td>Manuel</td>\n",
       "      <td>2001</td>\n",
       "    </tr>\n",
       "    <tr>\n",
       "      <th>33</th>\n",
       "      <td>Williams</td>\n",
       "      <td>Neco</td>\n",
       "      <td>2001</td>\n",
       "    </tr>\n",
       "    <tr>\n",
       "      <th>34</th>\n",
       "      <td>Wooh</td>\n",
       "      <td>Christopher</td>\n",
       "      <td>2001</td>\n",
       "    </tr>\n",
       "  </tbody>\n",
       "</table>\n",
       "</div>"
      ],
      "text/plain": [
       "      family_name      given_name Année_de_naissance\n",
       "0         Afriyie          Daniel               2001\n",
       "1     Al-Hadhrami            Naif               2001\n",
       "2          Almada          Thiago               2001\n",
       "3           Asiri         Haitham               2001\n",
       "4   Bella-Kotchap           Armel               2001\n",
       "5     Ben Slimane            Anis               2001\n",
       "6         Caicedo          Moisés               2001\n",
       "7          Chacón          Daniel               2001\n",
       "8    De Ketelaere         Charles               2001\n",
       "9        Eraković       Strahinja               2001\n",
       "10     Ezzalzouli            Abde               2001\n",
       "11      Fernández            Enzo               2001\n",
       "12         García            Eric               2001\n",
       "13      Hernández         Anthony               2001\n",
       "14           Ilić            Ivan               2001\n",
       "15        Jackson         Nicolas               2001\n",
       "16        Johnson         Brennan               2001\n",
       "17        Kang-in             Lee               2001\n",
       "18           Kubo        Takefusa               2001\n",
       "19     Martinelli         Gabriel               2001\n",
       "20          Mendy         Formose               2001\n",
       "21        Meshaal         Mostafa               2001\n",
       "22          Onana          Amadou               2001\n",
       "23          Pacho         William               2001\n",
       "24       Pavlović       Strahinja               2001\n",
       "25      Pellistri         Facundo               2001\n",
       "26          Ramos         Gonçalo               2001\n",
       "27        Rodrygo  not applicable               2001\n",
       "28           Saka          Bukayo               2001\n",
       "29         Saliba         William               2001\n",
       "30          Tilio           Marco               2001\n",
       "31         Timber         Jurriën               2001\n",
       "32         Ugarte          Manuel               2001\n",
       "33       Williams            Neco               2001\n",
       "34           Wooh     Christopher               2001"
      ]
     },
     "execution_count": 19,
     "metadata": {},
     "output_type": "execute_result"
    }
   ],
   "source": [
    "sql(\"\"\"\n",
    "SELECT family_name,given_name,\n",
    "strftime(\"%Y\",birth_date) as Année_de_naissance\n",
    "from players\n",
    "where Année_de_naissance ='2001'\n",
    "\"\"\")"
   ]
  },
  {
   "cell_type": "markdown",
   "id": "ced5a5f7",
   "metadata": {
    "slideshow": {
     "slide_type": "slide"
    }
   },
   "source": [
    "Afficher les players dont le faimilly_name contient le caractère underscore '_'"
   ]
  },
  {
   "cell_type": "markdown",
   "id": "e549e806",
   "metadata": {},
   "source": [
    "```SQL\n",
    "SELECT * FROM players\n",
    "WHERE family_name LIKE '%!_%' ESCAPE '!'\n",
    "```"
   ]
  },
  {
   "cell_type": "code",
   "execution_count": 59,
   "id": "15194a02",
   "metadata": {},
   "outputs": [
    {
     "data": {
      "text/html": [
       "<div>\n",
       "<style scoped>\n",
       "    .dataframe tbody tr th:only-of-type {\n",
       "        vertical-align: middle;\n",
       "    }\n",
       "\n",
       "    .dataframe tbody tr th {\n",
       "        vertical-align: top;\n",
       "    }\n",
       "\n",
       "    .dataframe thead th {\n",
       "        text-align: right;\n",
       "    }\n",
       "</style>\n",
       "<table border=\"1\" class=\"dataframe\">\n",
       "  <thead>\n",
       "    <tr style=\"text-align: right;\">\n",
       "      <th></th>\n",
       "      <th>player_id</th>\n",
       "      <th>family_name</th>\n",
       "      <th>given_name</th>\n",
       "      <th>birth_date</th>\n",
       "      <th>goal_keeper</th>\n",
       "      <th>defender</th>\n",
       "      <th>midfielder</th>\n",
       "      <th>forward</th>\n",
       "      <th>count_tournaments</th>\n",
       "      <th>list_tournaments</th>\n",
       "      <th>player_wikipedia_link</th>\n",
       "    </tr>\n",
       "  </thead>\n",
       "  <tbody>\n",
       "  </tbody>\n",
       "</table>\n",
       "</div>"
      ],
      "text/plain": [
       "Empty DataFrame\n",
       "Columns: [player_id, family_name, given_name, birth_date, goal_keeper, defender, midfielder, forward, count_tournaments, list_tournaments, player_wikipedia_link]\n",
       "Index: []"
      ]
     },
     "execution_count": 59,
     "metadata": {},
     "output_type": "execute_result"
    }
   ],
   "source": [
    "sql(\"\"\"\n",
    "SELECT * FROM players\n",
    "WHERE family_name LIKE '%/_%' ESCAPE '/'\n",
    "\"\"\")"
   ]
  },
  {
   "cell_type": "markdown",
   "id": "127fd051",
   "metadata": {
    "slideshow": {
     "slide_type": "slide"
    }
   },
   "source": [
    "### Opérateurs Ensemblistes\n",
    "### Union :\n",
    "\n",
    "L’union de deux relations (tables) R et S de même schéma définit une relation T de même schéma qui contient tous les lignes de R, de S ou à la fois de R et S, en éliminant les lignes en doubles.\n",
    "\n",
    "Notation :\n",
    "\n",
    "$T = R \\cup S = \\{ ligne | ligne \\in \\text{R ou ligne} \\in S \\}$"
   ]
  },
  {
   "cell_type": "markdown",
   "id": "08e5f7a8",
   "metadata": {
    "slideshow": {
     "slide_type": "subslide"
    }
   },
   "source": [
    "**Union :**\n",
    "\n",
    "Requête SQL :\n",
    "```SQL\n",
    "SELECT . . . FROM . . . WHERE . . .\n",
    "UNION | UNION ALL\n",
    "SELECT . . . FROM . . . WHERE . . .\n",
    "```\n",
    "**UNION ALL** permet de garder les répétitions lors de calcul de la réunion."
   ]
  },
  {
   "cell_type": "markdown",
   "id": "8cbbc113",
   "metadata": {
    "slideshow": {
     "slide_type": "subslide"
    }
   },
   "source": [
    "Afficher les noms et prénoms, l'année de naissance des players dont l’année de naissance est 2004 ou 2003 en étulisant l'opérateur Union\n",
    "\n",
    "```SQL\n",
    "SELECT family_name,given_name,\n",
    "strftime('%Y',birth_date) as Année\n",
    "FROM players\n",
    "WHERE strftime('%Y',birth_date)='2004'\n",
    "UNION\n",
    "SELECT family_name,given_name,\n",
    "strftime('%Y',birth_date)\n",
    "FROM players\n",
    "WHERE strftime('%Y',birth_date)='2003'\n",
    "```"
   ]
  },
  {
   "cell_type": "code",
   "execution_count": 56,
   "id": "5b8fdd11",
   "metadata": {
    "slideshow": {
     "slide_type": "subslide"
    }
   },
   "outputs": [
    {
     "data": {
      "text/html": [
       "<div>\n",
       "<style scoped>\n",
       "    .dataframe tbody tr th:only-of-type {\n",
       "        vertical-align: middle;\n",
       "    }\n",
       "\n",
       "    .dataframe tbody tr th {\n",
       "        vertical-align: top;\n",
       "    }\n",
       "\n",
       "    .dataframe thead th {\n",
       "        text-align: right;\n",
       "    }\n",
       "</style>\n",
       "<table border=\"1\" class=\"dataframe\">\n",
       "  <thead>\n",
       "    <tr style=\"text-align: right;\">\n",
       "      <th></th>\n",
       "      <th>family_name</th>\n",
       "      <th>given_name</th>\n",
       "      <th>année</th>\n",
       "    </tr>\n",
       "  </thead>\n",
       "  <tbody>\n",
       "    <tr>\n",
       "      <th>0</th>\n",
       "      <td>Aguilera</td>\n",
       "      <td>Brandon</td>\n",
       "      <td>2003</td>\n",
       "    </tr>\n",
       "    <tr>\n",
       "      <th>1</th>\n",
       "      <td>Balde</td>\n",
       "      <td>Alejandro</td>\n",
       "      <td>2003</td>\n",
       "    </tr>\n",
       "    <tr>\n",
       "      <th>2</th>\n",
       "      <td>Bellingham</td>\n",
       "      <td>Jude</td>\n",
       "      <td>2003</td>\n",
       "    </tr>\n",
       "    <tr>\n",
       "      <th>3</th>\n",
       "      <td>Bennette</td>\n",
       "      <td>Jewison</td>\n",
       "      <td>2004</td>\n",
       "    </tr>\n",
       "    <tr>\n",
       "      <th>4</th>\n",
       "      <td>Debast</td>\n",
       "      <td>Zeno</td>\n",
       "      <td>2003</td>\n",
       "    </tr>\n",
       "    <tr>\n",
       "      <th>5</th>\n",
       "      <td>El Khannous</td>\n",
       "      <td>Bilal</td>\n",
       "      <td>2004</td>\n",
       "    </tr>\n",
       "    <tr>\n",
       "      <th>6</th>\n",
       "      <td>Gavi</td>\n",
       "      <td>not applicable</td>\n",
       "      <td>2004</td>\n",
       "    </tr>\n",
       "    <tr>\n",
       "      <th>7</th>\n",
       "      <td>Issahaku</td>\n",
       "      <td>Abdul Fatawu</td>\n",
       "      <td>2004</td>\n",
       "    </tr>\n",
       "    <tr>\n",
       "      <th>8</th>\n",
       "      <td>Kuol</td>\n",
       "      <td>Garang</td>\n",
       "      <td>2004</td>\n",
       "    </tr>\n",
       "    <tr>\n",
       "      <th>9</th>\n",
       "      <td>Mejbri</td>\n",
       "      <td>Hannibal</td>\n",
       "      <td>2003</td>\n",
       "    </tr>\n",
       "    <tr>\n",
       "      <th>10</th>\n",
       "      <td>Moukoko</td>\n",
       "      <td>Youssoufa</td>\n",
       "      <td>2004</td>\n",
       "    </tr>\n",
       "    <tr>\n",
       "      <th>11</th>\n",
       "      <td>Musiala</td>\n",
       "      <td>Jamal</td>\n",
       "      <td>2003</td>\n",
       "    </tr>\n",
       "    <tr>\n",
       "      <th>12</th>\n",
       "      <td>Ngapandouetnbu</td>\n",
       "      <td>Simon</td>\n",
       "      <td>2003</td>\n",
       "    </tr>\n",
       "    <tr>\n",
       "      <th>13</th>\n",
       "      <td>Silva</td>\n",
       "      <td>António</td>\n",
       "      <td>2003</td>\n",
       "    </tr>\n",
       "    <tr>\n",
       "      <th>14</th>\n",
       "      <td>Simons</td>\n",
       "      <td>Xavi</td>\n",
       "      <td>2003</td>\n",
       "    </tr>\n",
       "  </tbody>\n",
       "</table>\n",
       "</div>"
      ],
      "text/plain": [
       "       family_name      given_name année\n",
       "0         Aguilera         Brandon  2003\n",
       "1            Balde       Alejandro  2003\n",
       "2       Bellingham            Jude  2003\n",
       "3         Bennette         Jewison  2004\n",
       "4           Debast            Zeno  2003\n",
       "5      El Khannous           Bilal  2004\n",
       "6             Gavi  not applicable  2004\n",
       "7         Issahaku    Abdul Fatawu  2004\n",
       "8             Kuol          Garang  2004\n",
       "9           Mejbri        Hannibal  2003\n",
       "10         Moukoko       Youssoufa  2004\n",
       "11         Musiala           Jamal  2003\n",
       "12  Ngapandouetnbu           Simon  2003\n",
       "13           Silva         António  2003\n",
       "14          Simons            Xavi  2003"
      ]
     },
     "execution_count": 56,
     "metadata": {},
     "output_type": "execute_result"
    }
   ],
   "source": [
    "sql(\"\"\"SELECT family_name,given_name,\n",
    "strftime('%Y',birth_date) as année\n",
    "FROM players\n",
    "WHERE strftime('%Y',birth_date)='2004'\n",
    "UNION\n",
    "SELECT family_name,given_name,\n",
    "strftime('%Y',birth_date)\n",
    "FROM players\n",
    "WHERE strftime('%Y',birth_date)='2003'\n",
    "\"\"\")"
   ]
  },
  {
   "cell_type": "markdown",
   "id": "d5253a8c",
   "metadata": {
    "slideshow": {
     "slide_type": "slide"
    }
   },
   "source": [
    "### L’intersection\n",
    "L’intersection de deux relations R et S de même schéma est une relation T\n",
    "de même schéma contenant les lignes appartenant à la fois à R et à S\n",
    "\n",
    "Notation :\n",
    "\n",
    "\n",
    "$T = R \\cap S= \\{ligne |\\,\\,\\, ligne \\in R\\quad et\\,\\,\\, ligne \\,\\,\\in S \\}$"
   ]
  },
  {
   "cell_type": "markdown",
   "id": "546d09d0",
   "metadata": {},
   "source": [
    "**Intersection :**\n",
    "\n",
    "Requête SQL :\n",
    "```sql\n",
    "SELECT . . . FROM . . . WHERE . . .\n",
    "INTERSECT\n",
    "SELECT . . . FROM . . . WHERE . . .\n",
    "```"
   ]
  },
  {
   "cell_type": "markdown",
   "id": "a523b456",
   "metadata": {
    "slideshow": {
     "slide_type": "slide"
    }
   },
   "source": [
    "**Exemple**\n",
    "Soit le modèle relationnel suivant:\n",
    "\n",
    "**matches(\n",
    "  tournament_id TEXT NOT NULL,\\\n",
    "  match_id TEXT NOT NULL,\\\n",
    "  result TEXT,\n",
    "  match_name TXT\n",
    ");**\\\n",
    "\n",
    "Selectionner tous les matches joués entre le maroc et le portugal"
   ]
  },
  {
   "cell_type": "code",
   "execution_count": 66,
   "id": "017e0488",
   "metadata": {
    "slideshow": {
     "slide_type": "slide"
    }
   },
   "outputs": [
    {
     "data": {
      "text/html": [
       "<div>\n",
       "<style scoped>\n",
       "    .dataframe tbody tr th:only-of-type {\n",
       "        vertical-align: middle;\n",
       "    }\n",
       "\n",
       "    .dataframe tbody tr th {\n",
       "        vertical-align: top;\n",
       "    }\n",
       "\n",
       "    .dataframe thead th {\n",
       "        text-align: right;\n",
       "    }\n",
       "</style>\n",
       "<table border=\"1\" class=\"dataframe\">\n",
       "  <thead>\n",
       "    <tr style=\"text-align: right;\">\n",
       "      <th></th>\n",
       "      <th>match_name</th>\n",
       "    </tr>\n",
       "  </thead>\n",
       "  <tbody>\n",
       "    <tr>\n",
       "      <th>0</th>\n",
       "      <td>Portugal v Morocco</td>\n",
       "    </tr>\n",
       "    <tr>\n",
       "      <th>1</th>\n",
       "      <td>Portugal v Morocco</td>\n",
       "    </tr>\n",
       "    <tr>\n",
       "      <th>2</th>\n",
       "      <td>Morocco v Portugal</td>\n",
       "    </tr>\n",
       "  </tbody>\n",
       "</table>\n",
       "</div>"
      ],
      "text/plain": [
       "           match_name\n",
       "0  Portugal v Morocco\n",
       "1  Portugal v Morocco\n",
       "2  Morocco v Portugal"
      ]
     },
     "execution_count": 66,
     "metadata": {},
     "output_type": "execute_result"
    }
   ],
   "source": [
    "sql(\"\"\"\n",
    "select match_name from matches\n",
    "where match_name like \"%Morocco%\" and match_name like \"%Portugal%\"\n",
    "\"\"\")"
   ]
  },
  {
   "cell_type": "code",
   "execution_count": 67,
   "id": "04743df6",
   "metadata": {
    "slideshow": {
     "slide_type": "subslide"
    }
   },
   "outputs": [
    {
     "data": {
      "text/html": [
       "<div>\n",
       "<style scoped>\n",
       "    .dataframe tbody tr th:only-of-type {\n",
       "        vertical-align: middle;\n",
       "    }\n",
       "\n",
       "    .dataframe tbody tr th {\n",
       "        vertical-align: top;\n",
       "    }\n",
       "\n",
       "    .dataframe thead th {\n",
       "        text-align: right;\n",
       "    }\n",
       "</style>\n",
       "<table border=\"1\" class=\"dataframe\">\n",
       "  <thead>\n",
       "    <tr style=\"text-align: right;\">\n",
       "      <th></th>\n",
       "      <th>match_name</th>\n",
       "    </tr>\n",
       "  </thead>\n",
       "  <tbody>\n",
       "    <tr>\n",
       "      <th>0</th>\n",
       "      <td>Morocco v Portugal</td>\n",
       "    </tr>\n",
       "    <tr>\n",
       "      <th>1</th>\n",
       "      <td>Portugal v Morocco</td>\n",
       "    </tr>\n",
       "  </tbody>\n",
       "</table>\n",
       "</div>"
      ],
      "text/plain": [
       "           match_name\n",
       "0  Morocco v Portugal\n",
       "1  Portugal v Morocco"
      ]
     },
     "execution_count": 67,
     "metadata": {},
     "output_type": "execute_result"
    }
   ],
   "source": [
    "sql(\"\"\"\n",
    "select match_name from matches\n",
    "where match_name like \"%Morocco%\" \n",
    "intersect \n",
    "select match_name from matches\n",
    "where match_name like \"%Portugal%\" \n",
    "\"\"\")"
   ]
  },
  {
   "cell_type": "markdown",
   "id": "da7aedbf",
   "metadata": {
    "slideshow": {
     "slide_type": "subslide"
    }
   },
   "source": [
    "```sql\n",
    "select tournament_id,match_name,result from matches\n",
    "where match_name like '%Morocco%'\n",
    "Intersect \n",
    "select tournament_id,match_name,result from matches\n",
    "where match_name like '%Portugal%'\n",
    "```"
   ]
  },
  {
   "cell_type": "code",
   "execution_count": 5,
   "id": "1f7ce339",
   "metadata": {
    "scrolled": false,
    "slideshow": {
     "slide_type": "subslide"
    }
   },
   "outputs": [
    {
     "data": {
      "text/html": [
       "<div>\n",
       "<style scoped>\n",
       "    .dataframe tbody tr th:only-of-type {\n",
       "        vertical-align: middle;\n",
       "    }\n",
       "\n",
       "    .dataframe tbody tr th {\n",
       "        vertical-align: top;\n",
       "    }\n",
       "\n",
       "    .dataframe thead th {\n",
       "        text-align: right;\n",
       "    }\n",
       "</style>\n",
       "<table border=\"1\" class=\"dataframe\">\n",
       "  <thead>\n",
       "    <tr style=\"text-align: right;\">\n",
       "      <th></th>\n",
       "      <th>tournament_id</th>\n",
       "      <th>match_name</th>\n",
       "      <th>result</th>\n",
       "    </tr>\n",
       "  </thead>\n",
       "  <tbody>\n",
       "    <tr>\n",
       "      <th>0</th>\n",
       "      <td>WC-1986</td>\n",
       "      <td>Portugal v Morocco</td>\n",
       "      <td>away team win</td>\n",
       "    </tr>\n",
       "    <tr>\n",
       "      <th>1</th>\n",
       "      <td>WC-2018</td>\n",
       "      <td>Portugal v Morocco</td>\n",
       "      <td>home team win</td>\n",
       "    </tr>\n",
       "    <tr>\n",
       "      <th>2</th>\n",
       "      <td>WC-2022</td>\n",
       "      <td>Morocco v Portugal</td>\n",
       "      <td>home team win</td>\n",
       "    </tr>\n",
       "  </tbody>\n",
       "</table>\n",
       "</div>"
      ],
      "text/plain": [
       "  tournament_id          match_name         result\n",
       "0       WC-1986  Portugal v Morocco  away team win\n",
       "1       WC-2018  Portugal v Morocco  home team win\n",
       "2       WC-2022  Morocco v Portugal  home team win"
      ]
     },
     "execution_count": 5,
     "metadata": {},
     "output_type": "execute_result"
    }
   ],
   "source": [
    "sql(\"\"\"\n",
    "select tournament_id,match_name,result from matches\n",
    "where match_name like '%Morocco%'\n",
    "Intersect \n",
    "select tournament_id,match_name,result from matches\n",
    "where match_name like '%Portugal%'\n",
    "\"\"\")"
   ]
  },
  {
   "cell_type": "markdown",
   "id": "5f3d0511",
   "metadata": {
    "slideshow": {
     "slide_type": "slide"
    }
   },
   "source": [
    "### La différence \n",
    "La différence de deux relations R et S (dans cet ordre) de même schéma\n",
    "est une relation T de même schéma contenant l’ensemble des lignes\n",
    "appartenant à R et n’appartenant pas à S.\n",
    "\n",
    "Notation :\n",
    "\n",
    "$T = R - S= \\{ligne |\\,\\,\\, ligne \\,\\,\\in R \\,\\,\\,et\\,\\,\\, ligne \\,\\,\\notin S \\}$"
   ]
  },
  {
   "cell_type": "markdown",
   "id": "61e410b1",
   "metadata": {
    "slideshow": {
     "slide_type": "subslide"
    }
   },
   "source": [
    "**Différence :**\n",
    "\n",
    "\n",
    "Requête SQL :\n",
    "```sql\n",
    "SELECT . . . FROM . . . WHERE . . .\n",
    "EXCEPT\n",
    "SELECT . . . FROM . . . WHERE . . .\n",
    "```\n",
    "\n",
    "Dans certains systèmes de gestion de base de données (SGBD) on trouve l’opérateur **MINUS** au lieu **d’EXCEPT**."
   ]
  },
  {
   "cell_type": "markdown",
   "id": "fe04323a",
   "metadata": {
    "slideshow": {
     "slide_type": "subslide"
    }
   },
   "source": [
    "Selectionner les équipes(team_id) qui n'ont jamis pu se qualifier au coupe du monde apres l'année 2000"
   ]
  },
  {
   "cell_type": "markdown",
   "id": "b22606ff",
   "metadata": {
    "slideshow": {
     "slide_type": "subslide"
    }
   },
   "source": [
    "```SQL\n",
    "select distinct team_id from teams\n",
    "EXCEPT\n",
    "select distinct team_id from qualified_teams\n",
    "where tournament_id like '%-20%'\n",
    "```"
   ]
  },
  {
   "cell_type": "code",
   "execution_count": 23,
   "id": "65707318",
   "metadata": {
    "slideshow": {
     "slide_type": "subslide"
    }
   },
   "outputs": [
    {
     "data": {
      "text/html": [
       "<div>\n",
       "<style scoped>\n",
       "    .dataframe tbody tr th:only-of-type {\n",
       "        vertical-align: middle;\n",
       "    }\n",
       "\n",
       "    .dataframe tbody tr th {\n",
       "        vertical-align: top;\n",
       "    }\n",
       "\n",
       "    .dataframe thead th {\n",
       "        text-align: right;\n",
       "    }\n",
       "</style>\n",
       "<table border=\"1\" class=\"dataframe\">\n",
       "  <thead>\n",
       "    <tr style=\"text-align: right;\">\n",
       "      <th></th>\n",
       "      <th>team_id</th>\n",
       "    </tr>\n",
       "  </thead>\n",
       "  <tbody>\n",
       "    <tr>\n",
       "      <th>0</th>\n",
       "      <td>T-05</td>\n",
       "    </tr>\n",
       "    <tr>\n",
       "      <th>1</th>\n",
       "      <td>T-07</td>\n",
       "    </tr>\n",
       "    <tr>\n",
       "      <th>2</th>\n",
       "      <td>T-10</td>\n",
       "    </tr>\n",
       "    <tr>\n",
       "      <th>3</th>\n",
       "      <td>T-18</td>\n",
       "    </tr>\n",
       "    <tr>\n",
       "      <th>4</th>\n",
       "      <td>T-20</td>\n",
       "    </tr>\n",
       "    <tr>\n",
       "      <th>5</th>\n",
       "      <td>T-22</td>\n",
       "    </tr>\n",
       "    <tr>\n",
       "      <th>6</th>\n",
       "      <td>T-23</td>\n",
       "    </tr>\n",
       "    <tr>\n",
       "      <th>7</th>\n",
       "      <td>T-26</td>\n",
       "    </tr>\n",
       "    <tr>\n",
       "      <th>8</th>\n",
       "      <td>T-32</td>\n",
       "    </tr>\n",
       "    <tr>\n",
       "      <th>9</th>\n",
       "      <td>T-34</td>\n",
       "    </tr>\n",
       "    <tr>\n",
       "      <th>10</th>\n",
       "      <td>T-37</td>\n",
       "    </tr>\n",
       "    <tr>\n",
       "      <th>11</th>\n",
       "      <td>T-38</td>\n",
       "    </tr>\n",
       "    <tr>\n",
       "      <th>12</th>\n",
       "      <td>T-41</td>\n",
       "    </tr>\n",
       "    <tr>\n",
       "      <th>13</th>\n",
       "      <td>T-43</td>\n",
       "    </tr>\n",
       "    <tr>\n",
       "      <th>14</th>\n",
       "      <td>T-50</td>\n",
       "    </tr>\n",
       "    <tr>\n",
       "      <th>15</th>\n",
       "      <td>T-51</td>\n",
       "    </tr>\n",
       "    <tr>\n",
       "      <th>16</th>\n",
       "      <td>T-59</td>\n",
       "    </tr>\n",
       "    <tr>\n",
       "      <th>17</th>\n",
       "      <td>T-62</td>\n",
       "    </tr>\n",
       "    <tr>\n",
       "      <th>18</th>\n",
       "      <td>T-70</td>\n",
       "    </tr>\n",
       "    <tr>\n",
       "      <th>19</th>\n",
       "      <td>T-79</td>\n",
       "    </tr>\n",
       "    <tr>\n",
       "      <th>20</th>\n",
       "      <td>T-83</td>\n",
       "    </tr>\n",
       "    <tr>\n",
       "      <th>21</th>\n",
       "      <td>T-84</td>\n",
       "    </tr>\n",
       "    <tr>\n",
       "      <th>22</th>\n",
       "      <td>T-85</td>\n",
       "    </tr>\n",
       "  </tbody>\n",
       "</table>\n",
       "</div>"
      ],
      "text/plain": [
       "   team_id\n",
       "0     T-05\n",
       "1     T-07\n",
       "2     T-10\n",
       "3     T-18\n",
       "4     T-20\n",
       "5     T-22\n",
       "6     T-23\n",
       "7     T-26\n",
       "8     T-32\n",
       "9     T-34\n",
       "10    T-37\n",
       "11    T-38\n",
       "12    T-41\n",
       "13    T-43\n",
       "14    T-50\n",
       "15    T-51\n",
       "16    T-59\n",
       "17    T-62\n",
       "18    T-70\n",
       "19    T-79\n",
       "20    T-83\n",
       "21    T-84\n",
       "22    T-85"
      ]
     },
     "execution_count": 23,
     "metadata": {},
     "output_type": "execute_result"
    }
   ],
   "source": [
    "sql(\"\"\"\n",
    "select distinct team_id from teams\n",
    "EXCEPT\n",
    "select distinct team_id from qualified_teams\n",
    "where tournament_id like '%-20%'\n",
    "\"\"\")"
   ]
  },
  {
   "cell_type": "code",
   "execution_count": 34,
   "id": "8ab2cdac",
   "metadata": {
    "scrolled": false,
    "slideshow": {
     "slide_type": "subslide"
    }
   },
   "outputs": [
    {
     "data": {
      "text/html": [
       "<div>\n",
       "<style scoped>\n",
       "    .dataframe tbody tr th:only-of-type {\n",
       "        vertical-align: middle;\n",
       "    }\n",
       "\n",
       "    .dataframe tbody tr th {\n",
       "        vertical-align: top;\n",
       "    }\n",
       "\n",
       "    .dataframe thead th {\n",
       "        text-align: right;\n",
       "    }\n",
       "</style>\n",
       "<table border=\"1\" class=\"dataframe\">\n",
       "  <thead>\n",
       "    <tr style=\"text-align: right;\">\n",
       "      <th></th>\n",
       "      <th>team_id</th>\n",
       "      <th>team_name</th>\n",
       "    </tr>\n",
       "  </thead>\n",
       "  <tbody>\n",
       "    <tr>\n",
       "      <th>0</th>\n",
       "      <td>T-05</td>\n",
       "      <td>Austria</td>\n",
       "    </tr>\n",
       "    <tr>\n",
       "      <th>1</th>\n",
       "      <td>T-07</td>\n",
       "      <td>Bolivia</td>\n",
       "    </tr>\n",
       "    <tr>\n",
       "      <th>2</th>\n",
       "      <td>T-10</td>\n",
       "      <td>Bulgaria</td>\n",
       "    </tr>\n",
       "    <tr>\n",
       "      <th>3</th>\n",
       "      <td>T-18</td>\n",
       "      <td>Cuba</td>\n",
       "    </tr>\n",
       "    <tr>\n",
       "      <th>4</th>\n",
       "      <td>T-20</td>\n",
       "      <td>Czechoslovakia</td>\n",
       "    </tr>\n",
       "    <tr>\n",
       "      <th>5</th>\n",
       "      <td>T-22</td>\n",
       "      <td>Dutch East Indies</td>\n",
       "    </tr>\n",
       "    <tr>\n",
       "      <th>6</th>\n",
       "      <td>T-23</td>\n",
       "      <td>East Germany</td>\n",
       "    </tr>\n",
       "    <tr>\n",
       "      <th>7</th>\n",
       "      <td>T-26</td>\n",
       "      <td>El Salvador</td>\n",
       "    </tr>\n",
       "    <tr>\n",
       "      <th>8</th>\n",
       "      <td>T-32</td>\n",
       "      <td>Haiti</td>\n",
       "    </tr>\n",
       "    <tr>\n",
       "      <th>9</th>\n",
       "      <td>T-34</td>\n",
       "      <td>Hungary</td>\n",
       "    </tr>\n",
       "    <tr>\n",
       "      <th>10</th>\n",
       "      <td>T-37</td>\n",
       "      <td>Iraq</td>\n",
       "    </tr>\n",
       "    <tr>\n",
       "      <th>11</th>\n",
       "      <td>T-38</td>\n",
       "      <td>Israel</td>\n",
       "    </tr>\n",
       "    <tr>\n",
       "      <th>12</th>\n",
       "      <td>T-41</td>\n",
       "      <td>Jamaica</td>\n",
       "    </tr>\n",
       "    <tr>\n",
       "      <th>13</th>\n",
       "      <td>T-43</td>\n",
       "      <td>Kuwait</td>\n",
       "    </tr>\n",
       "    <tr>\n",
       "      <th>14</th>\n",
       "      <td>T-50</td>\n",
       "      <td>Northern Ireland</td>\n",
       "    </tr>\n",
       "    <tr>\n",
       "      <th>15</th>\n",
       "      <td>T-51</td>\n",
       "      <td>Norway</td>\n",
       "    </tr>\n",
       "    <tr>\n",
       "      <th>16</th>\n",
       "      <td>T-59</td>\n",
       "      <td>Romania</td>\n",
       "    </tr>\n",
       "    <tr>\n",
       "      <th>17</th>\n",
       "      <td>T-62</td>\n",
       "      <td>Scotland</td>\n",
       "    </tr>\n",
       "    <tr>\n",
       "      <th>18</th>\n",
       "      <td>T-70</td>\n",
       "      <td>Soviet Union</td>\n",
       "    </tr>\n",
       "    <tr>\n",
       "      <th>19</th>\n",
       "      <td>T-79</td>\n",
       "      <td>United Arab Emirates</td>\n",
       "    </tr>\n",
       "    <tr>\n",
       "      <th>20</th>\n",
       "      <td>T-83</td>\n",
       "      <td>West Germany</td>\n",
       "    </tr>\n",
       "    <tr>\n",
       "      <th>21</th>\n",
       "      <td>T-84</td>\n",
       "      <td>Yugoslavia</td>\n",
       "    </tr>\n",
       "    <tr>\n",
       "      <th>22</th>\n",
       "      <td>T-85</td>\n",
       "      <td>Zaire</td>\n",
       "    </tr>\n",
       "  </tbody>\n",
       "</table>\n",
       "</div>"
      ],
      "text/plain": [
       "   team_id             team_name\n",
       "0     T-05               Austria\n",
       "1     T-07               Bolivia\n",
       "2     T-10              Bulgaria\n",
       "3     T-18                  Cuba\n",
       "4     T-20        Czechoslovakia\n",
       "5     T-22     Dutch East Indies\n",
       "6     T-23          East Germany\n",
       "7     T-26           El Salvador\n",
       "8     T-32                 Haiti\n",
       "9     T-34               Hungary\n",
       "10    T-37                  Iraq\n",
       "11    T-38                Israel\n",
       "12    T-41               Jamaica\n",
       "13    T-43                Kuwait\n",
       "14    T-50      Northern Ireland\n",
       "15    T-51                Norway\n",
       "16    T-59               Romania\n",
       "17    T-62              Scotland\n",
       "18    T-70          Soviet Union\n",
       "19    T-79  United Arab Emirates\n",
       "20    T-83          West Germany\n",
       "21    T-84            Yugoslavia\n",
       "22    T-85                 Zaire"
      ]
     },
     "execution_count": 34,
     "metadata": {},
     "output_type": "execute_result"
    }
   ],
   "source": [
    "sql(\"\"\"select team_id,team_name from (\n",
    "select distinct team_id as id from teams\n",
    "EXCEPT\n",
    "select distinct team_id from qualified_teams\n",
    "where tournament_id like '%-20%') join teams on teams.team_id=id\n",
    "\"\"\")"
   ]
  },
  {
   "cell_type": "markdown",
   "id": "d4ee0571",
   "metadata": {
    "slideshow": {
     "slide_type": "slide"
    }
   },
   "source": [
    "### Le produit cartésien\n",
    "Le produit cartésien de deux relations R et S, de schéma quelconque, est\n",
    "une relation T dont :\n",
    "- les colonnes sont la concaténation de ceux de R et S\n",
    "- les lignes sont toutes les concaténations de chaque ligne de R à chaque ligne de S\n",
    "\n",
    "Notation :\n",
    "$$R \\times S= \\{(R1, ..., R_p,S1, ... , S_q)|(R1, ..., R_p)\\in R \\,\\,\\,et  \\,\\,\\, (S1, ... , S_q) \\in S\\}$$"
   ]
  },
  {
   "cell_type": "markdown",
   "id": "81766700",
   "metadata": {
    "slideshow": {
     "slide_type": "subslide"
    }
   },
   "source": [
    "Produit cartésien :\n",
    "\n",
    "**Requête SQL :**\n",
    "```sql\n",
    "SELECT * FROM table1,table2\n",
    "```\n",
    "**Remarque :**\\\n",
    "Si les deux tables ont des colonnes de même nom, alors chaque nom de\n",
    "colonne est préfixé par le nom de sa table"
   ]
  },
  {
   "cell_type": "markdown",
   "id": "6024d211",
   "metadata": {
    "slideshow": {
     "slide_type": "slide"
    }
   },
   "source": [
    "### Renommage \n",
    "Il est possible d’utiliser des alias pour renommer temporairement une\n",
    "colonne ou une table.\\\n",
    "\n",
    "Notation :\n",
    "\n",
    "$\\rho_{ R_1,...,R_p \\rightarrow S_1,...,S_p} (R)$ permet de renommer $R_1,...,R_p$ en $S_1,...,S_p$\n"
   ]
  },
  {
   "cell_type": "markdown",
   "id": "470c0647",
   "metadata": {
    "slideshow": {
     "slide_type": "subslide"
    }
   },
   "source": [
    "**Renommage des colonnes :**\n",
    "Requête SQL :\n",
    "```SQL\n",
    "SELECT R1 AS S1 ,. . . , Ri AS Si , . . . FROM nomtable ;\n",
    "Ou bien\n",
    "SELECT R1 S1 ,. . . , Ri Si . . . FROM nomtable ;\n",
    "```"
   ]
  },
  {
   "cell_type": "markdown",
   "id": "5887a314",
   "metadata": {
    "slideshow": {
     "slide_type": "slide"
    }
   },
   "source": [
    "### La Division \n",
    "\n",
    "La division de deux tables R et S, sachant que R et S ont au moins une colonne commune, est une table T dont :\n",
    "\n",
    "- les colonnes sont des colonnes de R qui n’appartiennent pas à S.\n",
    "- les lignes sont les lignes qui réalisent dans R la combinaison avec toutes les lignes de S.\n",
    "\n",
    "**Notation :**\n",
    "\n",
    "$$T = R \\div S= \\{(A1, ..., A_p)|(\\forall(B_1, ..., B_q)\\in S) \\,\\,\\,(A_1, ..., A_p,B1, ... , B_q) \\in R\\}$$\n"
   ]
  },
  {
   "cell_type": "markdown",
   "id": "ec2b776c",
   "metadata": {
    "slideshow": {
     "slide_type": "subslide"
    }
   },
   "source": [
    "**Division**\n",
    "\n",
    "Requête SQL :\n",
    "\n",
    "Il n’y a pas de commande en langage SQL pour faire la\n",
    "division de 2 relations."
   ]
  },
  {
   "cell_type": "markdown",
   "id": "18204210",
   "metadata": {
    "slideshow": {
     "slide_type": "slide"
    }
   },
   "source": [
    "### La Jointure \n",
    "\n",
    "- La jointure de deux tables R et S selon une condition P est la table T contenant l’ensemble des lignes du produit cartésien R x S  satisfaisant la condition P.\n",
    "- Cette condition est une proposition logique portant sur deux colonnes (en particulier, la clé primaire de l’une et la clé étrangère de l’autre) en utilisant des opérateurs de comparaison ($<$, $>$, $\\leq$, $\\geq$, $! =$, $=$, . . .). \n",
    "\n",
    "\n",
    "Notation **jointure interne**:\n",
    "\n",
    "$$T = R \\underset{R.C_i=S.C_j}{\\bowtie}S $$"
   ]
  },
  {
   "cell_type": "markdown",
   "id": "c830fe7d",
   "metadata": {
    "slideshow": {
     "slide_type": "subslide"
    }
   },
   "source": [
    "**Requête SQL :**\n",
    "```SQL\n",
    "SELECT * FROM R JOIN S ON R.colonne1= S.colonne2 ;\n",
    "Ou bien\n",
    "SELECT * FROM R,S WHERE R.colonne1= S.colonne2 ;\n",
    "```"
   ]
  },
  {
   "cell_type": "markdown",
   "id": "360bec81",
   "metadata": {
    "slideshow": {
     "slide_type": "subslide"
    }
   },
   "source": [
    "**Exemple**\n",
    "Selectionner les équipes(team_name) qui appartienent à la confederations concacaf\n",
    "![](images/link_conf_team.png)"
   ]
  },
  {
   "cell_type": "markdown",
   "id": "4d993ffb",
   "metadata": {},
   "source": [
    "```SQL\n",
    "select team_name\n",
    "from teams join confederations \n",
    "on teams.confederation_id=confederations.confederation_id\n",
    "where confederation_code='CAF'\n",
    "```"
   ]
  },
  {
   "cell_type": "code",
   "execution_count": 24,
   "id": "3647f3ba",
   "metadata": {
    "slideshow": {
     "slide_type": "subslide"
    }
   },
   "outputs": [
    {
     "data": {
      "text/html": [
       "<div>\n",
       "<style scoped>\n",
       "    .dataframe tbody tr th:only-of-type {\n",
       "        vertical-align: middle;\n",
       "    }\n",
       "\n",
       "    .dataframe tbody tr th {\n",
       "        vertical-align: top;\n",
       "    }\n",
       "\n",
       "    .dataframe thead th {\n",
       "        text-align: right;\n",
       "    }\n",
       "</style>\n",
       "<table border=\"1\" class=\"dataframe\">\n",
       "  <thead>\n",
       "    <tr style=\"text-align: right;\">\n",
       "      <th></th>\n",
       "      <th>team_name</th>\n",
       "    </tr>\n",
       "  </thead>\n",
       "  <tbody>\n",
       "    <tr>\n",
       "      <th>0</th>\n",
       "      <td>Algeria</td>\n",
       "    </tr>\n",
       "    <tr>\n",
       "      <th>1</th>\n",
       "      <td>Angola</td>\n",
       "    </tr>\n",
       "    <tr>\n",
       "      <th>2</th>\n",
       "      <td>Cameroon</td>\n",
       "    </tr>\n",
       "    <tr>\n",
       "      <th>3</th>\n",
       "      <td>Egypt</td>\n",
       "    </tr>\n",
       "    <tr>\n",
       "      <th>4</th>\n",
       "      <td>Ghana</td>\n",
       "    </tr>\n",
       "    <tr>\n",
       "      <th>5</th>\n",
       "      <td>Ivory Coast</td>\n",
       "    </tr>\n",
       "    <tr>\n",
       "      <th>6</th>\n",
       "      <td>Morocco</td>\n",
       "    </tr>\n",
       "    <tr>\n",
       "      <th>7</th>\n",
       "      <td>Nigeria</td>\n",
       "    </tr>\n",
       "    <tr>\n",
       "      <th>8</th>\n",
       "      <td>Senegal</td>\n",
       "    </tr>\n",
       "    <tr>\n",
       "      <th>9</th>\n",
       "      <td>South Africa</td>\n",
       "    </tr>\n",
       "    <tr>\n",
       "      <th>10</th>\n",
       "      <td>Togo</td>\n",
       "    </tr>\n",
       "    <tr>\n",
       "      <th>11</th>\n",
       "      <td>Tunisia</td>\n",
       "    </tr>\n",
       "    <tr>\n",
       "      <th>12</th>\n",
       "      <td>Zaire</td>\n",
       "    </tr>\n",
       "  </tbody>\n",
       "</table>\n",
       "</div>"
      ],
      "text/plain": [
       "       team_name\n",
       "0        Algeria\n",
       "1         Angola\n",
       "2       Cameroon\n",
       "3          Egypt\n",
       "4          Ghana\n",
       "5    Ivory Coast\n",
       "6        Morocco\n",
       "7        Nigeria\n",
       "8        Senegal\n",
       "9   South Africa\n",
       "10          Togo\n",
       "11       Tunisia\n",
       "12         Zaire"
      ]
     },
     "execution_count": 24,
     "metadata": {},
     "output_type": "execute_result"
    }
   ],
   "source": [
    "sql(\"\"\"\n",
    "select team_name\n",
    "from teams join confederations \n",
    "on teams.confederation_id=confederations.confederation_id\n",
    "where confederation_code='CAF'\n",
    "    \"\"\")    "
   ]
  }
 ],
 "metadata": {
  "kernelspec": {
   "display_name": "Python 3 (ipykernel)",
   "language": "python",
   "name": "python3"
  },
  "language_info": {
   "codemirror_mode": {
    "name": "ipython",
    "version": 3
   },
   "file_extension": ".py",
   "mimetype": "text/x-python",
   "name": "python",
   "nbconvert_exporter": "python",
   "pygments_lexer": "ipython3",
   "version": "3.10.9"
  }
 },
 "nbformat": 4,
 "nbformat_minor": 5
}
