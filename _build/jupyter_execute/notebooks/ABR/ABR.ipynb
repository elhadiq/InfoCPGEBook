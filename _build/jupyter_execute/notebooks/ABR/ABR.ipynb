{
 "cells": [
  {
   "cell_type": "markdown",
   "id": "9d411b5c",
   "metadata": {},
   "source": [
    "# Arbres Binaires de Recherche"
   ]
  },
  {
   "cell_type": "markdown",
   "id": "c31f139a",
   "metadata": {},
   "source": [
    "<div class=\"alert alert-info\" role=\"alert\"> \n",
    "\n",
    "**Indication**:  Concernant les cellules qui contiens des théorèmes enlever le commenatire (< !-- -- >) pour visualiser la preuve apres avoir essayer le prouvé vous meme  </div>"
   ]
  },
  {
   "cell_type": "code",
   "execution_count": 1,
   "id": "b9ce990f",
   "metadata": {},
   "outputs": [],
   "source": [
    "import numpy as np\n",
    "import random"
   ]
  },
  {
   "cell_type": "markdown",
   "id": "a94641e9",
   "metadata": {},
   "source": [
    "--------------"
   ]
  },
  {
   "cell_type": "markdown",
   "id": "97f005be",
   "metadata": {},
   "source": [
    "Un arbre binaire de recherche {cite}`JPBABR` (en abrégé : ABR) permet l’implémentation sous forme d’arbre binaire de certaines structures de données stockant des éléments formés d’une clé et d’une valeur, tels les dictionnaires 7.<br>\n",
    "Nous allons donc considérer un ensemble ordonné de clés $C$ ainsi qu’un ensemble de valeurs $V$, et utiliser des arbres binaires étiquetés par $E = C × V.$<br>\n",
    "Les arbre binaire de recherche supportent nombre d’opérations qu’on utilise dans les structures de données, en particulier :<br>\n",
    "- la recherche d’un valeur associée à une clé donnée ;\n",
    "- la recherche de la valeur associée à la clé maximale (ou minimale) ;\n",
    "- la recherche du successeur d’une clé c, c’est à dire la valeur associée à la plus petite des clés strictement supérieures à c ;\n",
    "- la recherche du prédécesseur d’une clé ;\n",
    "- et bien sûr l’insertion ou la suppression d’un nouveau couple clé/valeur."
   ]
  },
  {
   "cell_type": "markdown",
   "id": "4fd5304d",
   "metadata": {},
   "source": [
    "![abr.png](abr.png)\n",
    "\n",
    "Figure 1 – Un exemple d’arbre binaire de recherche (seules les clés ont été représentées)"
   ]
  },
  {
   "cell_type": "markdown",
   "id": "6d0e7540",
   "metadata": {},
   "source": [
    "**Définition.**<br>\n",
    "un arbre binaire $A$ est un arbre binaire de recherche s’il est vide ou égal à $[(c,v),Fg, Fd]$ où :\n",
    ">- $Fg$ et $Fd$ sont des arbres binaires de recherche ;\n",
    ">- toute clé de $Fg$ est inférieure (ou égale ) à $c$ ;\n",
    ">- toute clé de $Fd$ est supérieure (ou égale) à $c$."
   ]
  },
  {
   "cell_type": "markdown",
   "id": "0879b8cc",
   "metadata": {},
   "source": [
    "Autrement dit, A est un arbre binaire de recherche lorsque tout nœud de A est associé à une clé supérieure ou \n",
    "égale à toute clé de son fils gauche, et inférieure ou égale à toute clé de son fils droit."
   ]
  },
  {
   "cell_type": "markdown",
   "id": "acae3448",
   "metadata": {},
   "source": [
    "<div class=\"alert alert-success\" role=\"alert\">\n",
    "\n",
    "**Theorème.** Lors du parcours infixe d’un arbre binaire de recherche, les clés sont parcourues par ordre croissant.<br><br>\n",
    "    \n",
    "    \n",
    "\n",
    "\n",
    "**Preuve.** On **procède** par induction :\n",
    "- si A = [ ], il n’y a rien à prouver ;\n",
    "- si A = [x,Fg,Fd], on suppose que les parcours infixes de Fg et de Fd se font par ordre de clés croissantes.\n",
    "Sachant que toute clé de Fg est inférieure à la clé de x et toute clé de Fd supérieure à cette dernière, le parcours $$Fg \\rightarrow x\\rightarrow Fd$$ est bien effectué par ordre croissant de clé.\n",
    "\n",
    "</div>\n",
    "\n"
   ]
  },
  {
   "cell_type": "markdown",
   "id": "f5f71851",
   "metadata": {},
   "source": [
    "## Insertion et suppression"
   ]
  },
  {
   "cell_type": "markdown",
   "id": "372edc3b",
   "metadata": {},
   "source": [
    "### 1. Insertion et suppression dans un arbre binaire de recherche quelconque"
   ]
  },
  {
   "cell_type": "markdown",
   "id": "5f14bfc6",
   "metadata": {},
   "source": [
    "#### Insertion "
   ]
  },
  {
   "cell_type": "markdown",
   "id": "e89d895f",
   "metadata": {},
   "source": [
    " Pour insérer le couple $(k;u) \\in C×V$ dans l’arbre $A$ on procède ainsi :\n",
    "> - si $A = [ ]$, on retourne l’arbre $((k,u),[],[])$ ;\n",
    "> - si $A = [(c,v),Fg,Fd]$ alors :\n",
    ">     -  si $c = k$ on remplace  le couple $(c,v)$par $(k,u)$et on insère $(c,v)$dans $Fg$ou $Fd$;\n",
    ">     - si $c > k$ on insère $(k,u)$ dans $Fg$;\n",
    ">     - si $c < k$ on insère $(k,u)$ dans $Fd$"
   ]
  },
  {
   "cell_type": "code",
   "execution_count": 2,
   "id": "e1ab85ee",
   "metadata": {},
   "outputs": [],
   "source": [
    "def insertion_feuille(A,paire):\n",
    "    if A==[]:\n",
    "        A.extend([paire,[],[]])\n",
    "    elif paire[0]<=A[0][0]:\n",
    "        insertion_feuille(A[1],paire)\n",
    "    else:\n",
    "        insertion_feuille(A[2],paire)"
   ]
  },
  {
   "cell_type": "code",
   "execution_count": 3,
   "id": "035ede25",
   "metadata": {},
   "outputs": [],
   "source": [
    "def remplire(A,L):\n",
    "    for paire in L:\n",
    "        insertion_feuille(A,paire)"
   ]
  },
  {
   "cell_type": "code",
   "execution_count": 4,
   "id": "fdf5dd49",
   "metadata": {},
   "outputs": [],
   "source": [
    "def initialiser():\n",
    "    random.seed(0)#Pour avoir les meme valeurs aleatoires\n",
    "    L=[random.randint(0,20) for _ in range(8)]\n",
    "    L=[(e,\"v\"+str(e)) for e in L]\n",
    "    #print(\"-->\".join([str(p) for p in  L]))\n",
    "    A=[]#Initialisation par liste vide.\n",
    "    remplire(A,L)\n",
    "    #print(L)\n",
    "    return A,L"
   ]
  },
  {
   "cell_type": "code",
   "execution_count": 5,
   "id": "a182d3c5",
   "metadata": {},
   "outputs": [
    {
     "name": "stdout",
     "output_type": "stream",
     "text": [
      "[(12, 'v12'), [(1, 'v1'), [], [(8, 'v8'), [], [(12, 'v12'), [(9, 'v9'), [], []], []]]], [(13, 'v13'), [], [(16, 'v16'), [(15, 'v15'), [], []], []]]]\n"
     ]
    }
   ],
   "source": [
    "A,L=initialiser()\n",
    "print(A)"
   ]
  },
  {
   "cell_type": "markdown",
   "id": "7cd14ae0",
   "metadata": {},
   "source": [
    "Cette fonction d’insertion à un coût en $O(h(A))$."
   ]
  },
  {
   "cell_type": "markdown",
   "id": "82ab8ad7",
   "metadata": {},
   "source": [
    "### Suppression"
   ]
  },
  {
   "cell_type": "markdown",
   "id": "f57199e7",
   "metadata": {},
   "source": [
    "#### Supprission de la valeur minimale"
   ]
  },
  {
   "cell_type": "markdown",
   "id": "66730184",
   "metadata": {},
   "source": [
    "Nous aurons besoin d’une fonction qui prend en argument un arbre $A$ et retourne le couple $(m;A')$ formé d’un élément m de clé minimale et de l’arbre $A' = A\\backslash  \\{m\\}$ :\n",
    "> - Si A=[ ]: Alors rien à supprimer\n",
    "> - Si Fg=[ ] alors supprimer la racine et remplacer l'arbre A par Fd.\n",
    "> - Sinon supprimer le couple minimale à partir de l'arbre gauche."
   ]
  },
  {
   "cell_type": "code",
   "execution_count": 6,
   "id": "2b01a0b9",
   "metadata": {},
   "outputs": [],
   "source": [
    "def supprime_min(A):\n",
    "    if A==[]:\n",
    "        return None\n",
    "    if A[1]==[]:\n",
    "        droped=A[0]\n",
    "        A[:]=A[2]\n",
    "        return droped\n",
    "    return supprime_min(A[1])"
   ]
  },
  {
   "cell_type": "markdown",
   "id": "619f1ea2",
   "metadata": {},
   "source": [
    "La suppression d’une clé $k$ dans un arbre binaire de recherche consiste à supprimer le couple $(k;v)$ situé à la profondeur minimale dans l’arbre $A = [(c;v);Fg;Fd].$ On procède ainsi :\n",
    "> - si $k < c$, on supprime un élément de clé k dans Fg ;\n",
    "> - si $k > c$, on supprime un élément de clé k dans Fd ;\n",
    "> - si $k = c$, alors :\n",
    ">    - si $Fg = [ ]$ on renvoie $Fd$ ;\n",
    ">    - si $Fd = [ ]$ on renvoie $Fg$ ;\n",
    ">    - sinon, on supprime de $Fd$ un élément $m$ de clé minimale pour obtenir $Fd'$ et on retourne [m, Fg, Fd' ]."
   ]
  },
  {
   "cell_type": "markdown",
   "id": "8cee2eec",
   "metadata": {},
   "source": [
    "La suppression d’une clé k se réalise alors ainsi :"
   ]
  },
  {
   "cell_type": "code",
   "execution_count": 7,
   "id": "a0c40975",
   "metadata": {},
   "outputs": [],
   "source": [
    "def supprimer(A,k):\n",
    "    if A==[]:\n",
    "        return None\n",
    "    if k<A[0][0]:\n",
    "        return supprimer(A[1],k)\n",
    "    if k>A[0][0]:\n",
    "        return supprimer(A[2],k)\n",
    "    \n",
    "    if A[1]==[]:\n",
    "        dropped,A[:]=A[0],A[2]\n",
    "        return dropped\n",
    "    if A[2]==[]:\n",
    "        dropped,A[:]=A[0],A[1]\n",
    "        return dropped\n",
    "    m=supprime_min(A[2])\n",
    "    A[:]=[m,A[1],A[2]]\n",
    "    return A[0]"
   ]
  },
  {
   "cell_type": "code",
   "execution_count": 8,
   "id": "31b4b1aa",
   "metadata": {
    "scrolled": true
   },
   "outputs": [
    {
     "name": "stdout",
     "output_type": "stream",
     "text": [
      "[(12, 'v12'), [(1, 'v1'), [], [(8, 'v8'), [], [(12, 'v12'), [(9, 'v9'), [], []], []]]], [(13, 'v13'), [], [(16, 'v16'), [(15, 'v15'), [], []], []]]]\n"
     ]
    }
   ],
   "source": [
    "A,_=initialiser()\n",
    "print(A)"
   ]
  },
  {
   "cell_type": "code",
   "execution_count": 9,
   "id": "588704f0",
   "metadata": {
    "scrolled": true
   },
   "outputs": [
    {
     "name": "stdout",
     "output_type": "stream",
     "text": [
      "[(12, 'v12'), [(1, 'v1'), [], [(12, 'v12'), [(9, 'v9'), [], []], []]], [(13, 'v13'), [], [(16, 'v16'), [(15, 'v15'), [], []], []]]]\n"
     ]
    }
   ],
   "source": [
    "supprimer(A,8)\n",
    "print(A)"
   ]
  },
  {
   "cell_type": "markdown",
   "id": "a0905098",
   "metadata": {},
   "source": [
    "La fonction de suppression a elle aussi un coût temporel en $O(h(A))$ puisque chaque appel récursif s’effectue sur un arbre de hauteur inférieur au précédent."
   ]
  },
  {
   "cell_type": "markdown",
   "id": "899cc9ca",
   "metadata": {},
   "source": [
    "## Requêtes dans un arbre binaire de recherche"
   ]
  },
  {
   "cell_type": "markdown",
   "id": "88e6fa66",
   "metadata": {},
   "source": [
    "### Recherche d’une clé\n",
    "Une des opérations les plus courantes dans un arbre binaire de recherche $A$ = $[Fg;(c;v);Fd]$ est la recherche\n",
    "d’une valeur associée à une clé particulière $k$.\n",
    "<BR>La démarche est évidente :\n",
    "> - si $k = c$, retourner $v$ ;\n",
    "> - si $k < c$, rechercher $k$ dans $Fg$ ;\n",
    "> - si $k > c$, rechercher $k$ dans $Fd$.\n",
    "\n",
    "Dans le cas où les clés ne sont pas toutes distinctes on retournera la valeur associée à la première clé égale à $k$ rencontrée."
   ]
  },
  {
   "cell_type": "code",
   "execution_count": 10,
   "id": "40995ef5",
   "metadata": {},
   "outputs": [],
   "source": [
    "recherche=lambda A,k: None if A==[] else  A[0][1] if A[0][0]==k else recherche(A[1],k) if k<A[0][0] else recherche(A[2],k)"
   ]
  },
  {
   "cell_type": "code",
   "execution_count": 11,
   "id": "2e344d5b",
   "metadata": {},
   "outputs": [
    {
     "data": {
      "text/plain": [
       "'v12'"
      ]
     },
     "execution_count": 11,
     "metadata": {},
     "output_type": "execute_result"
    }
   ],
   "source": [
    "recherche(A,12)"
   ]
  },
  {
   "cell_type": "markdown",
   "id": "9204156b",
   "metadata": {},
   "source": [
    "### 2.1 Recherche de la clé minimale / maximale\n",
    "La recherche de la valeur associée à la clé minimale se poursuit dans le fils gauche tant que ce dernier n’est pas\n",
    "vide :"
   ]
  },
  {
   "cell_type": "code",
   "execution_count": 12,
   "id": "2aa7aabc",
   "metadata": {},
   "outputs": [
    {
     "data": {
      "text/plain": [
       "False"
      ]
     },
     "execution_count": 12,
     "metadata": {},
     "output_type": "execute_result"
    }
   ],
   "source": [
    "np.inf<10"
   ]
  },
  {
   "cell_type": "code",
   "execution_count": 13,
   "id": "763be43b",
   "metadata": {},
   "outputs": [],
   "source": [
    "def recherche_min(A):\n",
    "    if A==[]:\n",
    "        #return (+infinie,\"no min\") si l'arbre est vide\n",
    "        return (np.infty,\"no min\")\n",
    "    #sinon poursivie la recherche dans le sous arbre gauche\n",
    "    min_g=recherche_min(A[1])\n",
    "    if A[0][0]<min_g[0]:\n",
    "        return A[0]\n",
    "    else:\n",
    "        return min_g"
   ]
  },
  {
   "cell_type": "code",
   "execution_count": 14,
   "id": "0a918a75",
   "metadata": {},
   "outputs": [
    {
     "data": {
      "text/plain": [
       "(1, 'v1')"
      ]
     },
     "execution_count": 14,
     "metadata": {},
     "output_type": "execute_result"
    }
   ],
   "source": [
    "A,_=initialiser()\n",
    "recherche_min(A)"
   ]
  },
  {
   "cell_type": "markdown",
   "id": "aa74c80d",
   "metadata": {},
   "source": [
    "La fonction retournant la valeur associée à la clé maximale est symétrique :"
   ]
  },
  {
   "cell_type": "code",
   "execution_count": 15,
   "id": "bf80d8a8",
   "metadata": {},
   "outputs": [
    {
     "data": {
      "text/plain": [
       "float"
      ]
     },
     "execution_count": 15,
     "metadata": {},
     "output_type": "execute_result"
    }
   ],
   "source": [
    "import numpy as np\n",
    "type(np.infty)"
   ]
  },
  {
   "cell_type": "code",
   "execution_count": 16,
   "id": "53689ed3",
   "metadata": {},
   "outputs": [],
   "source": [
    "def recherche_max(A):\n",
    "    if A==[]:\n",
    "        #return (-infinie,\"no max\") si l'arbre est vide\n",
    "        return (-np.infty,\"no max\")\n",
    "    #sinon poursivie la recherche dans le sous arbre droit\n",
    "    max_d=recherche_max(A[2])\n",
    "    if A[0][0]>=max_d[0]:\n",
    "        return A[0]\n",
    "    else:\n",
    "        return max_d"
   ]
  },
  {
   "cell_type": "code",
   "execution_count": 17,
   "id": "d7293545",
   "metadata": {},
   "outputs": [
    {
     "data": {
      "text/plain": [
       "(16, 'v16')"
      ]
     },
     "execution_count": 17,
     "metadata": {},
     "output_type": "execute_result"
    }
   ],
   "source": [
    "recherche_max(A)"
   ]
  },
  {
   "cell_type": "markdown",
   "id": "edd5fd64",
   "metadata": {},
   "source": [
    "### Recherche du prédécesseur / successeur\n",
    "$k\\in C$ étant donné, il s’agit cette fois de retourner la valeur associée à la plus grande des clés c contenues dans l’arbre et vérifiant :  $ c < k$ (respectivement $c > k$)"
   ]
  },
  {
   "cell_type": "code",
   "execution_count": 18,
   "id": "5c9b2f0c",
   "metadata": {},
   "outputs": [],
   "source": [
    "def prédécesseur(A,k):\n",
    "    if A==[]:\n",
    "        return None\n",
    "    if A[0][0]<k:\n",
    "        pred=prédécesseur(A[2],k)\n",
    "        return A[0][1] if pred == None else pred\n",
    "    else:\n",
    "        return prédécesseur(A[1],k)"
   ]
  },
  {
   "cell_type": "code",
   "execution_count": 19,
   "id": "506a5954",
   "metadata": {
    "scrolled": true
   },
   "outputs": [
    {
     "name": "stdout",
     "output_type": "stream",
     "text": [
      "prédécesseur de: \n",
      "\tv9 < v12\n",
      "\tv12 < v13\n",
      "\tNone < v1\n",
      "\tv1 < v8\n",
      "\tv15 < v16\n",
      "\tv13 < v15\n",
      "\tv9 < v12\n",
      "\tv8 < v9\n"
     ]
    }
   ],
   "source": [
    "print(\"prédécesseur de: \")\n",
    "for e in L:\n",
    "    print(\"\\t{} < {}\".format(prédécesseur(A,e[0]),e[1]))"
   ]
  },
  {
   "cell_type": "code",
   "execution_count": 20,
   "id": "7d40a9d6",
   "metadata": {},
   "outputs": [],
   "source": [
    "def successeur(A,k):\n",
    "    if A==[]:\n",
    "        return None\n",
    "    if A[0][0]>k:\n",
    "        succ=successeur(A[1],k)\n",
    "        return A[0][1] if succ is None else succ\n",
    "    else:\n",
    "        return successeur(A[2],k)"
   ]
  },
  {
   "cell_type": "code",
   "execution_count": 21,
   "id": "691ef296",
   "metadata": {},
   "outputs": [
    {
     "name": "stdout",
     "output_type": "stream",
     "text": [
      "prédécesseur | clé | successeur \n",
      "\tv9 < v12<v13\n",
      "\tv12 < v13<v15\n",
      "\tNone < v1<v8\n",
      "\tv1 < v8<v9\n",
      "\tv15 < v16<None\n",
      "\tv13 < v15<v16\n",
      "\tv9 < v12<v13\n",
      "\tv8 < v9<v12\n"
     ]
    }
   ],
   "source": [
    "print(\"prédécesseur | clé | successeur \")\n",
    "for e in L:\n",
    "    print(\"\\t{} < {}<{}\".format(prédécesseur(A,e[0]),e[1],successeur(A,e[0])))"
   ]
  },
  {
   "cell_type": "markdown",
   "id": "4f234a75",
   "metadata": {},
   "source": [
    "### Complexité temporelle\n",
    "Toutes ces fonctions ont à l’évidence un coût temporel en $O(h(A))$, ce qui explique tout l’intérêt qu’il peut y avoir à ce que l’arbre binaire de recherche soit équilibré : dans un arbre binaire quelconque d’ordre $n = taille(A)$, on peut affirmer que le coût d’une requête est un $O(n)$ ; dans le cas d’un arbre de recherche équilibré, on peut assurer un coût en $O(log(n))$"
   ]
  }
 ],
 "metadata": {
  "kernelspec": {
   "display_name": "Python 3 (ipykernel)",
   "language": "python",
   "name": "python3"
  },
  "language_info": {
   "codemirror_mode": {
    "name": "ipython",
    "version": 3
   },
   "file_extension": ".py",
   "mimetype": "text/x-python",
   "name": "python",
   "nbconvert_exporter": "python",
   "pygments_lexer": "ipython3",
   "version": "3.10.9"
  },
  "vscode": {
   "interpreter": {
    "hash": "ae0f79b32b2845dac7e94ce8e1e5e879cbbee5c3210b1fdfbe8967149bf7e5fc"
   }
  }
 },
 "nbformat": 4,
 "nbformat_minor": 5
}