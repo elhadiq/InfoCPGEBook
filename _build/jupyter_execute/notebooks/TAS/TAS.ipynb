{
 "cells": [
  {
   "cell_type": "markdown",
   "id": "408855dc",
   "metadata": {},
   "source": [
    "\n",
    "---\n",
    "- Prof: EL HADIQ ZOUHAIR\n",
    "- CPGE: Moulay Youssef Rabat\n",
    "- Classes: MP1, MP4, PI2\n",
    "---"
   ]
  },
  {
   "attachments": {},
   "cell_type": "markdown",
   "id": "feb26ca6",
   "metadata": {},
   "source": [
    "# Les Tas binaires"
   ]
  },
  {
   "cell_type": "markdown",
   "id": "599af08c",
   "metadata": {},
   "source": [
    "## Tas-min et tas-max\n",
    "Un arbre binaire est dit parfait lorsque tous les niveaux hiérarchiques sont remplis sauf éventuellement le dernier, partiellement rempli de la gauche vers la droite."
   ]
  },
  {
   "cell_type": "markdown",
   "id": "699d4de9",
   "metadata": {},
   "source": [
    "![heap.png](heap.png)\n",
    "<center>Figure 1 – Un exemple de tas-min.</center>"
   ]
  },
  {
   "attachments": {},
   "cell_type": "markdown",
   "id": "6f95bd52",
   "metadata": {},
   "source": [
    "**Définition**\n",
    "- On appelle tas-max un arbre parfait étiqueté par un ensemble ordonné E tel que l’étiquette de chaque nœud autre que la racine soit inférieure ou égale à l’étiquette de son père.\n",
    "- Bien entendu, un tas-min possède la propriété opposée : l’étiquette de chaque nœud autre que la racine est supérieure ou égale à l’étiquette de son père\n"
   ]
  },
  {
   "cell_type": "markdown",
   "id": "135fe29b",
   "metadata": {},
   "source": [
    "### Implémentation d’un tas\n",
    "Comme tout arbre binaire, un tas peut être représenté par le type $[r,FG,FD]$, mais une autre représentation est possible en utilisant un vecteur de valeurs.\n",
    "\n",
    "Rappelons que la numérotation **Sosa-Stradonitz** des nœuds d’un arbre binaire se définit ainsi :\n",
    "- la racine porte le numéro 0 ;\n",
    "- si un nœud porte le numéro k, son fils gauche porte le numéro 2k+1 et son fils droit le numéro 2(k + 1).\n",
    "\n",
    "De ceci il résulte immédiatement que le père d’un nœud de numéro k porte le numéro $(k-1)//2$.\n",
    "Il est donc possible d’établir une correspondance entre l’indice k > 1 d’un tableau et la numérotation d’un nœud. \n",
    "\n",
    "Dans le cas d’un arbre binaire quelconque, cette représentation ne présente en général pas d’intérêt car le nombre de cases inutilisées peut être très important (dans le cas extrême d’un arbre peigne gauche, seules les cases correspondant aux puissances de 2 sont utilisées, ce qui nécessiterait un coût spatial exponentiel pour le représenter). En revanche, pour un arbre parfait, seules les cases numérotées entre 1 et n sont utilisées pour représenter un arbre de taille n."
   ]
  },
  {
   "attachments": {},
   "cell_type": "markdown",
   "id": "c3f3ee31",
   "metadata": {},
   "source": [
    "| 1 | 2 | 3 | 17 | 19 | 36 | 7 | 25 | 100 |\n",
    "| --|-- | -- | -- | --| -- | -- |--| --  |\n",
    "\n",
    "Figure 2 – Une représentation tabulaire du tas-max de la figure 1.\n"
   ]
  },
  {
   "cell_type": "markdown",
   "id": "2c7283e8",
   "metadata": {},
   "source": [
    "#### Implémentation\n",
    "Un tas binaire est un arbre binaire parfait, on peut donc l'implémenter de manière compacte avec un tableau.\n",
    "\n",
    "> - La racine se situe à l'index $0$\n",
    "> - Étant donné un nœud à l'index $i$, son fils gauche est à l'index $2i+1$ et son fils droit à $2i+2$\n",
    "> - Étant donné un nœud à l'index $i>0$, son père est à l'index $ \\lfloor  \\frac  {i-1}{2}   \\rfloor$ (arrondi à l'entier inférieur).\n"
   ]
  },
  {
   "cell_type": "markdown",
   "id": "a38a0939",
   "metadata": {},
   "source": [
    "![heap_table.png](heap_table.png)"
   ]
  },
  {
   "cell_type": "code",
   "execution_count": 1,
   "id": "a7a06c02",
   "metadata": {},
   "outputs": [],
   "source": [
    "def gauche(i):\n",
    "    return 2*i+1\n",
    "\n",
    "def droite(i):\n",
    "    return 2*i+2\n",
    "def pere(i):\n",
    "    return (i-1)//2"
   ]
  },
  {
   "cell_type": "code",
   "execution_count": 2,
   "id": "9a36f1eb",
   "metadata": {},
   "outputs": [
    {
     "data": {
      "text/plain": [
       "[0, 1, 2, 3, 4, 5, 6, 7, 8, 9]"
      ]
     },
     "execution_count": 2,
     "metadata": {},
     "output_type": "execute_result"
    }
   ],
   "source": [
    "Tas_min=list(range(10))\n",
    "Tas_min"
   ]
  },
  {
   "cell_type": "code",
   "execution_count": 3,
   "id": "c306003a",
   "metadata": {},
   "outputs": [
    {
     "name": "stdout",
     "output_type": "stream",
     "text": [
      "2 9 8 4 "
     ]
    }
   ],
   "source": [
    "print(droite(0),end=' ')\n",
    "print(gauche(4),end=' ')\n",
    "print(droite(3),end=' ')\n",
    "print(pere(9),end=' ')"
   ]
  },
  {
   "cell_type": "markdown",
   "id": "3bf029d4",
   "metadata": {},
   "source": [
    "### Opérations usuelles sur les tas"
   ]
  },
  {
   "cell_type": "markdown",
   "id": "94fa28e4",
   "metadata": {},
   "source": [
    "Dans ce qui suit, nous ne prendrons en compte que des tas-max, mais il va de soit que toutes les fonctions que nous écrirons s’adaptent sans difficulté au cas des tas-min.\n",
    "####  Préservation de la structure de tas"
   ]
  },
  {
   "cell_type": "markdown",
   "id": "949ddf3a",
   "metadata": {},
   "source": [
    "Une des opérations les plus fréquentes sur les tas consiste à reconstituer la structure de tas après qu’un élément ait été modifié.\n",
    "\n",
    "Si la nouvelle valeur de cet élément est supérieure à la précédente, il se peut que cet élément doive « monter » dans l’arbre pour reconstituer un tas ; dans le cas contraire, il se peut que cet élément ait à « descendre » dans l’arbre."
   ]
  },
  {
   "cell_type": "markdown",
   "id": "d924e24d",
   "metadata": {},
   "source": [
    "**La montée** est plus simple : il suffit de permuter l’élément modifié avec son père tant que la structure de tas\n",
    "n’est pas reconstituée :"
   ]
  },
  {
   "cell_type": "code",
   "execution_count": 4,
   "id": "2abedac3",
   "metadata": {},
   "outputs": [],
   "source": [
    "def remonte (Tas,k):\n",
    "    if k!=0:\n",
    "        if Tas[k]>Tas[pere(k)]:\n",
    "            Tas[k],Tas[pere(k)]=Tas[pere(k)],Tas[k]\n",
    "            remonte (Tas,pere(k))"
   ]
  },
  {
   "cell_type": "markdown",
   "id": "646cfdce",
   "metadata": {},
   "source": [
    "Pour **la Percolation/ descente** , c’est un peu plus délicat : il faut permuter l’élément modifié avec le plus grand de ses fils, s’il en existe.\n",
    "\n",
    "On introduit un paramètre supplémentaire $n$ qui indique l’indice de la première case non utilisée dans la représentation du tas.\n",
    "\n",
    "Trois cas sont possibles : \n",
    "- si droite(i) < n, i possède deux fils gauche(i) et droite(i) ; \n",
    "- si n = gauche(i), i possède un seul fils gauche(i) ;\n",
    "- si gauche(i) > n, i ne possède pas de fils."
   ]
  },
  {
   "cell_type": "markdown",
   "id": "7c5d4a68",
   "metadata": {},
   "source": [
    "![entassermax.PNG](entassermax.PNG)"
   ]
  },
  {
   "cell_type": "code",
   "execution_count": 5,
   "id": "c20e0de6",
   "metadata": {},
   "outputs": [],
   "source": [
    "def percolation(T,k,n=None):\n",
    "    if n is None:\n",
    "        n=len(T)-1\n",
    "    maxf= -1 if gauche(k)>n else gauche(k) if gauche(k)==n else (gauche(k) if (T[gauche(k)]>T[droite(k)]) else droite(k))\n",
    "    if maxf !=-1:\n",
    "        if T[maxf]>T[k]:\n",
    "            # le max des fils remonte\n",
    "            T[maxf],T[k]=T[k],T[maxf]\n",
    "            #on continue la descente pour l'ancien pere\n",
    "            percolation(T,maxf,n)"
   ]
  },
  {
   "cell_type": "code",
   "execution_count": 6,
   "id": "cc9a9032",
   "metadata": {},
   "outputs": [
    {
     "name": "stdout",
     "output_type": "stream",
     "text": [
      "[1, 2, 3, 4, 5, 6]\n",
      "[6, 2, 1, 4, 5, 3]\n"
     ]
    }
   ],
   "source": [
    "T=[1,2,3,4,5,6]\n",
    "print(T)\n",
    "remonte(T,5)\n",
    "print(T)"
   ]
  },
  {
   "cell_type": "code",
   "execution_count": 7,
   "id": "7c6364d2",
   "metadata": {},
   "outputs": [
    {
     "name": "stdout",
     "output_type": "stream",
     "text": [
      "[1, 2, 3, 4, 5, 6]\n",
      "[3, 2, 6, 4, 5, 1]\n"
     ]
    }
   ],
   "source": [
    "Tas=[1,2,3,4,5,6]\n",
    "print(Tas)\n",
    "percolation(Tas,0)\n",
    "print(Tas)"
   ]
  },
  {
   "cell_type": "markdown",
   "id": "b465cc0d",
   "metadata": {},
   "source": [
    "Le temps d’exécution de chacune des ces deux fonctions dans un tas T est un $O(h(T))$ donc un $O(log n)$, l’entier n désignant la taille du tas."
   ]
  },
  {
   "cell_type": "markdown",
   "id": "6b0d9f25",
   "metadata": {},
   "source": [
    "### construction d’un tas\n",
    "Il y a deux façons de convertir un tableau t en un tas-max. La première consiste à maintenir l’invariant : « $T[0..k]$ est un tas-max » en faisant remonter l’élément $k$ dans le tas situé à sa gauche à l’aide de la fonction monte :"
   ]
  },
  {
   "cell_type": "markdown",
   "id": "22cf52e2",
   "metadata": {},
   "source": [
    "![constTas.png](constTas.png)\n",
    "<center>Figure – Une étape de la construction d’un tas par remontée des nœuds.</center>"
   ]
  },
  {
   "cell_type": "code",
   "execution_count": 8,
   "id": "5075e8d7",
   "metadata": {},
   "outputs": [],
   "source": [
    "def construire_tas1(T):\n",
    "    for k in range(len(T)):\n",
    "        remonte(T,k)"
   ]
  },
  {
   "cell_type": "code",
   "execution_count": 9,
   "id": "d656142d",
   "metadata": {},
   "outputs": [
    {
     "name": "stdout",
     "output_type": "stream",
     "text": [
      "[1, 2, 3, 4, 5, 6]\n",
      "[6, 4, 5, 1, 3, 2]\n"
     ]
    }
   ],
   "source": [
    "Tas=[1,2,3,4,5,6]\n",
    "print(Tas)\n",
    "construire_tas1(Tas)\n",
    "print(Tas)"
   ]
  },
  {
   "cell_type": "markdown",
   "id": "ce05393d",
   "metadata": {},
   "source": [
    "Dans le pire des cas, chaque remontée aboutit à la racine (c’est le cas par exemple lorsque le tableau est initialement trié par ordre croissant). Dans ce cas, le nombre de permutations effectuées est égal à la somme des profondeurs de chacun des nœuds à l’exception de la racine. Si on note $p = log (n)$ la hauteur du tas, le nombre de permutations est donc égal à :\n",
    "\n",
    "$$\\Sigma_{k=1}^{p-1}k2^k+p(n-2^p+1)=(n+1)p-2^{p+1}+2=\\Theta (nlog n) $$ "
   ]
  },
  {
   "cell_type": "markdown",
   "id": "66f358fc",
   "metadata": {},
   "source": [
    "--------"
   ]
  },
  {
   "cell_type": "markdown",
   "id": "cbdc3f25",
   "metadata": {},
   "source": [
    "On peut faire mieux en observant  que la deuxième moitié du tableau Tas correspond aux feuilles de l’arbre et que chacune de ces feuilles est un tas à un élément. Il suffit donc de faire descendre l’élément tk pour unir peu à peu ces différents tas, de manière à préserver l’invariant : « chaque nœud de $Tas[k..n − 1]$ est la racine d’un tas-max »."
   ]
  },
  {
   "cell_type": "markdown",
   "id": "a452b662",
   "metadata": {},
   "source": [
    "![constTax2.PNG](constTax2.PNG)"
   ]
  },
  {
   "cell_type": "code",
   "execution_count": 10,
   "id": "61ead4e4",
   "metadata": {},
   "outputs": [],
   "source": [
    "def creer_tas(T):\n",
    "    n=len(T)-1\n",
    "    for k in range(n//2,-1,-1):\n",
    "        percolation(T,k,n)"
   ]
  },
  {
   "cell_type": "code",
   "execution_count": 11,
   "id": "a65cd7f0",
   "metadata": {},
   "outputs": [
    {
     "name": "stdout",
     "output_type": "stream",
     "text": [
      "[1, 2, 3, 4, 5, 6]\n",
      "[6, 5, 3, 4, 2, 1]\n"
     ]
    }
   ],
   "source": [
    "Tas=[1,2,3,4,5,6]\n",
    "print(Tas)\n",
    "creer_tas(Tas)\n",
    "print(Tas)"
   ]
  },
  {
   "cell_type": "markdown",
   "id": "34bc39d7",
   "metadata": {},
   "source": [
    "## Bibliothèque python pour les Tas Min"
   ]
  },
  {
   "cell_type": "markdown",
   "id": "ddc3a03a",
   "metadata": {},
   "source": [
    "https://docs.python.org/3/library/heapq.html#module-heapq"
   ]
  },
  {
   "cell_type": "markdown",
   "id": "930aa81d",
   "metadata": {},
   "source": [
    "Create a Heap\n",
    "A heap is created by using python’s inbuilt library named heapq. This library has the relevant functions to carry out various operations on heap data structure. Below is a list of these functions.\n",
    "\n",
    "- **heapify** − This function converts a regular list to a heap. In the resulting heap the smallest element gets pushed to the index position 0. But rest of the data elements are not necessarily sorted.\n",
    "\n",
    "- **heappush** − This function adds an element to the heap without altering the current heap.\n",
    "\n",
    "- **heappop** − This function returns the smallest data element from the heap.\n",
    "\n",
    "- **heapreplace** − This function replaces the smallest data element with a new value supplied in the function."
   ]
  },
  {
   "cell_type": "markdown",
   "id": "5af7a8d1",
   "metadata": {},
   "source": [
    "A heap is created by simply using a list of elements with the heapify function. In the below example we supply a list of elements and the heapify function rearranges the elements bringing the smallest element to the first position."
   ]
  },
  {
   "cell_type": "code",
   "execution_count": 12,
   "id": "1256d06e",
   "metadata": {},
   "outputs": [
    {
     "name": "stdout",
     "output_type": "stream",
     "text": [
      "[1, 3, 5, 78, 21, 45]\n"
     ]
    }
   ],
   "source": [
    "import heapq\n",
    "\n",
    "H = [21,1,45,78,3,5]\n",
    "# Use heapify to rearrange the elements\n",
    "heapq.heapify(H)\n",
    "print(H)"
   ]
  },
  {
   "cell_type": "markdown",
   "id": "fa4a8962",
   "metadata": {},
   "source": [
    "**Inserting into heap**\n",
    "\n",
    "Inserting a data element to a heap always adds the element at the last index. But you can apply heapify function again to bring the newly added element to the first index only if it smallest in value. In the below example we insert the number 8."
   ]
  },
  {
   "cell_type": "code",
   "execution_count": 13,
   "id": "e29bd153",
   "metadata": {},
   "outputs": [
    {
     "name": "stdout",
     "output_type": "stream",
     "text": [
      "[1, 3, 5, 78, 21, 45, 8]\n"
     ]
    }
   ],
   "source": [
    "# Add element\n",
    "heapq.heappush(H,8)\n",
    "print(H)"
   ]
  },
  {
   "cell_type": "code",
   "execution_count": 14,
   "id": "3aa5ca4d",
   "metadata": {},
   "outputs": [
    {
     "name": "stdout",
     "output_type": "stream",
     "text": [
      "[1, 3, 5, 78, 21, 45, 8]\n"
     ]
    }
   ],
   "source": [
    "heapq.heapify(H)\n",
    "print(H)"
   ]
  },
  {
   "cell_type": "markdown",
   "id": "8caf934d",
   "metadata": {},
   "source": [
    "**Removing from heap**\n",
    "\n",
    "You can remove the element at first index by using this function. In the below example the function will always remove the element at the index position 1."
   ]
  },
  {
   "cell_type": "code",
   "execution_count": 15,
   "id": "4d0452b1",
   "metadata": {
    "scrolled": true
   },
   "outputs": [
    {
     "name": "stdout",
     "output_type": "stream",
     "text": [
      "[3, 8, 5, 78, 21, 45]\n"
     ]
    }
   ],
   "source": [
    "# Remove element from the heap\n",
    "heapq.heappop(H)\n",
    "\n",
    "print(H)"
   ]
  },
  {
   "cell_type": "markdown",
   "id": "bc91de7b",
   "metadata": {},
   "source": [
    "**Replacing in a Heap**\n",
    "\n",
    "The heap replace function always removes the smallest element of the heap and inserts the new incoming element at some place not fixed by any order."
   ]
  },
  {
   "cell_type": "code",
   "execution_count": 16,
   "id": "66d12f57",
   "metadata": {
    "scrolled": true
   },
   "outputs": [
    {
     "name": "stdout",
     "output_type": "stream",
     "text": [
      "[5, 8, 6, 78, 21, 45]\n"
     ]
    }
   ],
   "source": [
    "# Replace an element\n",
    "heapq.heapreplace(H,6)\n",
    "print(H)"
   ]
  },
  {
   "cell_type": "markdown",
   "id": "462d70aa",
   "metadata": {},
   "source": [
    "## Reference\n",
    "[Jean-Pierre Becirspahic ](chttps://info-llg.fr/)\n",
    "https://info-llg.fr/option-mp/pdf/01.arbres.pdf"
   ]
  }
 ],
 "metadata": {
  "kernelspec": {
   "display_name": "base",
   "language": "python",
   "name": "python3"
  },
  "language_info": {
   "codemirror_mode": {
    "name": "ipython",
    "version": 3
   },
   "file_extension": ".py",
   "mimetype": "text/x-python",
   "name": "python",
   "nbconvert_exporter": "python",
   "pygments_lexer": "ipython3",
   "version": "3.8.8"
  },
  "vscode": {
   "interpreter": {
    "hash": "ae0f79b32b2845dac7e94ce8e1e5e879cbbee5c3210b1fdfbe8967149bf7e5fc"
   }
  }
 },
 "nbformat": 4,
 "nbformat_minor": 5
}