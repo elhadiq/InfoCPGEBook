{
 "cells": [
  {
   "cell_type": "markdown",
   "id": "96d7dd77",
   "metadata": {},
   "source": [
    "# Programmation dynamique"
   ]
  },
  {
   "cell_type": "markdown",
   "id": "1e1e0f08",
   "metadata": {},
   "source": [
    "## Introduction"
   ]
  },
  {
   "cell_type": "code",
   "execution_count": 1,
   "id": "d9b8cac9",
   "metadata": {},
   "outputs": [],
   "source": [
    "from mesurer import mesure\n",
    "import numpy as np\n",
    "##cette fonction permet de mesurer le temps d'exécution d'une autre fonction"
   ]
  },
  {
   "cell_type": "markdown",
   "id": "c792d8b1",
   "metadata": {},
   "source": [
    "### Un inconvénient de la programmation récursive"
   ]
  },
  {
   "cell_type": "markdown",
   "id": "ee6ede47",
   "metadata": {},
   "source": [
    "Nous allons nous intéresser au calcul du coefficient binomial $C^p_n=\\binom{n}{p}$ Une solution consiste à utiliser la programmation récursive et la formule de Pascal, ce qui nous amène à écrire :"
   ]
  },
  {
   "cell_type": "code",
   "execution_count": 2,
   "id": "bf32e45a",
   "metadata": {},
   "outputs": [],
   "source": [
    "def binom(n, p):\n",
    "    if p == 0 or n == p:\n",
    "        return 1\n",
    "    return binom(n- 1, p -1) + binom(n -1, p)"
   ]
  },
  {
   "cell_type": "code",
   "execution_count": 3,
   "id": "ff65c982",
   "metadata": {},
   "outputs": [
    {
     "name": "stdout",
     "output_type": "stream",
     "text": [
      "Temps d'execution :62.49358534812927 secondes \n"
     ]
    },
    {
     "data": {
      "text/plain": [
       "155117520"
      ]
     },
     "execution_count": 3,
     "metadata": {},
     "output_type": "execute_result"
    }
   ],
   "source": [
    "mesure(binom)(30,15)\n"
   ]
  },
  {
   "cell_type": "markdown",
   "id": "985f31a2",
   "metadata": {},
   "source": [
    "Malheureusement, cette fonction s’avère très peu efficace, même pour de relativement faibles valeurs de n et p : à titre d’illustration, il faut 42 secondes à mon ordinateur pour calculer  binom(30,15),\n",
    "\n",
    "La raison en est facile à comprendre : lorsqu’on observe par exemple l’arbre de calcul de $\\binom{5}{2}$ on constate qu'il ya des appels récursifs sont identiques et donc superflus (figure 1)."
   ]
  },
  {
   "cell_type": "markdown",
   "id": "2c356634",
   "metadata": {},
   "source": [
    "Nous pouvons par exemple constater que le calcul de $\\binom{5}{2}$ nécessite de calculer trois $\\binom{2}{1}$ Et l’expérience montre que le calcul de $\\binom{30}{15}$, fait appel 40 116 600 au calcul de $\\binom{2}{1}$."
   ]
  },
  {
   "cell_type": "markdown",
   "id": "4e9c6b0f",
   "metadata": {},
   "source": [
    "![binom.png](binom.png)"
   ]
  },
  {
   "cell_type": "markdown",
   "id": "3a8c4a52",
   "metadata": {},
   "source": [
    "## Où est le problème ?\n",
    "Le problème à résoudre, ici le calcul de $\\binom{n}{p}$, se ramène à la résolution de deux sous-problèmes : le calcul de $\\binom{n-1}{p-1}$ et de $\\binom{n-1}{p-1}$, sous-problèmes qui sont en interaction.\n",
    "\n",
    "Par exemple, on constate sur la figure 1 que le calcul de $\\binom{4}{1}$ et le calcul de $\\binom{4}{2}$ font tous deux appel au même sous-problème : le calcul de $\\binom{3}{1}$.\n",
    "\n",
    "Ainsi, la présence de sous-problèmes en interaction peut faire croitre très rapidement la complexité d’une\n",
    "fonction, au point d’en rendre son usage rédhibitoire."
   ]
  },
  {
   "cell_type": "markdown",
   "id": "3ddc4819",
   "metadata": {},
   "source": [
    "Tout comme les problèmes que l’on résout par une méthode « diviser pour régner », les problèmes que l’on\n",
    "résout par la programmation dynamique se ramènent à la résolution de sous-problèmes de tailles inférieures.\n",
    "\n",
    "Mais à la différence de la méthode « diviser pour régner », ces sous-problèmes ne sont pas indépendants, ce\n",
    "qui impose d’accompagner la programmation récursive par une analyse fine des relations de dépendance, ou\n",
    "beaucoup plus simplement par l’utilisation de la mémoïsation qui gère les relations de dépendance à notre\n",
    "place.\n"
   ]
  },
  {
   "cell_type": "markdown",
   "id": "6f578804",
   "metadata": {},
   "source": [
    "## Une solution proposée par la programmation dynamique de type (Bottom UP)\n",
    "La solution proposée par la programmation dynamique consiste à commencer par résoudre les plus petits des sous-problèmes, puis de combiner leurs solutions pour résoudre des sous-problèmes de plus en plus grands."
   ]
  },
  {
   "cell_type": "markdown",
   "id": "8812cd48",
   "metadata": {},
   "source": [
    "La solution proposée par la programmation dynamique consiste à commencer par résoudre les plus petits des\n",
    "sous-problèmes, puis de combiner leurs solutions pour résoudre des sous-problèmes de plus en plus grands.\n",
    "\n",
    "Concrètement, le calcul de $\\binom{5 }{2}$ se réalise en suivant le schéma :\n",
    "![bin5.png](bin5.png)"
   ]
  },
  {
   "cell_type": "markdown",
   "id": "13a766df",
   "metadata": {},
   "source": [
    "Pour réaliser ce type de solution on utilise souvent un tableau, ici un tableau bi-dimensionnel $(n + 1) \\times (p + 1)$ (dont seule la partie pour laquelle $i > j$ sera utilisée). \n",
    "\n",
    "Ce tableau sera progressivement rempli par les valeurs des coefficients binomiaux, en commençant par les plus petits: ![bintable.png](bintable.png)"
   ]
  },
  {
   "cell_type": "markdown",
   "id": "de5a36d3",
   "metadata": {},
   "source": [
    "Il faut faire attention à bien respecter la relation de dépendance (modélisée par les flèches\n",
    "sur le schéma ci-dessus)\n",
    "pour remplir les cases de ce tableau : la case destinée à recevoir la valeur de $\\binom{i}{j}$ ne peut être remplie qu’après les cases destinées à recevoi $\\binom{i-1}{j-1}$ et $\\binom{i-1}{j}$  "
   ]
  },
  {
   "cell_type": "code",
   "execution_count": 4,
   "id": "15a9a185",
   "metadata": {},
   "outputs": [],
   "source": [
    "def binom_bottom_up(n, p): \n",
    "    ## Algorithme itératif avec list\n",
    "    t = np.zeros((n + 1, p + 1), dtype=np.int64) \n",
    "    for i in range(0, n + 1): \n",
    "        t[i, 0] = 1\n",
    "    for i in range(1, p + 1):\n",
    "        t[i, i] = 1\n",
    "    for i in range(2, n + 1):\n",
    "        for j in range(1, min(p, i) + 1):\n",
    "            t[i, j] = t[i - 1, j - 1] + t[i -1, j]\n",
    "    return t[n, p]"
   ]
  },
  {
   "cell_type": "markdown",
   "id": "68658899",
   "metadata": {},
   "source": [
    "Au prix d’un coût spatial (la création du tableau) cet algorithme est bien plus efficient que l’algorithme récursif initial puisque sa complexité temporelle et spatiale est maintenant en O(np).\n",
    "Remarque. Notons que cette solution n’est pas encore optimale : il est facile de constater sur le schéma de dépendance que l’algorithme ci-dessus remplit des cases inutiles pour le calcul de $\\binom{n}  {p}$  : seules celles qui sont colorées sont nécessaires.\n",
    "\n",
    "Un autre inconvénient, plus important celui-là réside dans la perte de lisibilité de l’algorithme, comparativement à l’algorithme récursif. L’idéal serait donc de combiner l’élégance de la programmation récursive avec l’efficacité de la programmation dynamique.\n",
    "\n",
    "## Une solution proposée par la programmation dynamique de type (Top Down)\n",
    "\n",
    "La solution existe, elle porte le nom de mémoïsation. \n",
    "\n",
    "Elle consiste à associer à la fonction un dictionnaire qui va mémoriser le résultat du calcul réalisé. Ainsi, à chaque fois que le programme aura besoin de calculer une valeur, il ira voir dans le dictionnaire si la valeur dont il a besoin a déjà été calculée, et ne réalisera le calcul que dans le cas contraire, en ajoutant ensuite la nouvelle valeur calculée au dictionnaire.\n",
    "\n",
    "Le calcul du coefficient binomial va alors prendre la forme qui suit :"
   ]
  },
  {
   "cell_type": "code",
   "execution_count": 5,
   "id": "334108e6",
   "metadata": {},
   "outputs": [],
   "source": [
    "binom_dict = {}\n",
    "def binom_top_down(n, p): \n",
    "    if (n, p) not in binom_dict:\n",
    "        if p == 0 or n == p:\n",
    "            b = 1\n",
    "        else:\n",
    "            b = binom_top_down(n - 1, p - 1) + binom_top_down(n - 1, p)\n",
    "        binom_dict[(n, p)] = b\n",
    "    return binom_dict[(n, p)]"
   ]
  },
  {
   "cell_type": "markdown",
   "id": "2d71b716",
   "metadata": {},
   "source": [
    "On peut observer\n",
    "que le programme récursif se retrouve presque mot pour mot lignes 5 à 8. !\n",
    "Calculons $\\binom{5}{2}$ avec cette fonction, puis observons le contenu du dictionnaire :"
   ]
  },
  {
   "cell_type": "code",
   "execution_count": 6,
   "id": "b0ceb499",
   "metadata": {},
   "outputs": [
    {
     "data": {
      "text/plain": [
       "10"
      ]
     },
     "execution_count": 6,
     "metadata": {},
     "output_type": "execute_result"
    }
   ],
   "source": [
    "binom_top_down(5, 2)"
   ]
  },
  {
   "cell_type": "code",
   "execution_count": 7,
   "id": "c1ee3569",
   "metadata": {},
   "outputs": [
    {
     "name": "stdout",
     "output_type": "stream",
     "text": [
      "{(3, 0): 1, (2, 0): 1, (1, 0): 1, (1, 1): 1, (2, 1): 2, (3, 1): 3, (4, 1): 4, (2, 2): 1, (3, 2): 3, (4, 2): 6, (5, 2): 10}\n"
     ]
    }
   ],
   "source": [
    "print(binom_dict)"
   ]
  },
  {
   "cell_type": "markdown",
   "id": "cdae8c8f",
   "metadata": {},
   "source": [
    "On peut constater qu’on y retrouve les 10 valeurs nécessaires pour réaliser ce calcul. J’ai représenté figure suivante  l’ordre dans lequel ces valeurs ont été introduites dans le dictionnaire.\n",
    "![order.png](order.png)"
   ]
  },
  {
   "cell_type": "markdown",
   "id": "e1259b77",
   "metadata": {},
   "source": [
    "<center>Ordre d’entrée dans le dictionnaire.</center>"
   ]
  },
  {
   "cell_type": "markdown",
   "id": "02cfe2c6",
   "metadata": {},
   "source": [
    "# Programmation Dynamique et optimisation\n",
    "Un des principaux champs d'applications de la programmation dynamique est la résolution de problèmes d'optimisation. Il s'agit de problèmes dont chaque solution possède une valeur. \n",
    "\n",
    "On cherche alors une solution de valeur optimale (minimale ou maximale).\n",
    "Il existe de nombreuses techniques pour résoudre ce genre de problèmes et\n",
    "la programmation dynamique en fait partie. Des méthodes gloutonnes peuvent également marcher.\n",
    "\n",
    "Il est donc logique de se demander à quelles conditions doit-on utiliser la programmation dynamique pour résoudre un problème d'optimisation.\n",
    "\n",
    "Il faut premièrement que l'ensemble des éléments constituant le problème soit discret et fini . \n",
    "Par exemple pour la recherche de plus courts chemins, ces éléments sont les sommets du graphe et les arêtes les reliant entre eux.\n",
    "\n",
    "Ensuite, une solution optimale au problème global doit induire des\n",
    "- solutions optimales aux sous-problèmes.\n",
    "- Enfin, il est nécessaire que les sous-problèmes ne soient pas indépendants ."
   ]
  },
  {
   "cell_type": "markdown",
   "id": "19210492",
   "metadata": {},
   "source": [
    "## Démarche de résoluton\n",
    "On retrouvera généralement quatre étapes dans la conception d'une solution optimale en utilisant la technique de programmation dynamique :\n",
    "- Caractériser la structure d'une solution optimale.\n",
    "- Défnir par récurrence la valeur d'une solution optimale.\n",
    "- Calculer la valeur d'une solution optimale par une méthode Top Down ou Bottom Up.\n",
    "- Construire la solution optimale ."
   ]
  },
  {
   "cell_type": "markdown",
   "id": "57e2190a",
   "metadata": {},
   "source": [
    "## Exemple: Problème Sac à Dos.\n",
    "Le problème du Sac à Dos est un problème classique en informatique. Il modélise une situation analogue au remplissage d’un sac. \n",
    "\n",
    "Une personne veut remplir un sac à dos ne pouvant pas supporter plus d’un certain poids $W_{max}\\in \\mathbb{N}$, et elle dispose de n objets On note l’ensemble des objects par $O = \\{1, . . . , n\\}$. \n",
    "\n",
    "Chaque objet i a une valeur $v_ i$ et un poids $w_i$. \n",
    "\n",
    "Le problème est de trouver un ensemble d’objets tels que:\n",
    "- tous les objets de cet ensemble puissent être mis dans le sac.\n",
    "- la somme des valeurs de ces objets soit maximale.\n",
    "\n",
    "Le problème d’optimisation correspond à trouver un sous-ensemble $I$ de $O$ d’objets dont le poids total est inférieure à $W$ et dont la valeur totale $\\Sigma_{i\\in I}v_i $  soit maximum. \n"
   ]
  },
  {
   "cell_type": "code",
   "execution_count": 8,
   "id": "5633a9f5",
   "metadata": {},
   "outputs": [],
   "source": [
    "#exemple\n",
    "# La list des poids\n",
    "WL=[3,9,6,3]\n",
    "#La list des valeurs\n",
    "VL=[4,2,10,9]\n",
    "#le poids maximal\n",
    "Wmax=15\n",
    "#le nombre d'objets\n",
    "n=len(WL)"
   ]
  },
  {
   "cell_type": "code",
   "execution_count": 9,
   "id": "6bb34e9e",
   "metadata": {},
   "outputs": [],
   "source": [
    "S=list(zip(WL,VL))"
   ]
  },
  {
   "cell_type": "code",
   "execution_count": 10,
   "id": "fc47cb09",
   "metadata": {},
   "outputs": [
    {
     "name": "stdout",
     "output_type": "stream",
     "text": [
      "[(3, 4), (9, 2), (6, 10), (3, 9)]\n"
     ]
    },
    {
     "data": {
      "text/plain": [
       "[(3, 9), (6, 10), (3, 4), (9, 2)]"
      ]
     },
     "execution_count": 10,
     "metadata": {},
     "output_type": "execute_result"
    }
   ],
   "source": [
    "print(S)\n",
    "sorted(S,key=lambda e:(e[1]/e[0]),reverse=True)"
   ]
  },
  {
   "cell_type": "code",
   "execution_count": 11,
   "id": "1fdab961",
   "metadata": {},
   "outputs": [],
   "source": [
    "def sacAdos_naive(VL,WL,Wmax):\n",
    "    if len(VL)==0: \n",
    "        return 0\n",
    "    if Wmax==0:\n",
    "        return 0\n",
    "    v,w=VL[-1],WL[-1]\n",
    "    if w<=Wmax:\n",
    "        return max(v+sacAdos_naive(VL[:-1],WL[:-1],Wmax-w),sacAdos_naive(VL[:-1],WL[:-1],Wmax))\n",
    "    return sacAdos_naive(VL[:-1],WL[:-1],Wmax)"
   ]
  },
  {
   "cell_type": "code",
   "execution_count": 12,
   "id": "c6bb94c7",
   "metadata": {},
   "outputs": [],
   "source": [
    "def sacAdos_naive2(k,Wmax):\n",
    "    #La meme chose avec que la précident sauf on prend comme parametre le nombre d'elements de la list et non pas la list\n",
    "    if k==0: \n",
    "        return 0\n",
    "    if Wmax==0:\n",
    "        return 0\n",
    "    v,w=VL[k],WL[k]\n",
    "    if w<=Wmax:\n",
    "        return max(v+sacAdos_naive2(k-1,Wmax-w),sacAdos_naive2(k-1,Wmax))\n",
    "    return sacAdos_naive2(k-1,Wmax)"
   ]
  },
  {
   "cell_type": "code",
   "execution_count": 13,
   "id": "bfa92a94",
   "metadata": {},
   "outputs": [
    {
     "name": "stdout",
     "output_type": "stream",
     "text": [
      "le valeur maximal par la méthode naive est  23\n",
      "le valeur maximal par la méthode naive est  19\n"
     ]
    }
   ],
   "source": [
    "print(\"le valeur maximal par la méthode naive est \",sacAdos_naive(VL,WL,Wmax))\n",
    "print(\"le valeur maximal par la méthode naive est \",sacAdos_naive2(n-1,Wmax))"
   ]
  },
  {
   "cell_type": "markdown",
   "id": "dfe80498",
   "metadata": {},
   "source": [
    "### La solution dynamique avec la programmation dynamique par la méthode Bottom_UP"
   ]
  },
  {
   "cell_type": "markdown",
   "id": "c896d6c8",
   "metadata": {},
   "source": [
    "Pour calculer cette valeur de façon dynamique, nous allons utiliser un tableau bi-dimensionnel de taille $(n + 1) × (W_{max} + 1)$ destiné à contenir les valeurs de $f (k, w)$ pour $k \\in [0, n]$ et $W \\in [0, W_{max}]$.\n",
    "\n",
    "Nous prendrons comme valeurs initiales f (0, W) = f (k, 0) = 0, et notre but est de calculer $f(n, W_{max} )$.\n",
    "\n",
    "Pour remplir ce tableau, il est primordial de respecter l’ordre de dépendance des cases de ce tableau : la case $f (k, W)$ ne peut être calculée que lorsque les cases $f (k-1, W)$ et $f (k -1, W -w_k )$ auront été remplies.\n",
    "![BUSac.png](BUSac.png)\n",
    "<center >Figure – Ordre de dépendance du sac à dos.</center >"
   ]
  },
  {
   "cell_type": "markdown",
   "id": "59c8a732",
   "metadata": {},
   "source": [
    "En considérant que les valeurs $c_k$ et $w_k$ sont données sous forme de tableaux, on en déduit l’algorithme :"
   ]
  },
  {
   "cell_type": "code",
   "execution_count": 14,
   "id": "27fb366c",
   "metadata": {},
   "outputs": [],
   "source": [
    "import numpy as np\n",
    "def sacAdos_Bottom_Up(WL,VL, Wmax):\n",
    "    n=len(VL)\n",
    "    f=np.zeros((n+1,Wmax+1))\n",
    "    for k in range(n):\n",
    "        for w in range(1,Wmax+1):\n",
    "            if WL[k]<=w:\n",
    "                f[k+1,w]=max(VL[k]+f[k,w-WL[k]],f[k,w])\n",
    "            else:\n",
    "                f[k+1,w]=f[k,w]\n",
    "    return f[n,Wmax]\n",
    "    #return f"
   ]
  },
  {
   "cell_type": "code",
   "execution_count": 15,
   "id": "55ccb538",
   "metadata": {},
   "outputs": [
    {
     "name": "stdout",
     "output_type": "stream",
     "text": [
      "le valeur maximal par la méthode bottom up (iteratif) est  23.0\n"
     ]
    }
   ],
   "source": [
    "print(\"le valeur maximal par la méthode bottom up (iteratif) est \",sacAdos_Bottom_Up(WL,VL,Wmax))\n"
   ]
  },
  {
   "cell_type": "markdown",
   "id": "ad96e228",
   "metadata": {},
   "source": [
    "Remarque. Cet algorithme calcule la valeur maximale qui peut être emportée dans le sac, mais pas la façon d’y parvenir. \n",
    "\n",
    "Pour la connaître il faut utiliser le tableau (ou le dictionnaire) calculé par la fonction précédente, et retrouver le chemin qui mène de la case initiale à la case finale.\n",
    "\n",
    "Par exemple, si on modifie la fonction non récursive (la première) pour qu’elle renvoie le tableau f qui a été calculé au lieu de la valeur $f[len(WL), Wmax]$ , le fonction qui détermine les objets à choisir s’écrira :"
   ]
  },
  {
   "cell_type": "code",
   "execution_count": 16,
   "id": "48765ce4",
   "metadata": {},
   "outputs": [],
   "source": [
    "def sacAdos_Bottom_Up_modifié(WL,VL, Wmax):\n",
    "    n=len(VL)\n",
    "    f=np.zeros((n+1,Wmax+1))\n",
    "    for k in range(n):\n",
    "        for w in range(1,Wmax+1):\n",
    "            if WL[k]<=w:\n",
    "                f[k+1,w]=max(VL[k]+f[k,w-WL[k]],f[k,w])\n",
    "            else:\n",
    "                f[k+1,w]=f[k,w]\n",
    "    return f[n,Wmax],f"
   ]
  },
  {
   "cell_type": "code",
   "execution_count": 17,
   "id": "d03a09db",
   "metadata": {},
   "outputs": [],
   "source": [
    "def objetsAchoisir(VL, WL, Wmax):\n",
    "    v,f = sacAdos_Bottom_Up_modifié(VL, WL, Wmax)\n",
    "    sac = []\n",
    "    k, W = len(VL), Wmax\n",
    "    while k > 0:\n",
    "        if f[k, W] > f[k - 1, W]:\n",
    "            sac.append((VL[k - 1], WL[k - 1]))\n",
    "            W -= WL[k - 1]\n",
    "        k -= 1\n",
    "    return v,sac"
   ]
  },
  {
   "cell_type": "code",
   "execution_count": 18,
   "id": "ffdf12df",
   "metadata": {},
   "outputs": [
    {
     "data": {
      "text/plain": [
       "(15.0, [(10, 6), (2, 9)])"
      ]
     },
     "execution_count": 18,
     "metadata": {},
     "output_type": "execute_result"
    }
   ],
   "source": [
    "objetsAchoisir(VL, WL, Wmax)"
   ]
  },
  {
   "cell_type": "markdown",
   "id": "feafb7ef",
   "metadata": {},
   "source": [
    "### La solution dynamique avec la programmation dynamique par la méthode Top_Down"
   ]
  },
  {
   "cell_type": "code",
   "execution_count": 19,
   "id": "ca1d3d7b",
   "metadata": {},
   "outputs": [],
   "source": [
    "def sacAdos_TD(k,Wmax,memo=dict()):\n",
    "    if (k,Wmax) not in memo:\n",
    "        if k==-1: \n",
    "            memo[(k,Wmax)]=0\n",
    "            return memo[k,Wmax]\n",
    "        if Wmax<0:\n",
    "            memo[k,Wmax]=0\n",
    "            return memo[k,Wmax]\n",
    "        v,w=VL[k],WL[k]\n",
    "        if w<=Wmax:\n",
    "            memo[k,Wmax]= max(v+sacAdos_TD(k-1,Wmax-w,memo),sacAdos_TD(k-1,Wmax,memo))\n",
    "        else:\n",
    "            memo[k,Wmax]=sacAdos_TD(k-1,Wmax,memo)\n",
    "    return memo[k,Wmax]"
   ]
  },
  {
   "cell_type": "code",
   "execution_count": 20,
   "id": "9495d92c",
   "metadata": {},
   "outputs": [
    {
     "data": {
      "text/plain": [
       "23"
      ]
     },
     "execution_count": 20,
     "metadata": {},
     "output_type": "execute_result"
    }
   ],
   "source": [
    "sacAdos_TD(n-1,Wmax)"
   ]
  },
  {
   "cell_type": "markdown",
   "id": "e69f2698",
   "metadata": {},
   "source": [
    "### La solution linéaire avec la programmation gloutoune"
   ]
  },
  {
   "cell_type": "markdown",
   "id": "92e9bf1a",
   "metadata": {},
   "source": [
    "\n",
    "![glouton.png](glouton.png)\n",
    "<center>Une illustration des programmations dynamique et gloutonne.</center>"
   ]
  },
  {
   "cell_type": "markdown",
   "id": "2c073983",
   "metadata": {},
   "source": [
    "Pour élaborer un algorithme glouton résolvant le problème, il faut définir une heuristique, ici un critère de\n",
    "priorité pour le choix des objets à prendre.\n",
    "\n",
    " Nous pouvons par exemple choisir en priorité les objets dont le rapport $ \\frac{valeur}{poids}= \\frac{v_i}{w_i}$ est maximal, et remplir le sac tant que c’est possible :"
   ]
  },
  {
   "cell_type": "code",
   "execution_count": 21,
   "id": "340ba50b",
   "metadata": {},
   "outputs": [],
   "source": [
    "def sac_à_dos_glouton(WL,VL,Wmax):\n",
    "    S=sorted([(WL[k],VL[k]) for k in range(len(WL)) ],\n",
    "    key=lambda e:e[1]/e[0],reverse=True)\n",
    "    Sol=[]\n",
    "    w=Wmax\n",
    "    v=0\n",
    "    for o in S:\n",
    "        if o[0]<=w:\n",
    "            Sol.append(o)\n",
    "            v+=o[1]\n",
    "            w-=o[0]\n",
    "    return v,Sol\n",
    "    #return v"
   ]
  },
  {
   "cell_type": "code",
   "execution_count": 22,
   "id": "c4598a6b",
   "metadata": {},
   "outputs": [
    {
     "data": {
      "text/plain": [
       "(23, [(3, 9), (6, 10), (3, 4)])"
      ]
     },
     "execution_count": 22,
     "metadata": {},
     "output_type": "execute_result"
    }
   ],
   "source": [
    "sac_à_dos_glouton(WL,VL,Wmax)"
   ]
  },
  {
   "cell_type": "markdown",
   "id": "811ceac4",
   "metadata": {},
   "source": [
    "Cette fois l'algorithme heristique gloutoun donne la solution optimale, mais ce n'est pas le cas en général\n",
    "\n",
    "Car il donne une solution qui est une proche mais non pas nécessairmet égal à la solution optimal."
   ]
  },
  {
   "cell_type": "markdown",
   "id": "e0923807",
   "metadata": {},
   "source": [
    "Pour évaluer la qualité de cette heuristique, On réalis1000 expériences pour chacune desquelles On :\n",
    "- pris au hasard 100 objets de valeurs comprises entre 1 et 20 et de poids compris entre 1 et 30 ;\n",
    "\n",
    "- calcul la valeur optimale obtenue pour un poids maximal égal à 300 à la fois par l’algorithme glouton\n",
    "ci-dessus et par l’algorithme dynamique que nous étudierons plus loin.\n"
   ]
  },
  {
   "cell_type": "code",
   "execution_count": 23,
   "id": "87778bd5",
   "metadata": {},
   "outputs": [],
   "source": [
    "def fiabilité(glouton,dynamique_bu,samples,number_of_objects):\n",
    "    VLL=np.random.randint(1,20,(samples,number_of_objects))\n",
    "    WLL=np.random.randint(1,30,(samples,number_of_objects))\n",
    "    Wmax=300\n",
    "    glouton_values=[]\n",
    "    dynamique_values=[]\n",
    "    for i in range(samples):\n",
    "        glouton_values.append(glouton(WLL[i],VLL[i],Wmax)[0])\n",
    "        dynamique_values.append(dynamique_bu(WLL[i],VLL[i],  Wmax))\n",
    "    return glouton_values,dynamique_values"
   ]
  },
  {
   "cell_type": "code",
   "execution_count": 24,
   "id": "f67ebaf4",
   "metadata": {},
   "outputs": [
    {
     "data": {
      "text/plain": [
       "48.5"
      ]
     },
     "execution_count": 24,
     "metadata": {},
     "output_type": "execute_result"
    }
   ],
   "source": [
    "g,d=fiabilité(sac_à_dos_glouton,sacAdos_Bottom_Up,200,50)\n",
    "g=np.array(g)\n",
    "d=np.array(d)\n",
    "100*sum(abs(g-d)<0.1)/len(g)"
   ]
  },
  {
   "cell_type": "code",
   "execution_count": 25,
   "id": "8a4211b7",
   "metadata": {},
   "outputs": [],
   "source": [
    "fiab=sum(abs(g-d)<0.1)"
   ]
  },
  {
   "cell_type": "code",
   "execution_count": 26,
   "id": "7fb9a9b9",
   "metadata": {},
   "outputs": [],
   "source": [
    "def grand_écart(g,d):\n",
    "    #l'equivalent au norm sup dans un evn\n",
    "    imax=0\n",
    "    max=d[0]-g[0]\n",
    "    for i in range(len(g)):\n",
    "        ecart=d[i]-g[i]\n",
    "        if max<ecart:\n",
    "            max=ecart\n",
    "            imax=i\n",
    "    return imax\n",
    "i=grand_écart(g,d)"
   ]
  },
  {
   "cell_type": "code",
   "execution_count": 27,
   "id": "276d9382",
   "metadata": {},
   "outputs": [],
   "source": [
    "résultat=\"\"\"Sur les 200 expériences, {} ont donné le même résultat pour chacun des deux algorithmes,\n",
    " et dans le cas des {} autres, l'algorithme glouton a toujours rendu un résultat au moins égal à {}% du résultat de l'algorithme dynamique. \n",
    "On peut donc considérer ici qu'à défaut de donner un résultat toujours exact, l'algorithme glouton donne un résultat acceptable tout en ayant une complexité moindre que l'algorithme dynamique.\n",
    "\"\"\".format(fiab,200-fiab,int((g[i]/d[i])*100))"
   ]
  },
  {
   "cell_type": "code",
   "execution_count": 28,
   "id": "7d5da1ef",
   "metadata": {},
   "outputs": [
    {
     "name": "stdout",
     "output_type": "stream",
     "text": [
      "Sur les 200 expériences, 97 ont donné le même résultat pour chacun des deux algorithmes,\n",
      " et dans le cas des 103 autres, l'algorithme glouton a toujours rendu un résultat au moins égal à 98% du résultat de l'algorithme dynamique. \n",
      "On peut donc considérer ici qu'à défaut de donner un résultat toujours exact, l'algorithme glouton donne un résultat acceptable tout en ayant une complexité moindre que l'algorithme dynamique.\n",
      "\n"
     ]
    }
   ],
   "source": [
    "print(résultat)"
   ]
  }
 ],
 "metadata": {
  "kernelspec": {
   "display_name": "Python 3",
   "language": "python",
   "name": "python3"
  },
  "language_info": {
   "codemirror_mode": {
    "name": "ipython",
    "version": 3
   },
   "file_extension": ".py",
   "mimetype": "text/x-python",
   "name": "python",
   "nbconvert_exporter": "python",
   "pygments_lexer": "ipython3",
   "version": "3.8.8"
  },
  "vscode": {
   "interpreter": {
    "hash": "ae0f79b32b2845dac7e94ce8e1e5e879cbbee5c3210b1fdfbe8967149bf7e5fc"
   }
  }
 },
 "nbformat": 4,
 "nbformat_minor": 5
}