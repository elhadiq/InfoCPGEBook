{
 "cells": [
  {
   "cell_type": "markdown",
   "metadata": {},
   "source": [
    "# Les algorithmes gloutons"
   ]
  },
  {
   "cell_type": "markdown",
   "metadata": {},
   "source": [
    "## Introduction\n",
    "La résolution d’un problème algorithmique peut parfois se faire à l’aide de techniques générales (« paradigmes ») qui ont pour avantage d’etre applicables à un grand nombre de situations. \n",
    "\n",
    "Parmi ces méthodes on peut citer par exemple le fameux principe diviser pour régner ou encore la programmation dynamique. \n",
    "\n",
    "Les algorithmes gloutons, que l’on rencontre principalement pour résoudre des\n",
    "problèmes d’optimisation, constituent l’une de ces techniques générales de résolution.\n",
    "\n",
    "Nous allons tout d’abord donner une définition intuitive de cette méthode, accompagnée de divers exemples. "
   ]
  },
  {
   "cell_type": "markdown",
   "metadata": {},
   "source": [
    "## Définition: Algorithme Heuristiques : \n",
    "- Méthode empiriques simples basées sur l’expérience (résultats déjà obtenus) et sur l’analogie. \n",
    "\n",
    "- Généralement, on n’obtient pas la solution optimale mais une solution approchée."
   ]
  },
  {
   "cell_type": "markdown",
   "metadata": {},
   "source": [
    "## Définition: Algorithme glouton\n",
    "- Un algorithme glouton est un algorithme qui suit le principe de faire, étape par étape, un choix optimum local, dans l’espoir d’obtenir un résultat optimum global\n",
    "\n",
    "- Dans les cas où l’algorithme ne fournit pas systématiquement la solution optimale, il est appelé une heuristique gloutonne \n",
    "\n",
    "- La facon dont on fait le choix est parfois appelée stratégie gloutonne"
   ]
  }
 ],
 "metadata": {
  "kernelspec": {
   "display_name": "Python 3.8.8 ('base')",
   "language": "python",
   "name": "python3"
  },
  "language_info": {
   "name": "python",
   "version": "3.8.8"
  },
  "vscode": {
   "interpreter": {
    "hash": "ae0f79b32b2845dac7e94ce8e1e5e879cbbee5c3210b1fdfbe8967149bf7e5fc"
   }
  }
 },
 "nbformat": 4,
 "nbformat_minor": 2
}