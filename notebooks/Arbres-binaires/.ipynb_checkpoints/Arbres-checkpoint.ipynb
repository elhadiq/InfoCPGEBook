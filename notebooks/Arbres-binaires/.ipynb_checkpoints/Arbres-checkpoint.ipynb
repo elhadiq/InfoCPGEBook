{
 "cells": [
  {
   "cell_type": "markdown",
   "id": "6731a29b",
   "metadata": {
    "slideshow": {
     "slide_type": "slide"
    }
   },
   "source": [
    "# Arbres binaires"
   ]
  },
  {
   "cell_type": "markdown",
   "id": "1e39efc7",
   "metadata": {
    "slideshow": {
     "slide_type": "fragment"
    }
   },
   "source": [
    "### Définition formelle d’un arbre binaire"
   ]
  },
  {
   "cell_type": "markdown",
   "id": "09167838",
   "metadata": {},
   "source": [
    "On appelle arité d’un nœud le nombre de branches qui en partent 3 . Dans la suite de notre cours, nous nous intéresserons plus particulièrement aux arbres binaires, c’est à dire ceux dont chaque nœud a au plus deux fils.</br>\n",
    "Pour ne pas avoir à distinguer les nœuds suivant leur arité, il est pratique d’ajouter à l’ensemble des arbres binaires un arbre particulier appelé l’arbre vide. Ceci conduit à adopter la définition qui suit."
   ]
  },
  {
   "cell_type": "markdown",
   "id": "30ad4ab5",
   "metadata": {},
   "source": [
    "<div class=\"alert alert-success\" >\n",
    "     Un ensemble E étant donné, on définit par induction les arbres binaires étiquetés par E en convenant que :\n",
    "<ul>\n",
    "<li> [  ] : est un arbre binaire sur E appelé l’arbre vide ;\n",
    "<li> si x ∈ E et si Fg et Fd sont deux arbres binaires étiquetés par E, alors A = [x,Fg , Fd ] est un arbre binaire étiqueté par E.\n",
    "</ul>\n",
    "</div>"
   ]
  },
  {
   "cell_type": "markdown",
   "id": "17a47a16",
   "metadata": {},
   "source": [
    "x est l’étiquette de la racine de A ; quant à Fg et Fd , ils sont appelés respectivement le sous-arbre gauche et le sous-arbre droit de l’arbre binaire A.<br>\n",
    "De manière usuelle, on convient de ne pas faire figurer l’arbre vide dans les représentations graphiques des arbres binaires (voir la figure 2). Ainsi, suivant la représentation choisie les feuilles pourront désigner exclusivement l’arbre vide (et dans ce cas tous les nœuds seront d’arité égale à 2) ou alors les nœuds dont les deux fils sont vides (dans ce cas l’arité d’un nœud pourra être égale à 0, 1 ou 2). C’est cette seconde convention qui sera utilisée dans la suite de ce cours."
   ]
  },
  {
   "cell_type": "markdown",
   "id": "a4ebd5c8",
   "metadata": {},
   "source": [
    "**Définition.**<br> La **taille(A)** d’un arbre A est définie inductivement par les relations :\n",
    "> taille([  ]) = 0 ;<br>\n",
    "> Si A = (Fg , x, Fd ) alors taille(A)= 1 + taille(Fg) + taille(Fd)."
   ]
  },
  {
   "cell_type": "markdown",
   "id": "c32dd59f",
   "metadata": {},
   "source": [
    "**Définition.**<br> **La hauteur**: h(A) d’un arbre A se définit inductivement par les relations :\n",
    "> h([ ]) = 0 ;<br>\n",
    "> Si A = (Fg , x, Fd ) alors h(A) = 1 + max(h(Fg ), h(Fd ))."
   ]
  },
  {
   "cell_type": "markdown",
   "id": "f1135c2c",
   "metadata": {},
   "source": [
    "Avec ces conventions, taille(A) est le nombre de nœuds d’un arbre et h(A) la longueur maximale du chemin reliant la racine à une feuille, autrement dit la profondeur maximale d’un nœud.<br>\n",
    "La définition Python de ces fonctions est immédiate :"
   ]
  },
  {
   "cell_type": "code",
   "execution_count": 2,
   "id": "ed96e384",
   "metadata": {},
   "outputs": [],
   "source": [
    "Vide=[]\n",
    "f1=[1,Vide,Vide]\n",
    "f0=[0,[],[]]"
   ]
  },
  {
   "cell_type": "code",
   "execution_count": 3,
   "id": "292659b4",
   "metadata": {},
   "outputs": [],
   "source": [
    "f2=[1,f1,f0]"
   ]
  },
  {
   "cell_type": "code",
   "execution_count": 4,
   "id": "5ab7c29d",
   "metadata": {},
   "outputs": [
    {
     "data": {
      "text/plain": [
       "[1, [1, [], []], [0, [], []]]"
      ]
     },
     "execution_count": 4,
     "metadata": {},
     "output_type": "execute_result"
    }
   ],
   "source": [
    "f2"
   ]
  },
  {
   "cell_type": "code",
   "execution_count": 5,
   "id": "6d8e15f9",
   "metadata": {},
   "outputs": [],
   "source": [
    "def FiboA(n):\n",
    "    if n<=1:\n",
    "        return [n,[],[]]\n",
    "    Fg=FiboA(n-1)\n",
    "    Fd=FiboA(n-2)\n",
    "    racine=Fg[0]+Fd[0]\n",
    "    return [racine,Fg,Fd]"
   ]
  },
  {
   "cell_type": "markdown",
   "id": "b47254e7",
   "metadata": {},
   "source": [
    "![fibtree5.png](fibtree5.png)"
   ]
  },
  {
   "cell_type": "code",
   "execution_count": 6,
   "id": "acc85710",
   "metadata": {},
   "outputs": [
    {
     "data": {
      "text/plain": [
       "[3,\n",
       " [2, [1, [1, [], []], [0, [], []]], [1, [], []]],\n",
       " [1, [1, [], []], [0, [], []]]]"
      ]
     },
     "execution_count": 6,
     "metadata": {},
     "output_type": "execute_result"
    }
   ],
   "source": [
    "FiboA(4)"
   ]
  },
  {
   "cell_type": "code",
   "execution_count": 7,
   "id": "2cd1e376",
   "metadata": {},
   "outputs": [],
   "source": [
    "def nb_noeuds(A):\n",
    "    if A==[]:\n",
    "        return 0\n",
    "    return 1+nb_noeuds(A[1])+nb_noeuds(A[2])"
   ]
  },
  {
   "cell_type": "code",
   "execution_count": 8,
   "id": "7b40a9cc",
   "metadata": {},
   "outputs": [],
   "source": [
    "def hauteur(A):\n",
    "    if A==[]:\n",
    "        return 0\n",
    "    return 1+max(hauteur(A[1]),hauteur(A[2]))"
   ]
  },
  {
   "cell_type": "code",
   "execution_count": 9,
   "id": "b5c333b8",
   "metadata": {},
   "outputs": [
    {
     "data": {
      "text/plain": [
       "4"
      ]
     },
     "execution_count": 9,
     "metadata": {},
     "output_type": "execute_result"
    }
   ],
   "source": [
    "hauteur(FiboA(4))"
   ]
  },
  {
   "cell_type": "code",
   "execution_count": 10,
   "id": "c0ec8a30",
   "metadata": {},
   "outputs": [],
   "source": [
    "def parcour_prefixe(A):\n",
    "    if A==[]:\n",
    "        return []\n",
    "    return [A[0]]+parcour_prefixe(A[1])+parcour_prefixe(A[2])"
   ]
  },
  {
   "cell_type": "code",
   "execution_count": 11,
   "id": "fd43d2fa",
   "metadata": {},
   "outputs": [],
   "source": [
    "def parcour_postfixe(A):\n",
    "    if A==[]:\n",
    "        return []\n",
    "    return parcour_postfixe(A[1])+parcour_postfixe(A[2])+[A[0]]"
   ]
  },
  {
   "cell_type": "code",
   "execution_count": 14,
   "id": "f18ea08b",
   "metadata": {},
   "outputs": [
    {
     "data": {
      "text/plain": [
       "[2, 1, 1, 0, 1]"
      ]
     },
     "execution_count": 14,
     "metadata": {},
     "output_type": "execute_result"
    }
   ],
   "source": [
    "parcour_prefixe(FiboA(3))"
   ]
  },
  {
   "cell_type": "code",
   "execution_count": 23,
   "id": "e3331d18",
   "metadata": {},
   "outputs": [],
   "source": [
    "def parcour_infixe(A):\n",
    "    if A==[]:\n",
    "        return []\n",
    "    return parcour_infixe(A[1])+[A[0]]+parcour_infixe(A[2])"
   ]
  },
  {
   "cell_type": "code",
   "execution_count": 27,
   "id": "2bccfda8",
   "metadata": {},
   "outputs": [
    {
     "name": "stdout",
     "output_type": "stream",
     "text": [
      "prefixe:  [3, 2, 1, 1, 0, 1, 1, 1, 0]\n",
      "postfixe:  [1, 0, 1, 1, 2, 1, 0, 1, 3]\n",
      "infixe:  [1, 1, 0, 2, 1, 3, 1, 1, 0]\n"
     ]
    }
   ],
   "source": [
    "print(\"prefixe: \",parcour_prefixe(F4))\n",
    "print(\"postfixe: \",parcour_postfixe(F4))\n",
    "print(\"infixe: \",parcour_infixe(F4))"
   ]
  },
  {
   "cell_type": "code",
   "execution_count": 18,
   "id": "3bad0a88",
   "metadata": {},
   "outputs": [],
   "source": [
    "def parcour_en_largeur(A):\n",
    "    L1,L2=[A],[]\n",
    "    larg=[]\n",
    "    while L1!=[]:\n",
    "        for E in L1:\n",
    "            if E!=[]:\n",
    "                larg.append(E[0])\n",
    "                L2.extend([E[1],E[2]])\n",
    "        L1=L2\n",
    "        L2=[]\n",
    "    return larg"
   ]
  },
  {
   "cell_type": "code",
   "execution_count": 20,
   "id": "f4a82700",
   "metadata": {},
   "outputs": [
    {
     "data": {
      "text/plain": [
       "[3, 2, 1, 1, 1, 1, 0, 1, 0]"
      ]
     },
     "execution_count": 20,
     "metadata": {},
     "output_type": "execute_result"
    }
   ],
   "source": [
    "parcour_en_largeur(FiboA(4))"
   ]
  },
  {
   "cell_type": "code",
   "execution_count": 21,
   "id": "12edb6eb",
   "metadata": {},
   "outputs": [
    {
     "ename": "NameError",
     "evalue": "name 'taille' is not defined",
     "output_type": "error",
     "traceback": [
      "\u001b[1;31m---------------------------------------------------------------------------\u001b[0m",
      "\u001b[1;31mNameError\u001b[0m                                 Traceback (most recent call last)",
      "Input \u001b[1;32mIn [21]\u001b[0m, in \u001b[0;36m<cell line: 1>\u001b[1;34m()\u001b[0m\n\u001b[1;32m----> 1\u001b[0m \u001b[38;5;28mprint\u001b[39m(\u001b[38;5;124m\"\u001b[39m\u001b[38;5;124mLa taille de F(4) est \u001b[39m\u001b[38;5;132;01m{}\u001b[39;00m\u001b[38;5;124m, et son hauteur est \u001b[39m\u001b[38;5;132;01m{}\u001b[39;00m\u001b[38;5;124m\"\u001b[39m\u001b[38;5;241m.\u001b[39mformat(\u001b[43mtaille\u001b[49m(F5),hauteur(F5)))\n",
      "\u001b[1;31mNameError\u001b[0m: name 'taille' is not defined"
     ]
    }
   ],
   "source": [
    "print(\"La taille de F(4) est {}, et son hauteur est {}\".format(taille(F5),hauteur(F5)))"
   ]
  }
 ],
 "metadata": {
  "kernelspec": {
   "display_name": "Python 3 (ipykernel)",
   "language": "python",
   "name": "python3"
  },
  "language_info": {
   "codemirror_mode": {
    "name": "ipython",
    "version": 3
   },
   "file_extension": ".py",
   "mimetype": "text/x-python",
   "name": "python",
   "nbconvert_exporter": "python",
   "pygments_lexer": "ipython3",
   "version": "3.9.12"
  }
 },
 "nbformat": 4,
 "nbformat_minor": 5
}
