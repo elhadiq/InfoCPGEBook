{
 "cells": [
  {
   "cell_type": "markdown",
   "id": "6731a29b",
   "metadata": {
    "slideshow": {
     "slide_type": "slide"
    }
   },
   "source": [
    "# Arbres binaires"
   ]
  },
  {
   "cell_type": "markdown",
   "id": "1e39efc7",
   "metadata": {
    "slideshow": {
     "slide_type": "fragment"
    }
   },
   "source": [
    "### Définition formelle d’un arbre binaire"
   ]
  },
  {
   "cell_type": "markdown",
   "id": "09167838",
   "metadata": {},
   "source": [
    "On appelle arité d’un nœud le nombre de branches qui en partent 3 . Dans la suite de notre cours, nous nous intéresserons plus particulièrement aux arbres binaires, c’est à dire ceux dont chaque nœud a au plus deux fils.</br>\n",
    "Pour ne pas avoir à distinguer les nœuds suivant leur arité, il est pratique d’ajouter à l’ensemble des arbres binaires un arbre particulier appelé l’arbre vide. Ceci conduit à adopter la définition qui suit."
   ]
  },
  {
   "cell_type": "markdown",
   "id": "30ad4ab5",
   "metadata": {},
   "source": [
    "<div class=\"alert alert-success\" >\n",
    "     Un ensemble E étant donné, on définit par induction les arbres binaires étiquetés par E en convenant que :\n",
    "<ul>\n",
    "<li> [  ] : est un arbre binaire sur E appelé l’arbre vide ;\n",
    "<li> si x ∈ E et si Fg et Fd sont deux arbres binaires étiquetés par E, alors A = [x,Fg , Fd ] est un arbre binaire étiqueté par E.\n",
    "</ul>\n",
    "</div>"
   ]
  },
  {
   "cell_type": "markdown",
   "id": "17a47a16",
   "metadata": {},
   "source": [
    "x est l’étiquette de la racine de A ; quant à Fg et Fd , ils sont appelés respectivement le sous-arbre gauche et le sous-arbre droit de l’arbre binaire A.<br>\n",
    "De manière usuelle, on convient de ne pas faire figurer l’arbre vide dans les représentations graphiques des arbres binaires. Ainsi, suivant la représentation choisie les feuilles pourront désigner exclusivement l’arbre vide (et dans ce cas tous les nœuds seront d’arité égale à 2) ou alors les nœuds dont les deux fils sont vides (dans ce cas l’arité d’un nœud pourra être égale à 0, 1 ou 2). C’est cette seconde convention qui sera utilisée dans la suite de ce cours."
   ]
  },
  {
   "cell_type": "markdown",
   "id": "a4ebd5c8",
   "metadata": {},
   "source": [
    "**Définition.**<br> La **taille(A)** d’un arbre A est définie inductivement par les relations :\n",
    "> taille([  ]) = 0 ;<br>\n",
    "> Si A = (Fg , x, Fd ) alors taille(A)= 1 + taille(Fg) + taille(Fd)."
   ]
  },
  {
   "cell_type": "markdown",
   "id": "c32dd59f",
   "metadata": {},
   "source": [
    "**Définition.**<br> **La hauteur**: h(A) d’un arbre A se définit inductivement par les relations :\n",
    "> h([ ]) = 0 ;<br>\n",
    "> Si A = (Fg , x, Fd ) alors h(A) = 1 + max(h(Fg ), h(Fd ))."
   ]
  },
  {
   "cell_type": "markdown",
   "id": "f1135c2c",
   "metadata": {},
   "source": [
    "Avec ces conventions, taille(A) est le nombre de nœuds d’un arbre et h(A) la longueur maximale du chemin reliant la racine à une feuille, autrement dit la profondeur maximale d’un nœud.<br>\n",
    "La définition Python de ces fonctions est immédiate :"
   ]
  },
  {
   "cell_type": "code",
   "execution_count": 1,
   "id": "ed96e384",
   "metadata": {},
   "outputs": [],
   "source": [
    "Vide=[]\n",
    "f1=[1,Vide,Vide]\n",
    "f0=[0,[],[]]"
   ]
  },
  {
   "cell_type": "code",
   "execution_count": 2,
   "id": "292659b4",
   "metadata": {},
   "outputs": [],
   "source": [
    "f2=[1,f1,f0]"
   ]
  },
  {
   "cell_type": "code",
   "execution_count": 3,
   "id": "5ab7c29d",
   "metadata": {},
   "outputs": [
    {
     "data": {
      "text/plain": [
       "[1, [1, [], []], [0, [], []]]"
      ]
     },
     "execution_count": 3,
     "metadata": {},
     "output_type": "execute_result"
    }
   ],
   "source": [
    "f2"
   ]
  },
  {
   "cell_type": "code",
   "execution_count": 4,
   "id": "6d8e15f9",
   "metadata": {},
   "outputs": [],
   "source": [
    "def FiboA(n):\n",
    "    if n<=1:\n",
    "        return [n,[],[]]\n",
    "    Fg=FiboA(n-1)\n",
    "    Fd=FiboA(n-2)\n",
    "    racine=Fg[0]+Fd[0]\n",
    "    return [racine,Fg,Fd]"
   ]
  },
  {
   "cell_type": "markdown",
   "id": "b47254e7",
   "metadata": {},
   "source": [
    "![fibtree5.png](fibtree5.png)"
   ]
  },
  {
   "cell_type": "code",
   "execution_count": 5,
   "id": "acc85710",
   "metadata": {},
   "outputs": [],
   "source": [
    "F4=FiboA(4)"
   ]
  },
  {
   "cell_type": "code",
   "execution_count": 6,
   "id": "2cd1e376",
   "metadata": {},
   "outputs": [],
   "source": [
    "def taille(A):\n",
    "    if A==[]:\n",
    "        return 0\n",
    "    return 1+taille(A[1])+taille(A[2])"
   ]
  },
  {
   "cell_type": "code",
   "execution_count": 7,
   "id": "7b40a9cc",
   "metadata": {},
   "outputs": [],
   "source": [
    "def hauteur(A):\n",
    "    if A==[]:\n",
    "        return 0\n",
    "    return 1+max(hauteur(A[1]),hauteur(A[2]))"
   ]
  },
  {
   "cell_type": "code",
   "execution_count": 8,
   "id": "b5c333b8",
   "metadata": {},
   "outputs": [
    {
     "data": {
      "text/plain": [
       "4"
      ]
     },
     "execution_count": 8,
     "metadata": {},
     "output_type": "execute_result"
    }
   ],
   "source": [
    "hauteur(F4)"
   ]
  },
  {
   "cell_type": "code",
   "execution_count": 9,
   "id": "c0ec8a30",
   "metadata": {},
   "outputs": [],
   "source": [
    "def parcour_prefixe(A):\n",
    "    if A==[]:\n",
    "        return []\n",
    "    return [A[0]]+parcour_prefixe(A[1])+parcour_prefixe(A[2])"
   ]
  },
  {
   "cell_type": "code",
   "execution_count": 10,
   "id": "fd43d2fa",
   "metadata": {},
   "outputs": [],
   "source": [
    "def parcour_postfixe(A):\n",
    "    if A==[]:\n",
    "        return []\n",
    "    return parcour_postfixe(A[1])+parcour_postfixe(A[2])+[A[0]]"
   ]
  },
  {
   "cell_type": "code",
   "execution_count": 11,
   "id": "f18ea08b",
   "metadata": {},
   "outputs": [
    {
     "data": {
      "text/plain": [
       "[3, 2, 1, 1, 0, 1, 1, 1, 0]"
      ]
     },
     "execution_count": 11,
     "metadata": {},
     "output_type": "execute_result"
    }
   ],
   "source": [
    "parcour_prefixe(F4)"
   ]
  },
  {
   "cell_type": "code",
   "execution_count": 12,
   "id": "e3331d18",
   "metadata": {},
   "outputs": [],
   "source": [
    "def parcour_infixe(A):\n",
    "    if A==[]:\n",
    "        return []\n",
    "    return parcour_infixe(A[1])+[A[0]]+parcour_infixe(A[2])"
   ]
  },
  {
   "cell_type": "code",
   "execution_count": 13,
   "id": "2bccfda8",
   "metadata": {},
   "outputs": [
    {
     "name": "stdout",
     "output_type": "stream",
     "text": [
      "prefixe:  [3, 2, 1, 1, 0, 1, 1, 1, 0]\n",
      "postfixe:  [1, 0, 1, 1, 2, 1, 0, 1, 3]\n",
      "infixe:  [1, 1, 0, 2, 1, 3, 1, 1, 0]\n"
     ]
    }
   ],
   "source": [
    "print(\"prefixe: \",parcour_prefixe(F4))\n",
    "print(\"postfixe: \",parcour_postfixe(F4))\n",
    "print(\"infixe: \",parcour_infixe(F4))"
   ]
  },
  {
   "cell_type": "code",
   "execution_count": 14,
   "id": "3bad0a88",
   "metadata": {},
   "outputs": [],
   "source": [
    "def parcour_en_largeur(A):\n",
    "    L1,L2=[A],[]\n",
    "    larg=[]\n",
    "    while L1!=[]:\n",
    "        for E in L1:\n",
    "            if E!=[]:\n",
    "                larg.append(E[0])\n",
    "                L2.extend([E[1],E[2]])\n",
    "        L1=L2\n",
    "        L2=[]\n",
    "    return larg"
   ]
  },
  {
   "cell_type": "code",
   "execution_count": 15,
   "id": "f4a82700",
   "metadata": {},
   "outputs": [
    {
     "data": {
      "text/plain": [
       "[3, 2, 1, 1, 1, 1, 0, 1, 0]"
      ]
     },
     "execution_count": 15,
     "metadata": {},
     "output_type": "execute_result"
    }
   ],
   "source": [
    "parcour_en_largeur(FiboA(4))"
   ]
  },
  {
   "cell_type": "code",
   "execution_count": 16,
   "id": "12edb6eb",
   "metadata": {
    "scrolled": true
   },
   "outputs": [
    {
     "name": "stdout",
     "output_type": "stream",
     "text": [
      "La taille de F(4) est 9, et son hauteur est 4\n"
     ]
    }
   ],
   "source": [
    "print(\"La taille de F(4) est {}, et son hauteur est {}\".format(taille(F4),hauteur(F4)))"
   ]
  }
 ],
 "metadata": {
  "kernelspec": {
   "display_name": "base",
   "language": "python",
   "name": "python3"
  },
  "language_info": {
   "codemirror_mode": {
    "name": "ipython",
    "version": 3
   },
   "file_extension": ".py",
   "mimetype": "text/x-python",
   "name": "python",
   "nbconvert_exporter": "python",
   "pygments_lexer": "ipython3",
   "version": "3.8.8"
  },
  "vscode": {
   "interpreter": {
    "hash": "ae0f79b32b2845dac7e94ce8e1e5e879cbbee5c3210b1fdfbe8967149bf7e5fc"
   }
  }
 },
 "nbformat": 4,
 "nbformat_minor": 5
}
