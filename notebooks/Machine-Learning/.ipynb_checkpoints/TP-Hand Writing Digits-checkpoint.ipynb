{
 "cells": [
  {
   "cell_type": "code",
   "execution_count": 1,
   "metadata": {},
   "outputs": [],
   "source": [
    "from sklearn.datasets import fetch_openml\n",
    "mnist = fetch_openml('mnist_784', version=1)"
   ]
  },
  {
   "cell_type": "code",
   "execution_count": 2,
   "metadata": {},
   "outputs": [
    {
     "name": "stdout",
     "output_type": "stream",
     "text": [
      "(70000, 784)\n",
      "(70000,)\n"
     ]
    }
   ],
   "source": [
    "# Le dataset principal qui contient toutes les images\n",
    "print (mnist.data.shape)\n",
    "\n",
    "# Le vecteur d'annotations associé au dataset (nombre entre 0 et 9)\n",
    "print (mnist.target.shape)"
   ]
  },
  {
   "cell_type": "code",
   "execution_count": 26,
   "metadata": {},
   "outputs": [],
   "source": [
    "import numpy as np\n",
    "\n",
    "sample = np.random.randint(70000, size=1000)\n",
    "data = mnist.data.iloc[sample]\n",
    "target = mnist.target.iloc[sample]"
   ]
  },
  {
   "cell_type": "code",
   "execution_count": 27,
   "metadata": {},
   "outputs": [],
   "source": [
    "from sklearn.model_selection import train_test_split\n",
    "\n",
    "xtrain, xtest, ytrain, ytest = train_test_split(data, target, train_size=0.8)"
   ]
  },
  {
   "cell_type": "code",
   "execution_count": 28,
   "metadata": {},
   "outputs": [],
   "source": [
    "xtrain=xtrain.values\n",
    "xtest=xtest.values\n",
    "ytrain=ytrain.values\n",
    "ytest=ytest.values\n"
   ]
  },
  {
   "cell_type": "code",
   "execution_count": 29,
   "metadata": {},
   "outputs": [],
   "source": [
    "from MyKNNLIB import *"
   ]
  },
  {
   "cell_type": "code",
   "execution_count": 30,
   "metadata": {},
   "outputs": [
    {
     "name": "stdout",
     "output_type": "stream",
     "text": [
      "[[14.  1.  0.  1.  1.  1.  0.  0.  3.  0.]\n",
      " [ 0. 24.  0.  0.  0.  0.  0.  0.  2.  2.]\n",
      " [ 0.  0. 13.  0.  0.  0.  0.  0.  1.  1.]\n",
      " [ 0.  3.  0. 15.  0.  0.  0.  0.  0.  0.]\n",
      " [ 0.  0.  0.  0. 13.  0.  0.  2.  1.  0.]\n",
      " [ 3.  0.  0.  0.  0. 17.  0.  0.  0.  1.]\n",
      " [ 0.  1.  0.  0.  0.  3.  9.  0.  1.  0.]\n",
      " [ 0.  0.  0.  0.  0.  0.  1. 25.  0.  0.]\n",
      " [ 0.  0.  0.  0.  0.  0.  0.  0. 26.  0.]\n",
      " [ 0.  0.  0.  0.  0.  0.  0.  0.  2. 13.]]\n"
     ]
    }
   ],
   "source": [
    "matrice=ConfusionMatrix(xtest,ytest,(xtrain,ytrain,d1,11))\n",
    "print(matrice)"
   ]
  },
  {
   "cell_type": "code",
   "execution_count": null,
   "metadata": {},
   "outputs": [],
   "source": []
  }
 ],
 "metadata": {
  "kernelspec": {
   "display_name": "Python 3",
   "language": "python",
   "name": "python3"
  },
  "language_info": {
   "codemirror_mode": {
    "name": "ipython",
    "version": 3
   },
   "file_extension": ".py",
   "mimetype": "text/x-python",
   "name": "python",
   "nbconvert_exporter": "python",
   "pygments_lexer": "ipython3",
   "version": "3.8.8"
  },
  "vscode": {
   "interpreter": {
    "hash": "ae0f79b32b2845dac7e94ce8e1e5e879cbbee5c3210b1fdfbe8967149bf7e5fc"
   }
  }
 },
 "nbformat": 4,
 "nbformat_minor": 2
}
